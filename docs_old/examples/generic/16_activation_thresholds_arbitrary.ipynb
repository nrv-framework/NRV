{
 "cells": [
  {
   "cell_type": "markdown",
   "metadata": {},
   "source": [
    "Activation thresholds with arbitrary settings\n",
    "=============================================\n",
    "\n",
    "This script shows how to use the ``axon_AP_threshold()`` function to evaluate axon thresholds with various stimulation waveforms."
   ]
  },
  {
   "cell_type": "code",
   "execution_count": 1,
   "metadata": {},
   "outputs": [
    {
     "name": "stdout",
     "output_type": "stream",
     "text": [
      "NRV INFO: Iteration 1, Amp is 300µA ...\n",
      "\u001b[1A\u001b[2KNRV INFO: Iteration 1, Amp is 300µA (100.0%)... AP Detected! (in 1.545s)\n",
      "\u001b[1A\u001b[2KNRV INFO: Iteration 2, Amp is 0µA (100.0%)... AP Not Detected! (in 1.48s)\n",
      "\u001b[1A\u001b[2KNRV INFO: Iteration 3, Amp is 150.0µA (100.0%)... AP Not Detected! (in 1.511s)\n",
      "\u001b[1A\u001b[2KNRV INFO: Iteration 4, Amp is 225.0µA (33.33%)... AP Detected! (in 1.592s)\n",
      "\u001b[1A\u001b[2KNRV INFO: Iteration 5, Amp is 187.5µA (16.67%)... AP Detected! (in 1.468s)\n",
      "\u001b[1A\u001b[2KNRV INFO: Iteration 6, Amp is 168.75µA (10.0%)... AP Not Detected! (in 1.574s)\n",
      "\u001b[1A\u001b[2KNRV INFO: Iteration 7, Amp is 178.12µA (5.26%)... AP Not Detected! (in 1.452s)\n",
      "\u001b[1A\u001b[2KNRV INFO: Iteration 8, Amp is 182.81µA (2.56%)... AP Not Detected! (in 1.44s)\n",
      "\u001b[1A\u001b[2KNRV INFO: Iteration 9, Amp is 185.16µA (1.27%)... AP Not Detected! (in 1.458s)\n",
      "\u001b[1A\u001b[2KNRV INFO: Iteration 10, Amp is 186.33µA (0.63%)... AP Not Detected! (in 1.54s)\n",
      "\u001b[1A\u001b[2KNRV INFO: Activation threshold is 186.91µA (0.63%), found in 10 iterations (15.49s).\n",
      "NRV INFO: Iteration 1, Amp is 300µA ...\n",
      "\u001b[1A\u001b[2KNRV INFO: Iteration 1, Amp is 300µA (100.0%)... AP Detected! (in 1.727s)\n",
      "\u001b[1A\u001b[2KNRV INFO: Iteration 2, Amp is 0µA (100.0%)... AP Not Detected! (in 1.556s)\n",
      "\u001b[1A\u001b[2KNRV INFO: Iteration 3, Amp is 150.0µA (100.0%)... AP Not Detected! (in 1.439s)\n",
      "\u001b[1A\u001b[2KNRV INFO: Iteration 4, Amp is 225.0µA (33.33%)... AP Detected! (in 1.445s)\n",
      "\u001b[1A\u001b[2KNRV INFO: Iteration 5, Amp is 187.5µA (16.67%)... AP Not Detected! (in 1.572s)\n",
      "\u001b[1A\u001b[2KNRV INFO: Iteration 6, Amp is 206.25µA (9.09%)... AP Detected! (in 1.598s)\n",
      "\u001b[1A\u001b[2KNRV INFO: Iteration 7, Amp is 196.88µA (4.55%)... AP Detected! (in 1.484s)\n",
      "\u001b[1A\u001b[2KNRV INFO: Iteration 8, Amp is 192.19µA (2.38%)... AP Not Detected! (in 1.715s)\n",
      "\u001b[1A\u001b[2KNRV INFO: Iteration 9, Amp is 194.53µA (1.2%)... AP Not Detected! (in 1.602s)\n",
      "\u001b[1A\u001b[2KNRV INFO: Iteration 10, Amp is 195.7µA (0.6%)... AP Not Detected! (in 1.495s)\n",
      "\u001b[1A\u001b[2KNRV INFO: Activation threshold is 196.29µA (0.6%), found in 10 iterations (15.98s).\n",
      "NRV INFO: Iteration 1, Amp is 300µA ...\n",
      "\u001b[1A\u001b[2KNRV INFO: Iteration 1, Amp is 300µA (100.0%)... AP Detected! (in 1.662s)\n",
      "\u001b[1A\u001b[2KNRV INFO: Iteration 2, Amp is 0µA (100.0%)... AP Not Detected! (in 1.897s)\n",
      "\u001b[1A\u001b[2KNRV INFO: Iteration 3, Amp is 150.0µA (100.0%)... AP Not Detected! (in 1.527s)\n",
      "\u001b[1A\u001b[2KNRV INFO: Iteration 4, Amp is 225.0µA (33.33%)... AP Not Detected! (in 1.527s)\n",
      "\u001b[1A\u001b[2KNRV INFO: Iteration 5, Amp is 262.5µA (14.29%)... AP Not Detected! (in 1.459s)\n",
      "\u001b[1A\u001b[2KNRV INFO: Iteration 6, Amp is 281.25µA (6.67%)... AP Detected! (in 1.527s)\n",
      "\u001b[1A\u001b[2KNRV INFO: Iteration 7, Amp is 271.88µA (3.33%)... AP Detected! (in 1.54s)\n",
      "\u001b[1A\u001b[2KNRV INFO: Iteration 8, Amp is 267.19µA (1.72%)... AP Detected! (in 1.479s)\n",
      "\u001b[1A\u001b[2KNRV INFO: Iteration 9, Amp is 264.84µA (0.88%)... AP Not Detected! (in 1.493s)\n",
      "\u001b[1A\u001b[2KNRV INFO: Activation threshold is 266.02µA (0.88%), found in 9 iterations (14.43s).\n"
     ]
    }
   ],
   "source": [
    "import sys \n",
    "sys.path.append(\"../../../\")     #data path\n",
    "import nrv\n",
    "import matplotlib.pyplot as plt\n",
    "\n",
    "#Update function for cathodic (monopolar) pulse\n",
    "def cath_pulse_update(axon,amp, pw, start_p = 1, elec_id = 0):\n",
    "    stim_1 = nrv.stimulus()\n",
    "    stim_1.pulse(start=start_p, duration=pw, value = -amp)\n",
    "    axon.change_stimulus_from_electrode(elec_id, stim_1)\n",
    "\n",
    "#Update function for biphasic pulse\n",
    "def biphasic_pulse_update(axon,amp, pw, start_p = 1, elec_id = 0,t_inter=50e-3):\n",
    "    stim_1 = nrv.stimulus()\n",
    "    stim_1.biphasic_pulse(start = start_p, s_anod=amp,t_stim=pw,s_cathod=amp,t_inter=t_inter)\n",
    "    axon.change_stimulus_from_electrode(elec_id, stim_1)\n",
    "\n",
    "#Update function for cathodic sine pulse\n",
    "def cath_sine_pulse_update(axon,amp, pw, start_p = 1, elec_id = 0):\n",
    "    stim_1 = nrv.stimulus()\n",
    "    freq = 1/(2*pw)\n",
    "    stim_1.sinus(start_p, pw, amp, freq, offset=0, phase=180, dt=0)\n",
    "    axon.change_stimulus_from_electrode(elec_id, stim_1)\n",
    "\n",
    "if __name__ == '__main__':\n",
    "    # axon def\n",
    "    y = 0                                               # axon y position, in [um]\n",
    "    z = 0                                               # axon z position, in [um]\n",
    "    d = 10                                              # axon diameter, in [um]\n",
    "    L = 50_000                                  # axon length, along x axis, in [um]\n",
    "    axon1 = nrv.myelinated(y,z,d,L,T=37,rec='nodes',dt=0.001)\n",
    "\n",
    "    #electrode\n",
    "    n_node = len(axon1.x_nodes)\n",
    "    x_elec = axon1.x_nodes[n_node//2]\n",
    "    y_elec = 1000\n",
    "    z_elec = 0\n",
    "    PSA = nrv.point_source_electrode(x_elec,y_elec,z_elec)\n",
    "    stim1 = nrv.stimulus() #dummy stim\n",
    "\n",
    "    ### define extra cellular stimulation\n",
    "    extra_stim = nrv.stimulation('endoneurium_bhadra')\n",
    "    extra_stim.add_electrode(PSA, stim1)\n",
    "    axon1.attach_extracellular_stimulation(extra_stim)\n",
    "\n",
    "    #parameters for the waveforms\n",
    "    arg_stim = {'pw':50e-3, 'elec_id':0, 'start_p':1}\n",
    "    max_amp = 300 #maximum search boundary\n",
    "\n",
    "    threshold_pulse = nrv.axon_AP_threshold(axon = axon1,amp_max = max_amp,\n",
    "                                            update_func = cath_pulse_update, args_update=arg_stim)\n",
    "    threshold_biphasic = nrv.axon_AP_threshold(axon = axon1,amp_max = max_amp,\n",
    "                                            update_func = biphasic_pulse_update, args_update=arg_stim)\n",
    "    threshold_sine = nrv.axon_AP_threshold(axon = axon1,amp_max = max_amp,\n",
    "                                            update_func = cath_sine_pulse_update, args_update=arg_stim)\n",
    "\n"
   ]
  },
  {
   "cell_type": "code",
   "execution_count": 2,
   "metadata": {},
   "outputs": [
    {
     "data": {
      "text/plain": [
       "<matplotlib.legend.Legend at 0x14541fb90>"
      ]
     },
     "execution_count": 2,
     "metadata": {},
     "output_type": "execute_result"
    },
    {
     "data": {
      "image/png": "[encoded data removed]",
      "text/plain": [
       "<Figure size 640x480 with 1 Axes>"
      ]
     },
     "metadata": {},
     "output_type": "display_data"
    }
   ],
   "source": [
    "plt.plot([0.25], [threshold_pulse], \"s\", markersize=10, label=\"pulse\", color=\"c\")\n",
    "plt.plot([1.25], [threshold_biphasic], \"s\", markersize=10, label=\"biphasic\", color=\"orange\")\n",
    "plt.plot([2.25], [threshold_sine], \"s\", markersize=10, label=\"sine\", color=\"limegreen\")\n",
    "plt.fill_between([0, 0.5], [threshold_pulse, threshold_pulse], 0, color=\"c\")\n",
    "plt.fill_between([1,1.5], [threshold_biphasic, threshold_biphasic], 0, color=\"orange\")\n",
    "plt.fill_between([2, 2.5], [threshold_sine, threshold_sine], 0, color=\"limegreen\")\n",
    "plt.xticks([])\n",
    "plt.xlabel(\"stimulus type\")\n",
    "plt.ylabel(\"amplitude $\\mu m$\")\n",
    "plt.legend()\n"
   ]
  }
 ],
 "metadata": {
  "kernelspec": {
   "display_name": "nrvd",
   "language": "python",
   "name": "python3"
  },
  "language_info": {
   "codemirror_mode": {
    "name": "ipython",
    "version": 3
   },
   "file_extension": ".py",
   "mimetype": "text/x-python",
   "name": "python",
   "nbconvert_exporter": "python",
   "pygments_lexer": "ipython3",
   "version": "3.12.10"
  }
 },
 "nbformat": 4,
 "nbformat_minor": 2
}
