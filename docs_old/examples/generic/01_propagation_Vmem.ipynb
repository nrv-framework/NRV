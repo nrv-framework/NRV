{
 "cells": [
  {
   "cell_type": "markdown",
   "metadata": {},
   "source": [
    "Propagation of spike along the axon\n",
    "===================================\n",
    "\n",
    "This code performs basic simulation showing the propagation of action potential along axons for both unmyelinated and myelinated (saltatory conduction) fibers."
   ]
  },
  {
   "cell_type": "code",
   "execution_count": null,
   "metadata": {
    "execution": {
     "iopub.execute_input": "2024-07-23T08:51:06.220298Z",
     "iopub.status.busy": "2024-07-23T08:51:06.219009Z",
     "iopub.status.idle": "2024-07-23T08:51:09.975474Z",
     "shell.execute_reply": "2024-07-23T08:51:09.974719Z"
    }
   },
   "outputs": [
    {
     "ename": "ModuleNotFoundError",
     "evalue": "No module named 'nrv'",
     "output_type": "error",
     "traceback": [
      "\u001b[31m---------------------------------------------------------------------------\u001b[39m",
      "\u001b[31mModuleNotFoundError\u001b[39m                       Traceback (most recent call last)",
      "\u001b[36mCell\u001b[39m\u001b[36m \u001b[39m\u001b[32mIn[1]\u001b[39m\u001b[32m, line 1\u001b[39m\n\u001b[32m----> \u001b[39m\u001b[32m1\u001b[39m \u001b[38;5;28;01mimport\u001b[39;00m\u001b[38;5;250m \u001b[39m\u001b[34;01mnrv\u001b[39;00m\n\u001b[32m      2\u001b[39m \u001b[38;5;28;01mimport\u001b[39;00m\u001b[38;5;250m \u001b[39m\u001b[34;01mmatplotlib\u001b[39;00m\u001b[34;01m.\u001b[39;00m\u001b[34;01mpyplot\u001b[39;00m\u001b[38;5;250m \u001b[39m\u001b[38;5;28;01mas\u001b[39;00m\u001b[38;5;250m \u001b[39m\u001b[34;01mplt\u001b[39;00m\n\u001b[32m      4\u001b[39m \u001b[38;5;28;01mif\u001b[39;00m \u001b[34m__name__\u001b[39m == \u001b[33m'\u001b[39m\u001b[33m__main__\u001b[39m\u001b[33m'\u001b[39m:\n\u001b[32m      5\u001b[39m \n\u001b[32m      6\u001b[39m     \u001b[38;5;66;03m# axon def\u001b[39;00m\n",
      "\u001b[31mModuleNotFoundError\u001b[39m: No module named 'nrv'"
     ]
    }
   ],
   "source": [
    "import sys\n",
    "sys.path.append(\"../../\")\n",
    "\n",
    "import nrv\n",
    "import matplotlib.pyplot as plt\n",
    "\n",
    "if __name__ == '__main__':\n",
    "\n",
    "    # axon def\n",
    "    y = 0\t\t\t\t\t\t# axon y position, in [um]\n",
    "    z = 0\t\t\t\t\t\t# axon z position, in [um]\n",
    "    d = 6\t\t\t\t\t\t# axon diameter, in [um]\n",
    "    L = 5000\t\t\t\t\t# axon length, along x axis, in [um]\n",
    "    axon1 = nrv.myelinated(y,z,d,L,rec='all')\n",
    "\n",
    "    t_start = 0.1\n",
    "    duration = 0.5\n",
    "    amplitude = 0.35\n",
    "\n",
    "    amplitude = 0.195\n",
    "    axon2 = nrv.unmyelinated(y,z,d,L,dt=0.001,Nrec=2000)\n",
    "    axon1.insert_I_Clamp(0, t_start, duration, amplitude)\n",
    "\n",
    "    amplitude = 10\n",
    "    axon2.insert_I_Clamp(0, t_start, duration, amplitude)\n",
    "\n",
    "\n",
    "    results = axon1.simulate(t_sim=4.5)\n",
    "    del axon1\n",
    "\n",
    "    fig, ax = plt.subplots(1)\n",
    "    cbar = results.colormap_plot(ax, \"V_mem\")\n",
    "    ax.set_xlabel('Time (ms)')\n",
    "    ax.set_ylabel('x-position (µm)')\n",
    "    ax.set_title('propagation along myelinated fiber')\n",
    "    cbar.set_label(r'Membrane Voltage $V_m$ (mV)')\n",
    "\n",
    "    results = axon2.simulate(t_sim=4.5)\n",
    "    #nrv.rasterize(results,'V_mem')\n",
    "    del axon2\n",
    "\n",
    "    fig, ax = plt.subplots(1)\n",
    "    cbar = results.colormap_plot(ax, \"V_mem\")\n",
    "    ax.set_xlabel('Time (ms)')\n",
    "    ax.set_ylabel('x-position (µm)')\n",
    "    ax.set_title('propagation along unmyelinated fiber')\n",
    "    cbar.set_label(r'Membrane Voltage $V_m$ (mV)')\n",
    "    #plt.show()"
   ]
  }
 ],
 "metadata": {
  "kernelspec": {
   "display_name": "nrvd",
   "language": "python",
   "name": "python3"
  },
  "language_info": {
   "codemirror_mode": {
    "name": "ipython",
    "version": 3
   },
   "file_extension": ".py",
   "mimetype": "text/x-python",
   "name": "python",
   "nbconvert_exporter": "python",
   "pygments_lexer": "ipython3",
   "version": "3.12.10"
  }
 },
 "nbformat": 4,
 "nbformat_minor": 2
}
