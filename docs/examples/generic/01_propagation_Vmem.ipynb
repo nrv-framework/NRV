{
  "cells": [
    {
      "cell_type": "markdown",
      "metadata": {},
      "source": [
        "\n# Propagation of spike along the axon\n\nThis code performs basic simulation showing the propagation of action potential along axons for both unmyelinated and myelinated (saltatory conduction) fibers.\n"
      ]
    },
    {
      "cell_type": "code",
      "execution_count": null,
      "metadata": {
        "collapsed": false
      },
      "outputs": [],
      "source": [
        "import sys\nsys.path.append(\"../../\")\n\nimport nrv\nimport matplotlib.pyplot as plt\n\nif __name__ == '__main__':\n\n    # axon def\n    y = 0\t\t\t\t\t\t# axon y position, in [um]\n    z = 0\t\t\t\t\t\t# axon z position, in [um]\n    d = 6\t\t\t\t\t\t# axon diameter, in [um]\n    L = 5000\t\t\t\t\t# axon length, along x axis, in [um]\n    axon1 = nrv.myelinated(y,z,d,L,rec='all')\n\n    t_start = 0.1\n    duration = 0.5\n    amplitude = 0.35\n\n    amplitude = 0.195\n    axon2 = nrv.unmyelinated(y,z,d,L,dt=0.001,Nrec=2000)\n    axon1.insert_I_Clamp(0, t_start, duration, amplitude)\n\n    amplitude = 10\n    axon2.insert_I_Clamp(0, t_start, duration, amplitude)\n\n\n    results = axon1.simulate(t_sim=4.5)\n    del axon1\n\n    fig, ax = plt.subplots(1)\n    cbar = results.colormap_plot(ax, \"V_mem\")\n    ax.set_xlabel('Time (ms)')\n    ax.set_ylabel('x-position (\u00b5m)')\n    ax.set_title('propagation along myelinated fiber')\n    cbar.set_label(r'Membrane Voltage $V_m$ (mV)')\n\n    results = axon2.simulate(t_sim=4.5)\n    #nrv.rasterize(results,'V_mem')\n    del axon2\n\n    fig, ax = plt.subplots(1)\n    cbar = results.colormap_plot(ax, \"V_mem\")\n    ax.set_xlabel('Time (ms)')\n    ax.set_ylabel('x-position (\u00b5m)')\n    ax.set_title('propagation along unmyelinated fiber')\n    cbar.set_label(r'Membrane Voltage $V_m$ (mV)')\n    plt.show()"
      ]
    }
  ],
  "metadata": {
    "kernelspec": {
      "display_name": "Python 3",
      "language": "python",
      "name": "python3"
    },
    "language_info": {
      "codemirror_mode": {
        "name": "ipython",
        "version": 3
      },
      "file_extension": ".py",
      "mimetype": "text/x-python",
      "name": "python",
      "nbconvert_exporter": "python",
      "pygments_lexer": "ipython3",
      "version": "3.12.10"
    }
  },
  "nbformat": 4,
  "nbformat_minor": 0
}