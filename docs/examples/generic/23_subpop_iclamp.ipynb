{
  "cells": [
    {
      "cell_type": "markdown",
      "metadata": {},
      "source": [
        "\n# Intracellular stimulation of axon subpopulations\n\nExample of use of subpopulation for axon species targeted current clamp.\n\nThis example shows:\n    - Creating a nerve with fascicles of various geometries.\n    - Filling fascicles with axon populations.\n    - Selecting subpopulations using expressions or masks.\n    - Applying IClamp to specific subpopulations.\n    - Running a simulation and plotting recruited fibers.\n\n.. seealso::\n    - :doc:`Simulable <../../usersguide/populations>`, :doc:`Axon population <../../usersguide/populations>` and :doc:`Geometry <../../usersguide/geometry>` Users' guides.\n    \n     - :doc:`Tutorial 4 <../../tutorials/4_nerve_simulation>`\n"
      ]
    },
    {
      "cell_type": "code",
      "execution_count": null,
      "metadata": {
        "collapsed": false
      },
      "outputs": [],
      "source": [
        "import nrv\nimport numpy as np\nimport matplotlib.pyplot as plt\n\nif __name__ == '__main__':\n    # --- Nerve and Fascicle Setup ---\n    ner = nrv.nerve(length=5000, diameter=500, Outer_D=5)\n\n    # Fascicle 1: Circle\n    fasc1 = nrv.fascicle(diameter=200, ID=1)\n    fasc1_y, fasc1_z = -100, -60\n    ner.add_fascicle(fasc1, y=fasc1_y, z=fasc1_z)\n\n    # Fascicle 2: Ellipse\n    fasc2 = nrv.fascicle(ID=2)\n    fasc2.set_geometry(diameter=(120, 60), rot=30, degree=True)\n    fasc2_y, fasc2_z = 100, -70\n    ner.add_fascicle(fasc2, y=fasc2_y, z=fasc2_z)\n\n    # Fascicle 3: Polygon\n    vertices = [(-80, 130), (0, 180), (80, 130), (50, 30), (0, -30), (-50, 30)]\n    fasc3 = nrv.fascicle(ID=3)\n    fasc3.set_geometry(geometry=nrv.create_cshape(vertices=vertices))\n    fasc3_y, fasc3_z = 0, 100\n    ner.add_fascicle(fasc3, y=fasc3_y, z=fasc3_z, rot=-np.pi/6)\n\n    # --- Fill fascicles with axon populations ---\n    n_ax = 200\n    for fasc in ner.fascicles.values():\n        fasc.fill(n_ax=n_ax, percent_unmyel=0.7, delta=2)\n\n    # --- Plot nerve ---\n    fig, ax = plt.subplots(figsize=(7, 7))\n    ner.plot(ax)\n\n    # --- Select subpopulations and apply IClamp ---\n    # Example: stimulate only large-diameter axons in fascicle 1, and only unmyelinated in fascicle 3\n    i_pos = 0.5\n    i_start = 0.2\n    i_dur = 0.5\n    i_amp = 2.0\n\n    # For fascicle 1: select axons with diameter > 8 um\n    expr_large = \"diameters > 8\"\n    fasc1.insert_I_Clamp(\n        position=i_pos,  # middle of axon\n        t_start=i_start,\n        duration=i_dur,\n        amplitude=i_amp,  # nA\n        expr=expr_large\n    )\n\n    # For fascicle 2: select unmyelinated axons\n    expr_local = f\"(y-{fasc2_y})**2 + (z-{fasc2_z})**2 < 25**2\"\n    mask_local = fasc2.axons.get_mask(expr=expr_local, otype=\"list\")\n    fasc2.insert_I_Clamp(\n        position=i_pos,\n        t_start=i_start,\n        duration=i_dur,\n        amplitude=i_amp,\n        ax_list=mask_local,\n    )\n\n    # For fascicle 3: stimulate only large unmyelinated axons\n    expr_unmyel = \"types == 0\"\n    fasc2.axons.add_mask(data=expr_unmyel, label=\"umyel\")\n    expr_ularge = \"diameters > 1\"\n    mask_u = fasc2.axons.add_mask(data=expr_ularge, label=\"ularge\")\n    \n    fasc3.insert_I_Clamp(\n        position=i_pos,\n        t_start=i_start,\n        duration=i_dur,\n        amplitude=i_amp,\n        mask_labels=[\"umyel\", \"ularge\"],\n    )\n\n    # --- Run simulation ---\n    results = ner.simulate(t_sim=2, postproc_script=\"is_recruited\")"
      ]
    },
    {
      "cell_type": "markdown",
      "metadata": {},
      "source": [
        "## Plot recruited fibers\n\n"
      ]
    },
    {
      "cell_type": "code",
      "execution_count": null,
      "metadata": {
        "collapsed": false
      },
      "outputs": [],
      "source": [
        "if __name__ == '__main__':\n    fig, ax = plt.subplots(figsize=(7, 7))\n    results.plot_recruited_fibers(ax)\n    ax.set_xlabel(\"z-axis (\u00b5m)\")\n    ax.set_ylabel(\"y-axis (\u00b5m)\")\n    ax.set_title(\"Recruited fibers after IClamp on subpopulations\")\n    plt.show()"
      ]
    }
  ],
  "metadata": {
    "kernelspec": {
      "display_name": "Python 3",
      "language": "python",
      "name": "python3"
    },
    "language_info": {
      "codemirror_mode": {
        "name": "ipython",
        "version": 3
      },
      "file_extension": ".py",
      "mimetype": "text/x-python",
      "name": "python",
      "nbconvert_exporter": "python",
      "pygments_lexer": "ipython3",
      "version": "3.12.10"
    }
  },
  "nbformat": 4,
  "nbformat_minor": 0
}