{
  "cells": [
    {
      "cell_type": "markdown",
      "metadata": {},
      "source": [
        "\n# Create an unplaced population\n\nSimple example showing how to create builtin 2D shapes with nrv\n\n.. seealso::\n    :doc:`Users' guide <../../usersguide/populations>`\n"
      ]
    },
    {
      "cell_type": "code",
      "execution_count": null,
      "metadata": {
        "collapsed": false
      },
      "outputs": [],
      "source": [
        "from nrv.utils import geom\nfrom nrv.nmod._axon_population import axon_population\n\nimport matplotlib.pyplot as plt\nimport numpy as np\nfrom pandas import DataFrame"
      ]
    },
    {
      "cell_type": "markdown",
      "metadata": {},
      "source": [
        "## Generate population from data\n\n"
      ]
    },
    {
      "cell_type": "code",
      "execution_count": null,
      "metadata": {
        "collapsed": false
      },
      "outputs": [],
      "source": [
        "n_ax = 10\n# Randomly generate axon types and diameters\nax_type = np.random.randint(0,2,n_ax)\nax_diameters = np.random.random(n_ax)*20"
      ]
    },
    {
      "cell_type": "markdown",
      "metadata": {},
      "source": [
        "### When `data` are store in a tupple\n\n"
      ]
    },
    {
      "cell_type": "code",
      "execution_count": null,
      "metadata": {
        "collapsed": false
      },
      "outputs": [],
      "source": [
        "pop_tup = axon_population()\npop_tup.create_population_from_data((ax_type, ax_diameters))\npop_tup.axon_pop"
      ]
    },
    {
      "cell_type": "markdown",
      "metadata": {},
      "source": [
        "### When `data` are store in a np.ndarray\n\n"
      ]
    },
    {
      "cell_type": "code",
      "execution_count": null,
      "metadata": {
        "collapsed": false
      },
      "outputs": [],
      "source": [
        "data = np.vstack((ax_type, ax_diameters))\npop_np = axon_population()\npop_np.create_population_from_data(data)\npop_np.axon_pop"
      ]
    },
    {
      "cell_type": "markdown",
      "metadata": {},
      "source": [
        "### When `data` are store in a dict\n\n"
      ]
    },
    {
      "cell_type": "code",
      "execution_count": null,
      "metadata": {
        "collapsed": false
      },
      "outputs": [],
      "source": [
        "data = {\"types\":ax_type, \"diameters\":ax_diameters, \"other_key\":0}\npop_dict = axon_population()\npop_dict.create_population_from_data(data)\npop_dict.axon_pop"
      ]
    },
    {
      "cell_type": "markdown",
      "metadata": {},
      "source": [
        "### When `data` are store in a dataframe\n\n"
      ]
    },
    {
      "cell_type": "code",
      "execution_count": null,
      "metadata": {
        "collapsed": false
      },
      "outputs": [],
      "source": [
        "data = DataFrame({\"types\":ax_type, \"diameters\":ax_diameters, \"other_key\":np.random.rand(len(ax_type))})\npop_df = axon_population()\npop_df.create_population_from_data(data)\npop_df.axon_pop"
      ]
    },
    {
      "cell_type": "markdown",
      "metadata": {},
      "source": [
        "## Generate population from data\nSmall 20-axons population\n^^^^^^^^^^^^^^^^^^^^^^^^^\n\n"
      ]
    },
    {
      "cell_type": "code",
      "execution_count": null,
      "metadata": {
        "collapsed": false
      },
      "outputs": [],
      "source": [
        "n_ax = 20\n\npop_stat = axon_population()\npop_stat.create_population_from_stat(n_ax=n_ax)\npop_stat.axon_pop"
      ]
    },
    {
      "cell_type": "markdown",
      "metadata": {},
      "source": [
        "### Histograms\n\n"
      ]
    },
    {
      "cell_type": "code",
      "execution_count": null,
      "metadata": {
        "collapsed": false
      },
      "outputs": [],
      "source": [
        "fig, axs = plt.subplots(2, 2,  layout=\"constrained\")\nfor _i, n_ax in enumerate([20, 200, 2000, 20000]):\n    pop_stat = axon_population()\n    pop_stat.create_population_from_stat(n_ax=n_ax)\n    pop_stat.hist(axes=axs[_i%2, _i//2], unmyel_color=(\"r\",.2), myel_color=(\"b\",.2), bins=50)\n    axs[_i%2, _i//2].set_title(f\"{n_ax} axons\")\nplt.show()"
      ]
    }
  ],
  "metadata": {
    "kernelspec": {
      "display_name": "Python 3",
      "language": "python",
      "name": "python3"
    },
    "language_info": {
      "codemirror_mode": {
        "name": "ipython",
        "version": 3
      },
      "file_extension": ".py",
      "mimetype": "text/x-python",
      "name": "python",
      "nbconvert_exporter": "python",
      "pygments_lexer": "ipython3",
      "version": "3.12.10"
    }
  },
  "nbformat": 4,
  "nbformat_minor": 0
}