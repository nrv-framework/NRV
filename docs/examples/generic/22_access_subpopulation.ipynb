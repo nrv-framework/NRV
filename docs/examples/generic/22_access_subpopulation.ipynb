{
  "cells": [
    {
      "cell_type": "markdown",
      "metadata": {},
      "source": [
        "\n# Access axon sub-poplation\n\nExample showing two method to access sub population from :class:`~nrv.nmod.axon_population`.\n\nThis example demonstrates how to:\n    - Create axon populations for different shapes (circle, ellipse, polygon)\n    - Place axons using both direct data and the placer\n    - Use and highlight various placer arguments (delta, delta_trace, delta_in, method, fit_to_size, n_iter)\n\n.. seealso::\n    :doc:`Users' guide <../../usersguide/populations>`\n"
      ]
    },
    {
      "cell_type": "code",
      "execution_count": null,
      "metadata": {
        "collapsed": false
      },
      "outputs": [],
      "source": [
        "from nrv.nmod._axon_population import axon_population\nimport matplotlib.pyplot as plt\nimport numpy as np"
      ]
    },
    {
      "cell_type": "markdown",
      "metadata": {},
      "source": [
        "## From :meth:`pandas.DataFrame.eval` expression\n\n"
      ]
    },
    {
      "cell_type": "code",
      "execution_count": null,
      "metadata": {
        "collapsed": false
      },
      "outputs": [],
      "source": [
        "center = (100, 200)\nr = 300, 100\nangle = -np.pi/12\nn_ax = 2000\ndelta=1, \ndelta_trace=10\n\npop_1 = axon_population(center=center, radius=r, rot=angle, n_ax=n_ax, delta=delta, delta_trace=delta_trace)\n\nexpr_1 = \"diameters > 6\"\nexpr_2 = \"types == 0\"\nexpr_3 = \"diameters < 6 & diameters > 0.3\"\nexpr_4 = \"(y-100)**2 + (z-200)**2 < 50**2\"\n\nfig, axs = plt.subplots(2,2)\npop_1.plot(axs[0,0], myel_color=(\"b\", .2), unmyel_color=(\"r\",.2))\npop_1.plot(axs[0,0], expr=expr_1, myel_color=\"b\", unmyel_color=\"r\")\naxs[0,0].set_title(expr_1)\n\npop_1.plot(axs[1,0], myel_color=(\"b\", .2), unmyel_color=(\"r\",.2))\npop_1.plot(axs[1,0], expr=expr_2, myel_color=\"b\", unmyel_color=\"r\")\naxs[1,0].set_title(expr_2)\n\npop_1.plot(axs[0,1], myel_color=(\"b\", .2), unmyel_color=(\"r\",.2))\npop_1.plot(axs[0,1], expr=expr_3, myel_color=\"b\", unmyel_color=\"r\")\naxs[0,1].set_title(expr_3)\n\npop_1.plot(axs[1,1], myel_color=(\"b\", .2), unmyel_color=(\"r\",.2))\npop_1.plot(axs[1,1], expr=expr_4, myel_color=\"b\", unmyel_color=\"r\")\naxs[1,1].set_title(expr_4)\n\nfig.text(.5,.9, \"sub-population ($expr$):\", ha=\"center\", va=\"center\", size=15)\n\n\ncenter = (100, 200)\nr = 300, 100\nangle = -np.pi/12\nn_ax = 2000\ndelta=1, \ndelta_trace=10\n\npop_1 = axon_population(center=center, radius=r, rot=angle, n_ax=n_ax, delta=delta, delta_trace=delta_trace)\n\nlab1 = \"d_over_6\"\npop_1.add_mask(pop_1.axon_pop[\"diameters\"]>6, label=lab1)\n\nlab2 = \"unmyelinated\"\npop_1.add_mask(pop_1.axon_pop[\"types\"]==0, label=lab2)\n\nlab31 = \"d_under_6\"\nlab32 = \"d_over_01\"\npop_1.add_mask(~pop_1.axon_pop[\"d_over_6\"], label=lab31)\npop_1.add_mask(pop_1.axon_pop[\"diameters\"]>.1, label=lab32)\n\n\npop_1.add_mask((pop_1.axon_pop[\"y\"]-100)**2+(pop_1.axon_pop[\"z\"]-200)**2 < 50**2)"
      ]
    },
    {
      "cell_type": "markdown",
      "metadata": {},
      "source": [
        "## From :meth:`pandas.DataFrame.eval` expression\n\nThe \n\n"
      ]
    },
    {
      "cell_type": "code",
      "execution_count": null,
      "metadata": {
        "collapsed": false
      },
      "outputs": [],
      "source": [
        "fig, axs = plt.subplots(2,2)\npop_1.plot(axs[0,0], myel_color=(\"b\", .2), unmyel_color=(\"r\",.2))\npop_1.plot(axs[0,0], mask_labels=lab1, myel_color=\"b\", unmyel_color=\"r\")\naxs[0,0].set_title(lab1)\n\npop_1.plot(axs[1,0], myel_color=(\"b\", .2), unmyel_color=(\"r\",.2))\npop_1.plot(axs[1,0], mask_labels=lab2, myel_color=\"b\", unmyel_color=\"r\")\naxs[1,0].set_title(lab2)\n\npop_1.plot(axs[0,1], myel_color=(\"b\", .2), unmyel_color=(\"r\",.2))\npop_1.plot(axs[0,1], mask_labels=[lab31, lab32], myel_color=\"b\", unmyel_color=\"r\")\naxs[0,1].set_title([lab31, lab32])\n\npop_1.plot(axs[1,1], myel_color=(\"b\", .2), unmyel_color=(\"r\",.2))\npop_1.plot(axs[1,1], mask_labels=\"mask_0\", myel_color=\"b\", unmyel_color=\"r\")\naxs[1,1].set_title(\"mask_0 (default)\")\n\nfig.text(.5,.9, \"sub-population ($mask_labels$):\", ha=\"center\", va=\"center\", size=15)\n\nplt.show()"
      ]
    }
  ],
  "metadata": {
    "kernelspec": {
      "display_name": "Python 3",
      "language": "python",
      "name": "python3"
    },
    "language_info": {
      "codemirror_mode": {
        "name": "ipython",
        "version": 3
      },
      "file_extension": ".py",
      "mimetype": "text/x-python",
      "name": "python",
      "nbconvert_exporter": "python",
      "pygments_lexer": "ipython3",
      "version": "3.12.10"
    }
  },
  "nbformat": 4,
  "nbformat_minor": 0
}