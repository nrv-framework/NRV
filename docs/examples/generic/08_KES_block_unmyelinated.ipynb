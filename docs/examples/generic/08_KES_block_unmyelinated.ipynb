{
  "cells": [
    {
      "cell_type": "markdown",
      "metadata": {},
      "source": [
        "\n# KES propagation Block of unmyelinated fiber\n\nThis file shows an example of action potential propagation block with an unmyelinated fiber.\n"
      ]
    },
    {
      "cell_type": "code",
      "execution_count": null,
      "metadata": {
        "collapsed": false
      },
      "outputs": [],
      "source": [
        "import nrv\nimport numpy as np\nimport matplotlib.pyplot as plt\n\nif __name__ == '__main__':\n    model = 'Tigerholm'\n    diam = 1\n    y = 0\n    z = 0\n    print(diam)\n\n    L = 10000\n\n    t_sim = 50\n    t_position=0.05\n    t_start=20\n    t_duration=1\n    t_amplitude=1\n\n    b_start = 3\n    b_duration = t_sim\n    block_amp = 20000\n    block_freq = 10\n    dt = 1/(20*block_freq)\n    nseg_per_l = 50\n    n_seg = np.int32(nseg_per_l*L/1000)\n    print(n_seg)\n    material = nrv.load_material('endoneurium_bhadra')\n\n    y_elec = 500\n    z_elec = 0\n    x_elec = L/2\n\n    axon1 = nrv.unmyelinated(y,z,diam,L,model=model,Nseg_per_sec=n_seg,dt=dt)\n\n\n    E1 = nrv.point_source_electrode(x_elec,y_elec,z_elec)\n    stim_1=nrv.stimulus()\n    stim_1.sinus(b_start, b_duration, block_amp, block_freq ,dt=1/(block_freq*20))\n    stim_extra = nrv.stimulation(material)\n    stim_extra.add_electrode(E1,stim_1)\n    axon1.attach_extracellular_stimulation(stim_extra)\n\n    axon1.insert_I_Clamp(t_position, t_start, t_duration, t_amplitude)       \n\n\n    # simulate axon activity\n    results = axon1.simulate(t_sim=t_sim)\n    results.filter_freq('V_mem',block_freq)\n    results.rasterize('V_mem_filtered')\n\n    print(results.count_APs(\"V_mem_filtered\"))\n\n    fig, ax = plt.subplots(1)\n    cbar = results.colormap_plot(ax, \"V_mem_filtered\")\n    ax.set_xlabel('Time (ms)')\n    ax.set_ylabel('x-position (\u00b5m)')\n    ax.set_title('KES Block')\n    cbar.set_label(r'Membrane Voltage $V_m$ (mV)')\n\n    fig, axs = plt.subplots(2)\n    results.plot_x_t(axs[0],'V_mem_filtered')\n    axs[0].set_ylabel(\"Axon x-axis (\u00b5m)\")\n    axs[0].set_xlabel(\"Time (ms)\")\n    axs[0].set_xlim(0,30)\n    axs[0].set_ylim(0,np.max(results.x_rec))\n\n    results.raster_plot(axs[1],'V_mem_filtered')\n    axs[1].set_ylabel(\"Axon x-axis (\u00b5m)\")\n    axs[1].set_xlabel(\"Time (ms)\")\n    axs[1].set_xlim(0,30)\n    axs[1].set_ylim(0,np.max(results.x_rec))\n\n    plt.show()"
      ]
    }
  ],
  "metadata": {
    "kernelspec": {
      "display_name": "Python 3",
      "language": "python",
      "name": "python3"
    },
    "language_info": {
      "codemirror_mode": {
        "name": "ipython",
        "version": 3
      },
      "file_extension": ".py",
      "mimetype": "text/x-python",
      "name": "python",
      "nbconvert_exporter": "python",
      "pygments_lexer": "ipython3",
      "version": "3.12.10"
    }
  },
  "nbformat": 4,
  "nbformat_minor": 0
}