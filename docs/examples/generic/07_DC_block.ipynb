{
  "cells": [
    {
      "cell_type": "markdown",
      "metadata": {},
      "source": [
        "\n# DC Propagation block\n\nThis example provides an example of action potential propagation block using a DC stimulation. This is perfectly working in silico, but can be unsafe in vivo as long DC values are unbalanced and can damage tissues surrounding the electrode\n"
      ]
    },
    {
      "cell_type": "code",
      "execution_count": null,
      "metadata": {
        "collapsed": false
      },
      "outputs": [],
      "source": [
        "import nrv\nimport numpy as np\nimport matplotlib.pyplot as plt\n\nif __name__ == '__main__':\n    model = 'MRG'\n    diam = 10\n    y = 0\n    z = 0\n    n_node = 50\n\n\n    t_sim = 50\n    t_position=0.05\n    t_start=20\n    t_duration=1\n    t_amplitude=1\n\n    b_start = 3\n    b_duration = t_sim\n    block_amp = 100\n    nseg = 3\n    material = nrv.load_material('endoneurium_bhadra')\n\n\n    L=nrv.get_length_from_nodes(diam,n_node)\n\n    axon = nrv.myelinated(y,z,diam,L,rec='nodes',dt=0.005,Nseg_per_sec=nseg,model=model) \n\n    y_elec = 100\n    z_elec = 0\n    x_elec = axon.x_nodes[np.int32(n_node/2)]\t# electrode y position, in [um]\n    E1 = nrv.point_source_electrode(x_elec,y_elec,z_elec)\n\n    # insert test spike\n    axon.insert_I_Clamp(t_position, t_start, t_duration, t_amplitude)\n    # extra-cellular stimulation\n    stim_1 = nrv.stimulus()\n    stim_1.biphasic_pulse(b_start, block_amp, b_duration, 0, 0,anod_first=False)\n\n    stim_extra = nrv.stimulation(material)\n    stim_extra.add_electrode(E1,stim_1)\n    axon.attach_extracellular_stimulation(stim_extra)\n\n    # simulate axon activity\n    results = axon.simulate(t_sim=t_sim)#,footprints = footprints)\n    results.rasterize()\n\n    fig, axs = plt.subplots(2)\n    results.plot_x_t(axs[0],'V_mem')\n    axs[0].set_ylabel(\"Axon x-axis (\u00b5m)\")\n    axs[0].set_xlabel(\"Time (ms)\")\n    axs[0].set_xlim(0,30)\n    axs[0].set_ylim(0,np.max(results.x_rec))\n\n    results.raster_plot(axs[1],'V_mem')\n    axs[1].set_ylabel(\"Axon x-axis (\u00b5m)\")\n    axs[1].set_xlabel(\"Time (ms)\")\n    axs[1].set_xlim(0,30)\n    axs[1].set_ylim(0,np.max(results.x_rec))\n\n    fig.tight_layout()\n    plt.show()"
      ]
    }
  ],
  "metadata": {
    "kernelspec": {
      "display_name": "Python 3",
      "language": "python",
      "name": "python3"
    },
    "language_info": {
      "codemirror_mode": {
        "name": "ipython",
        "version": 3
      },
      "file_extension": ".py",
      "mimetype": "text/x-python",
      "name": "python",
      "nbconvert_exporter": "python",
      "pygments_lexer": "ipython3",
      "version": "3.12.10"
    }
  },
  "nbformat": 4,
  "nbformat_minor": 0
}