{
  "cells": [
    {
      "cell_type": "markdown",
      "metadata": {},
      "source": [
        "\n# Slowly Rising Pulse Stimulation\n\nA slowly rising pulse can help in triggering small diameter axon first. This script illustrates this phenomenon, with a constant stimulus, small diameter trigger a spike while larger axons are not depolarized sufficiently. \n"
      ]
    },
    {
      "cell_type": "code",
      "execution_count": null,
      "metadata": {
        "collapsed": false
      },
      "outputs": [],
      "source": [
        "import nrv\nimport numpy as np\nimport matplotlib.pyplot as plt\n\nmodel = 'MRG'\ndiams = [4, 7,  10, 13, 16]\nVm = []\ny = 0\nz = 0\nn_node = 20\n\nt_sim = 20\nt_start = 1\nprep_d = 5\nprep_a = 35\ninterp_delay = 0\npw = 100e-3\namp = 48\n\nif __name__ == '__main__':\n    prepulse = nrv.stimulus()\n\n    slope = prep_a/prep_d\n    prepulse.ramp(slope, t_start, prep_d+t_start, 0.05)\n    pulse = nrv.stimulus()\n    pulse.biphasic_pulse(t_start+prep_d,amp,pw,0,0)\n    stim_1 = -prepulse+pulse\n    stim_1.s[-2] = -amp\n    stim_1.s[-1] = 0\n\n    nseg = 1\n    material = nrv.load_material('endoneurium_bhadra')\n\n\n    for diam in diams:\n        L=nrv.get_length_from_nodes(diam,n_node)\n        axon = nrv.myelinated(y,z,diam,L,rec='nodes',dt=0.005,Nseg_per_sec=nseg,model=model) \n\n        y_elec = 500\n        z_elec = 0\n        x_elec = axon.x_nodes[np.int32(n_node/2)]\t# electrode y position, in [um]\n        E1 = nrv.point_source_electrode(x_elec,y_elec,z_elec)\n\n        #stim_1 = pulse\n        stim_extra = nrv.stimulation(material)\n        stim_extra.add_electrode(E1,stim_1)\n        axon.attach_extracellular_stimulation(stim_extra)\n\n        #axon1.insert_I_Clamp(t_position, t_start, t_duration, t_amplitude)       \n\n        # extra-cellular stimulation\n\n        # simulate axon activity\n        results = axon.simulate(t_sim=t_sim)#,footprints = footprints)\n        Vm.append(results['V_mem'][10])\n\n\n    plt.figure(figsize=(8,5))\n    for i in range(len(diams)):\n        plt.plot(results['t'],Vm[i], label=f\"{diams[i]}\u00b5m\")\n    plt.ylabel(r\"$V_m (mV)$\")\n    plt.xlabel(\"Time (ms)\")\n    plt.legend()\n\n    plt.xlim(np.min(results['t']),np.max(results['t']))\n    plt.ylim(-85,40)\n    plt.tight_layout()\n    plt.show()"
      ]
    }
  ],
  "metadata": {
    "kernelspec": {
      "display_name": "Python 3",
      "language": "python",
      "name": "python3"
    },
    "language_info": {
      "codemirror_mode": {
        "name": "ipython",
        "version": 3
      },
      "file_extension": ".py",
      "mimetype": "text/x-python",
      "name": "python",
      "nbconvert_exporter": "python",
      "pygments_lexer": "ipython3",
      "version": "3.12.10"
    }
  },
  "nbformat": 4,
  "nbformat_minor": 0
}