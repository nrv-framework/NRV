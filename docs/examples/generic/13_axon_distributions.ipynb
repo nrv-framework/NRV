{
  "cells": [
    {
      "cell_type": "markdown",
      "metadata": {},
      "source": [
        "\n# Plotting available axon diameter distributions in NRV\n\nThis example shows how to plot available axon diameter distributions in NRV\n"
      ]
    },
    {
      "cell_type": "code",
      "execution_count": null,
      "metadata": {
        "collapsed": false
      },
      "outputs": [],
      "source": [
        "import nrv\nimport matplotlib.pyplot as plt\nimport numpy as np\n\nmyelinated_stats = [\n    \"Schellens_1\",\n    \"Schellens_2\",\n    \"Ochoa_M\",\n    \"Jacobs_9_A\",\n    \"Jacobs_9_B\",\n    \"Fugleholm\",\n]\n\nunmyelinated_stats = [\n    \"Ochoa_U\",\n    \"Jacobs_11_A\",\n    \"Jacobs_11_B\",\n    \"Jacobs_11_C\",\n    \"Jacobs_11_D\",\n    \"Jacobs_11_D\",\n]\n\nif __name__ == '__main__':\n    N = 10000\n    fig_idxs= [(0,0),(0,1),(1,0),(1,1),(2,0),(2,1)]\n    xspace1 = np.linspace(1,20,num=500)\n\n    fig1, axs1 = plt.subplots(3, 2, figsize=(5, 5*1.33))\n    for k in range(len(myelinated_stats)):\n\n        m_stat = myelinated_stats[k]\n        u_stat = unmyelinated_stats[0]\n        axons_diameters, axons_type, M_diam_list, U_diam_list = nrv.create_axon_population(N,M_stat=m_stat,U_stat=u_stat)\n\n        y_M, x, _ = axs1[fig_idxs[k]].hist(M_diam_list,bins = 50,color = 'blue',alpha = 0.2)\n        \n\n        gen, popt1, pcov1 = nrv.create_generator_from_stat(m_stat)\n        diam, pres = nrv.load_stat(m_stat)\n        \n        if (len(popt1)>4):\n            data = (nrv.two_Gamma(xspace1, *popt1))\n        else:\n            data = (nrv.one_Gamma(xspace1, *popt1))\n        scale_factor= np.max(y_M)\n        data = data*scale_factor/np.max(data)\n        pres = pres*scale_factor/np.max(pres)\n        axs1[fig_idxs[k]].plot(xspace1,data,linewidth = 2,color =\"darkslateblue\")\n        axs1[fig_idxs[k]].step(diam,pres,linewidth = 2,color =\"seagreen\",where=\"mid\")\n\n        axs1[fig_idxs[k]].set_title(m_stat)\n        axs1[fig_idxs[k]].set_ylabel(\"Axons\")\n\n    axs1[fig_idxs[-1]].set_xlabel(\"Axon diameter (\u00b5m)\")\n    axs1[fig_idxs[-2]].set_xlabel(\"Axon diameter (\u00b5m)\")\n    fig1.tight_layout()\n\n\n    plt.show()"
      ]
    }
  ],
  "metadata": {
    "kernelspec": {
      "display_name": "Python 3",
      "language": "python",
      "name": "python3"
    },
    "language_info": {
      "codemirror_mode": {
        "name": "ipython",
        "version": 3
      },
      "file_extension": ".py",
      "mimetype": "text/x-python",
      "name": "python",
      "nbconvert_exporter": "python",
      "pygments_lexer": "ipython3",
      "version": "3.12.10"
    }
  },
  "nbformat": 4,
  "nbformat_minor": 0
}