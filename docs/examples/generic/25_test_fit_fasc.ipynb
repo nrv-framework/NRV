{
  "cells": [
    {
      "cell_type": "markdown",
      "metadata": {},
      "source": [
        "\n# Simulation of Realistic Geometry\n\nPractical example illustrating how to build a realistic nerve geometry from an image and simulate it with NRV.\n\n<div class=\"alert alert-danger\"><h4>Warning</h4><p>This example requires [opencv-python](https://docs.opencv.org/4.x/d6/d00/tutorial_py_root.html) to be installed. You can easily install this library with pip:\n    \n```bash\npip install opencv-python</p></div>\n```\n"
      ]
    },
    {
      "cell_type": "code",
      "execution_count": null,
      "metadata": {
        "collapsed": false
      },
      "outputs": [],
      "source": [
        "import nrv\n\nimport cv2\nimport numpy as np\nimport matplotlib.pyplot as plt\nfrom scipy.interpolate import splprep, splev\n\nimage_path = nrv.__path__[0] + \"/_misc/geom/smoothed_edges_white.png\"\n\nd_nerve = 1_000 # um\nl_nerve = 10_000 # um"
      ]
    },
    {
      "cell_type": "markdown",
      "metadata": {},
      "source": [
        "## Step 1: Load and process the image\n\n<div class=\"alert alert-info\"><h4>Note</h4><p>Since the image is already processed, the following function is quite light. Additional processing would be required to generate a nerve directly from histology images.</p></div>\n\n.. tip::\n      See [opencv-python](https://docs.opencv.org/4.x/d3/d05/tutorial_py_table_of_contents_contours.html) contour tutorials for more information.\n\n"
      ]
    },
    {
      "cell_type": "code",
      "execution_count": null,
      "metadata": {
        "collapsed": false
      },
      "outputs": [],
      "source": [
        "def load_and_process_image(ax:plt.Axes)->np.ndarray:\n    \"\"\"\n    Load the image and process it to simplify contour detection.\n    \"\"\"\n    im = cv2.imread(image_path)    # Load image\n    imgray = cv2.cvtColor(im, cv2.COLOR_BGR2GRAY)\n    ret, thresh = cv2.threshold(imgray, 127, 255, 0)\n    ax.imshow(im, label=\"image\")\n    ax.set_title(\"Original image ($nrv/\\\\_misc/geom/$)\")\n    return thresh"
      ]
    },
    {
      "cell_type": "markdown",
      "metadata": {},
      "source": [
        "## Step 2: Extract contour points from the image\n\n<div class=\"alert alert-info\"><h4>Note</h4><p>This function is adapted to the selected image and can be improved for nerve histological images.</p></div>\n\n"
      ]
    },
    {
      "cell_type": "code",
      "execution_count": null,
      "metadata": {
        "collapsed": false
      },
      "outputs": [],
      "source": [
        "def extract_contour_points(ax:plt.Axes, thresh)->list:\n    \"\"\"\n    Detect all contours in the image and keep only the points from fascicle contours. Additionally, rescale the point positions from pixels to micrometers to match the desired nerve diameter.\n    \"\"\"\n\n    # Detect contours on the binary image using cv2.CHAIN_APPROX_SIMPLE\n    contours, hierarchy = cv2.findContours(thresh, cv2.RETR_TREE, cv2.CHAIN_APPROX_SIMPLE)\n    hc_list = hierarchy.squeeze()\n\n    # ID of the inner nerve contour\n    # As image frame is 0, outer_nerve is 1\n    nerve_id = 2 \n\n    # Center nerve at (0,0)\n    points = contours[nerve_id].squeeze()\n    center_pix = np.mean(points, axis=0)\n    nerve_points = points - center_pix\n\n    # Convert pixel index to micrometers\n    radius_pix = np.max(np.abs(nerve_points))\n    rescal_factor = d_nerve / (2 * radius_pix)\n    # Flip ordinate axis (as pixel index increases downward)\n    rescal_factor *= np.array([1, -1])\n\n    nerve_points *= rescal_factor\n\n    ax.plot(*nerve_points.T, \"--\", color=(\"k\", .3))\n\n    theta = np.linspace(0, 2 * np.pi)\n    ax.plot(d_nerve * np.cos(theta) / 2, d_nerve * np.sin(theta) / 2, color=\"k\")\n\n    fascicles_points = []\n    for _i, _c in enumerate(contours):\n        if hc_list[_i, -1] == nerve_id:\n            points = _c.squeeze()\n            fascicles_points += [(points - center_pix) * rescal_factor]\n            ax.plot(*fascicles_points[-1].T)\n    ax.set_aspect(\"equal\")\n    ax.set_title(\"Extracted contours\")\n\n    return fascicles_points"
      ]
    },
    {
      "cell_type": "markdown",
      "metadata": {},
      "source": [
        "## Step 3: Generate a nerve from fascicle contour points\n\n"
      ]
    },
    {
      "cell_type": "code",
      "execution_count": null,
      "metadata": {
        "collapsed": false
      },
      "outputs": [],
      "source": [
        "def generate_nerve(ax:plt.Axes, fascicles_points:list):\n    \"\"\"\n    Generate a nerve from the fascicle contour points, with a LIFE electrode at the center of the first fascicle.\n    \"\"\"\n    ner = nrv.nerve(diameter=d_nerve, length=l_nerve)\n    n_vertices = 50\n    for _i_fasc, _pts in enumerate(fascicles_points):\n        i_pts = np.arange(n_vertices + 1) * _pts.shape[0] // n_vertices\n        i_pts[-1] -= 1\n        _us_pts = _pts[i_pts]  # Undersample the vertices\n        poly_fasc = nrv.create_cshape(vertices=_us_pts)\n        fasc = nrv.fascicle(ID=_i_fasc)\n        fasc.set_geometry(geometry=poly_fasc)\n        ner.add_fascicle(fasc)\n\n    for fasc in ner.fascicles.values():\n        fasc.fill(n_ax=100, delta_trace=10)\n\n    extra_stim = nrv.FEM_stimulation(endo_mat=\"endoneurium_ranck\", peri_mat=\"perineurium\", epi_mat=\"epineurium\", ext_mat=\"saline\")\n\n    life_d = 25                                 # LIFE diameter in um\n    life_length = 1000                          # LIFE active-site length in um\n    life_x_offset = (l_nerve - life_length) / 2 # x position of the LIFE (centered)\n    life_y_c_2, life_z_c_2 = ner.fascicles[0].center  # LIFE_2 y-coordinate (in um)\n\n    elec_2 = nrv.LIFE_electrode(\"LIFE_2\", life_d, life_length, life_x_offset, life_y_c_2, life_z_c_2) # LIFE in fascicle 2\n\n    # Stimulus\n    t_start = 0.1       # Start of the pulse, in ms\n    t_pulse = 0.1       # Duration of the pulse, in ms\n    amp_pulse = 60      # Amplitude of the pulse, in uA \n\n    pulse_stim = nrv.stimulus()\n    pulse_stim.pulse(t_start, -amp_pulse, t_pulse)      # Cathodic\n\n    # Attach electrodes to the extra_stim object \n    extra_stim.add_electrode(elec_2, pulse_stim)\n    ner.attach_extracellular_stimulation(extra_stim)\n\n    ner.plot(ax)\n    ax.set_title(\"NRV geometry\")\n    return ner"
      ]
    },
    {
      "cell_type": "markdown",
      "metadata": {},
      "source": [
        "## Step 4: Simulate the nerve and plot recruited fibers\n\n"
      ]
    },
    {
      "cell_type": "code",
      "execution_count": null,
      "metadata": {
        "collapsed": false
      },
      "outputs": [],
      "source": [
        "def simulate_and_plot_res(ax:plt.Axes, ner:nrv.nerve):\n    res = ner.simulate(t_sim=3, postproc_script=\"is_recruited\")\n    res.plot_recruited_fibers(ax)\n    ax.set_title(\"Recruited Fibers\")\n    ax.set_xlabel(\"z-axis (\u00b5m)\")\n    ax.set_ylabel(\"y-axis (\u00b5m)\")"
      ]
    },
    {
      "cell_type": "markdown",
      "metadata": {},
      "source": [
        "## Main Execution Script\n\n"
      ]
    },
    {
      "cell_type": "code",
      "execution_count": null,
      "metadata": {
        "collapsed": false
      },
      "outputs": [],
      "source": [
        "if __name__ == \"__main__\":\n    plt.ion()\n    fig, axs = plt.subplots(2, 2, figsize=(10, 6), layout=\"constrained\")\n\n    thresh = load_and_process_image(axs[0, 0])\n    fasc_pts = extract_contour_points(axs[0, 1], thresh)\n    ner = generate_nerve(axs[1, 0], fasc_pts)\n    simulate_and_plot_res(axs[1, 1], ner)\n    plt.show()"
      ]
    }
  ],
  "metadata": {
    "kernelspec": {
      "display_name": "Python 3",
      "language": "python",
      "name": "python3"
    },
    "language_info": {
      "codemirror_mode": {
        "name": "ipython",
        "version": 3
      },
      "file_extension": ".py",
      "mimetype": "text/x-python",
      "name": "python",
      "nbconvert_exporter": "python",
      "pygments_lexer": "ipython3",
      "version": "3.12.10"
    }
  },
  "nbformat": 4,
  "nbformat_minor": 0
}