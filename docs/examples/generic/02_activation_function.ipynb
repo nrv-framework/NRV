{
  "cells": [
    {
      "cell_type": "markdown",
      "metadata": {},
      "source": [
        "\n# Activation function\n\nIn this script, the activation function for a point source electrode is ploted to anodic and cathodic stimulation. Then two simulation are performed. The first is an example of stimulation over the threshold and a spike is initiated at the midle of the fiber and propagates. The second shows a sub-threshold stimulation with no AP produced.fibers.\n"
      ]
    },
    {
      "cell_type": "code",
      "execution_count": null,
      "metadata": {
        "collapsed": false
      },
      "outputs": [],
      "source": [
        "import nrv\nimport matplotlib.pyplot as plt\nimport matplotlib as mpl\nfrom scipy import signal\nimport numpy as np\n\nwindow_length_filter = 501\npolyorder_filter = 3\ndef get_first_derivative(ftp):\n    ftp = signal.savgol_filter(ftp, window_length=window_length_filter, polyorder=polyorder_filter, mode=\"nearest\")\n    ftp = np.gradient(ftp)\n    ftp = signal.savgol_filter(ftp, window_length=window_length_filter, polyorder=polyorder_filter, mode=\"nearest\")\n    return(ftp)\n\ndef get_second_derivative(ftp):\n    ftp=get_first_derivative(ftp)\n    ftp = np.gradient(ftp)\n    ftp = signal.savgol_filter(ftp, window_length=window_length_filter, polyorder=polyorder_filter, mode=\"nearest\")\n    return(ftp)\n\nif __name__ == '__main__':\n    \n    nseg = 1500\n    tsim = 4\n    # axon def\n    y = 0\t\t\t\t\t\t# axon y position, in [um]\n    z = 0\t\t\t\t\t\t# axon z position, in [um]\n    d = 1\t\t\t\t\t\t# axon diameter, in [um]\n    L = 5000\t\t\t\t\t# axon length, along x axis, in [um]\n    axon1 = nrv.unmyelinated(y,z,d,L,Nsec = nseg,model ='Sundt')\n\n    # electrode def\n    x_elec = L/2\t\t\t\t# electrode x position, in [um]\n    y_elec = 100\t\t\t\t# electrode y position, in [um]\n    z_elec = 0\t\t\t\t\t# electrode y position, in [um]\n    E1 = nrv.point_source_electrode(x_elec,y_elec,z_elec)\n\n    # load material properties\n    epineurium = nrv.load_material('endoneurium_bhadra')\n\n    # stimulus def\n    start = 0.2\n    I_cathod = 70\n    T_cathod = 100e-3\n\n    stim1 = nrv.stimulus()\n    stim1.biphasic_pulse(start, I_cathod, T_cathod, 0, 0)\n\n    # extracellular stimulation setup\n    extra_stim = nrv.stimulation(epineurium)\n    extra_stim.add_electrode(E1, stim1)\n    axon1.attach_extracellular_stimulation(extra_stim)\n\n    axon1.get_electrodes_footprints_on_axon()\n\n    ftp = axon1.footprints[0]\n    acti_function = get_second_derivative(-ftp)\n    acti_function = acti_function/np.max(acti_function)\n\n    acti_function_ano = get_second_derivative(ftp)\n    acti_function_ano = -acti_function_ano/np.min(acti_function_ano)\n\n\n    x_vect= np.linspace(0,5000,nseg)\n    color = 'teal'\n\n    plt.figure()\n    plt.plot(x_vect,acti_function_ano,color = color)\n    plt.ylabel(r'Activation Function ($\\Delta^2V_e$)')\n    plt.xlabel('x-axis (\u00b5m)')\n    plt.xlim(np.min(x_vect),np.max(x_vect))\n    plt.title('Activation function for anodic stimulation')\n    plt.grid()\n\n    plt.figure()\n    plt.plot(x_vect,acti_function,color = color)\n    plt.ylabel(r'Activation Function ($\\Delta^2V_e$)')\n    plt.xlabel('x-axis (\u00b5m)')\n    plt.xlim(np.min(x_vect),np.max(x_vect))\n    plt.title('Activation function for cathodic stimulation')\n    plt.grid()\n\n    # simulate the axon\n    results = axon1.simulate(t_sim=tsim)\n    del axon1\n\n    fig, ax = plt.subplots(1)\n    norm = mpl.colors.Normalize(vmin=-80, vmax=30)\n    cbar = results.colormap_plot(ax, \"V_mem\",norm=norm)\n    ax.set_xlabel('Time (ms)')\n    ax.set_ylabel('x-position (\u00b5m)')\n    ax.set_title('Example of supra threshold stimulation (AP)')\n    cbar.set_label(r'Membrane Voltage $V_m$ (mV)')\n\n\n    axon1 = nrv.unmyelinated(y,z,d,L,Nsec = nseg,model ='Sundt')\n\n    E1 = nrv.point_source_electrode(x_elec,y_elec,z_elec)\n    I_cathod =-70\n    stim1 = nrv.stimulus()\n    stim1.biphasic_pulse(start, I_cathod, T_cathod, 0, 0)\n    # extracellular stimulation setup\n    extra_stim = nrv.stimulation(epineurium)\n    extra_stim.add_electrode(E1, stim1)\n    axon1.attach_extracellular_stimulation(extra_stim)\n\n    # simulate the axon\n    results = axon1.simulate(t_sim=tsim)\n    del axon1\n\n    fig, ax = plt.subplots(1)\n    #norm = mpl.colors.Normalize(vmin=-80, vmax=30)\n    cbar = results.colormap_plot(ax, \"V_mem\",norm=norm)\n    ax.set_xlabel('Time (ms)')\n    ax.set_ylabel('x-position (\u00b5m)')\n    ax.set_title('Example of sub threshold stimulation (no AP)')\n    cbar.set_label(r'Membrane Voltage $V_m$ (mV)')\n\n    plt.show()"
      ]
    }
  ],
  "metadata": {
    "kernelspec": {
      "display_name": "Python 3",
      "language": "python",
      "name": "python3"
    },
    "language_info": {
      "codemirror_mode": {
        "name": "ipython",
        "version": 3
      },
      "file_extension": ".py",
      "mimetype": "text/x-python",
      "name": "python",
      "nbconvert_exporter": "python",
      "pygments_lexer": "ipython3",
      "version": "3.12.10"
    }
  },
  "nbformat": 4,
  "nbformat_minor": 0
}