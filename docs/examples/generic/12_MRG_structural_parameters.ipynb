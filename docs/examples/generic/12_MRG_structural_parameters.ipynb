{
  "cells": [
    {
      "cell_type": "markdown",
      "metadata": {},
      "source": [
        "\n# Plotting myelinated fibers structural parameters\n\nThis example shows how to plot structural parameters used in NRV's myelinated fiber models.\n"
      ]
    },
    {
      "cell_type": "code",
      "execution_count": null,
      "metadata": {
        "collapsed": false
      },
      "outputs": [],
      "source": [
        "import nrv\nimport matplotlib.pyplot as plt\nimport numpy as np\n\nif __name__ == '__main__':\n    fiberD  = np.asarray([5.7, 7.3, 8.7, 10.0, 11.5, 12.8, 14.0, 15.0, 16.0])\n    fiberP  = np.asarray([1, 2])\n\n    MRG_g = np.asarray([0.605, 0.630, 0.661, 0.690, 0.700, 0.719, 0.739, 0.767, 0.791])\n    MRG_axonD = np.asarray([3.4, 4.6, 5.8, 6.9, 8.1, 9.2, 10.4, 11.5, 12.7])\n    MRG_nodeD = np.asarray([1.9, 2.4, 2.8, 3.3, 3.7, 4.2, 4.7, 5.0, 5.5])\n    MRG_paraD1 = np.asarray([ 1.9, 2.4, 2.8, 3.3, 3.7, 4.2, 4.7, 5.0, 5.5])\n    MRG_paraD2 = np.asarray([ 3.4, 4.6, 5.8, 6.9, 8.1, 9.2, 10.4, 11.5, 12.7])\n    MRG_deltax = np.asarray([ 500, 750, 1000, 1150, 1250, 1350, 1400, 1450, 1500])\n    MRG_paralength2 = np.asarray([35, 38, 40, 46, 50, 54, 56, 58, 60])\n    MRG_nl = np.asarray([ 80, 100, 110, 120, 130, 135, 140, 145, 150])\n\n    P_g = np.asarray([0.565, 0.585])\n    P_axonD = np.asarray([0.8, 1.6])\n    P_nodeD = np.asarray([0.7, 1.4])\n    P_paraD1 = np.asarray([0.7, 1.4])\n    P_paraD2 = np.asarray([0.8, 1.6])\n    P_deltax = np.asarray([100, 200])\n    P_paralength2 = np.asarray([5, 10])\n    P_nl = np.asarray([15, 20])\n\n    paralength1 = 3\n    nodelength = 1\n\n    interlength_MRG = ((MRG_deltax-nodelength-(2*paralength1)-(2*MRG_paralength2))/6)\n    interlength_P = ((P_deltax-nodelength-(2*paralength1)-(2*P_paralength2))/6)\n\n\n    #interpolation\n    diameters = np.linspace(1,20)\n    g_interp = []\n    axonD_interp = []\n    nodeD_interp = []\n    paraD1_interp = []\n    paraD2_interp = []\n    deltax_interp = []\n    paralength2_interp = []\n    nl_interp = []\n    interlength_interp = []\n\n    for diam in diameters:\n        g, axonD, nodeD, paraD1, paraD2, deltax, paralength2, nl = nrv.get_MRG_parameters(diam)\n        interlength_interp.append((deltax-nodelength-(2*paralength1)-(2*paralength2))/6)\n        g_interp.append(g)\n        axonD_interp.append(axonD)\n        nodeD_interp.append(nodeD)\n        paraD1_interp.append(paraD1)\n        paraD2_interp.append(paraD2)\n        deltax_interp.append(deltax)\n        paralength2_interp.append(paralength2)\n        nl_interp.append(nl)\n\n    fig3, axs3 = plt.subplots(3, 2, figsize=(5, 5*1.33))\n    axs3[0,0].scatter(fiberD,MRG_nodeD,color='darkblue')\n    axs3[0,0].scatter(fiberP,P_nodeD,color='deepskyblue')\n    axs3[0,0].plot(diameters,nodeD_interp,color='r')\n    axs3[0,0].set_ylabel('Node diameter \u00b5m')\n    axs3[0,0].text(2.5,0.6,\"Pelot 2017\",color='deepskyblue')\n    axs3[0,0].text(9.5,2.5,\"MRG 2002\",color='darkblue')\n\n    axs3[0,1].scatter(fiberD,MRG_paraD2,color='darkblue')\n    axs3[0,1].scatter(fiberP,P_paraD2,color='deepskyblue')\n    axs3[0,1].plot(diameters,paraD2_interp,color='r')\n    axs3[0,1].set_ylabel('Paranodal diameter (\u00b5m)')\n\n    axs3[1,0].scatter(fiberD,MRG_paralength2,color='darkblue')\n    axs3[1,0].scatter(fiberP,P_paralength2,color='deepskyblue')\n    axs3[1,0].plot(diameters,paralength2_interp,color='r')\n    axs3[1,0].set_ylabel('FLUT Length (\u00b5m)')\n\n    axs3[1,1].scatter(fiberD,interlength_MRG,color='darkblue')\n    axs3[1,1].scatter(fiberP,interlength_P,color='deepskyblue')\n    axs3[1,1].plot(diameters,interlength_interp,color='r')\n    axs3[1,1].set_ylabel('STIN Length (\u00b5m)')\n\n    axs3[2,0].scatter(fiberD,MRG_nl,color='darkblue')\n    axs3[2,0].scatter(fiberP,P_nl,color='deepskyblue')\n    axs3[2,0].plot(diameters,nl_interp,color='r')\n    axs3[2,0].set_xlabel('Axon diameter (\u00b5m)')\n    axs3[2,0].set_ylabel('Number of lamella')\n\n    axs3[2,1].scatter(fiberD,MRG_deltax/1000,color='darkblue')\n    axs3[2,1].scatter(fiberP,P_deltax/1000,color='deepskyblue')\n    axs3[2,1].plot(diameters,np.array(deltax_interp)/1000,color='r')\n    axs3[2,1].set_xlabel('Axon diameter (\u00b5m)')\n    axs3[2,1].set_ylabel('Internodal Length (mm)')\n\n    fig3.tight_layout()\n\n    plt.show()"
      ]
    }
  ],
  "metadata": {
    "kernelspec": {
      "display_name": "Python 3",
      "language": "python",
      "name": "python3"
    },
    "language_info": {
      "codemirror_mode": {
        "name": "ipython",
        "version": 3
      },
      "file_extension": ".py",
      "mimetype": "text/x-python",
      "name": "python",
      "nbconvert_exporter": "python",
      "pygments_lexer": "ipython3",
      "version": "3.12.10"
    }
  },
  "nbformat": 4,
  "nbformat_minor": 0
}