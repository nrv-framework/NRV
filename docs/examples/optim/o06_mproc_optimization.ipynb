{
  "cells": [
    {
      "cell_type": "markdown",
      "metadata": {},
      "source": [
        "\n# Optimization change number of processes\n\nThis example shows how to set the number of processes used for optimization. The exact same scenario from `Tutorial 5<../../tutorials/5_first_optimization` is used:\n\nThe objective is to **minimize the energy required by a LIFE electrode to trigger a single myelinated fiber using a rectangular pulse stimulus**.\n\n<div class=\"alert alert-info\"><h4>Note</h4><p>For optimization over parallelizable context (nerve or fascicle), the parallelization is done only for the context simulation</p></div>\n\n.. seealso::\n    `Parallel computation<../../usersguide/parallel>` and `Optimization<../../usersguide/optimization>  users' guides.\n"
      ]
    },
    {
      "cell_type": "code",
      "execution_count": null,
      "metadata": {
        "collapsed": false
      },
      "outputs": [],
      "source": [
        "import nrv\n\nimport matplotlib.pyplot as plt\nimport numpy as np\n\n\nif __name__ == \"__main__\":\n\n    # -------------------------- #\n    #  Cost function definition  #\n    # -------------------------- #\n    my_cost0 = nrv.cost_function()\n\n\n    # Setting Static Context\n\n    ax_l = 10000 # um\n    ax_d=10\n    ax_y=50\n    ax_z=0\n    axon_1 = nrv.myelinated(L=ax_l, d=ax_d, y=ax_y, z=ax_z)\n\n\n    LIFE_stim0 = nrv.FEM_stimulation()\n    LIFE_stim0.reshape_nerve(Length=ax_l)\n    life_d = 25 # um\n    life_length = 1000 # um\n    life_x_0_offset = life_length/2\n    life_y_c_0 = 0\n    life_z_c_0 = 0\n    elec_0 = nrv.LIFE_electrode(\"LIFE\", life_d, life_length, life_x_0_offset, life_y_c_0, life_z_c_0)\n\n    dummy_stim = nrv.stimulus()\n    dummy_stim.pulse(0, 0.1, 1)\n    LIFE_stim0.add_electrode(elec_0, dummy_stim)\n\n    axon_1.attach_extracellular_stimulation(LIFE_stim0)\n    axon_1.get_electrodes_footprints_on_axon()\n\n    static_context = axon_1.save(save=False, extracel_context=True)\n    del axon_1\n\n    t_sim = 5\n    dt = 0.005\n    kwarg_sim = {\n        \"dt\":dt,\n        \"t_sim\":t_sim,\n    }\n\n    my_cost0.set_static_context(static_context, **kwarg_sim)\n\n    # Setting Context Modifier\n    t_start = 1\n    I_max_abs = 100\n    cm_0 = nrv.biphasic_stimulus_CM(start=t_start, s_cathod=\"0\", t_cathod=\"1\", s_anod=0)\n    my_cost0.set_context_modifier(cm_0)\n\n    # Setting Cost Evaluation\n    costR = nrv.recrutement_count_CE(reverse=True)\n    costC = nrv.stim_energy_CE()\n    cost_evaluation = costR + 0.01 * costC\n    my_cost0.set_cost_evaluation(cost_evaluation)\n\n\n    # -------------------------- #\n    #  PSO Optimizer definition  #\n    # -------------------------- #\n    pso_kwargs = {\n        \"maxiter\" : 10,\n        # \"maxiter\" : 50,\n        \"n_particles\" : 10,\n        # \"n_particles\" : 20,\n        \"opt_type\" : \"local\",\n        \"options\": {'c1': 0.6, 'c2': 0.6, 'w': 0.8, 'k': 3, 'p': 1},\n        \"bh_strategy\": \"reflective\",\n    }\n    pso_opt = nrv.PSO_optimizer(**pso_kwargs)\n\n    t_end = 0.5\n    duration_bound = (0.01, t_end)\n    bounds0 = (\n        (0, I_max_abs),\n        duration_bound\n    )\n    pso_kwargs_pb_0 = {\n        \"dimensions\" : 2,\n        \"bounds\" : bounds0,\n        \"comment\":\"pulse\"}\n\n\n    n_proc_list = [1, 2, 3, 4, None]\n    best_res_list = []\n    duration_list = []\n    # Problem definition\n    fig_costs, axs_costs = plt.subplots(2, 1)\n\n    for n_proc in n_proc_list:\n        np.random.seed(444)\n        my_prob = nrv.Problem(n_proc=n_proc)\n        my_prob.costfunction = my_cost0\n        my_prob.optimizer = pso_opt\n        res0 = my_prob(**pso_kwargs_pb_0)\n        best_res_list += [res0[\"x\"]]\n        duration_list += [res0[\"optimization_time\"]]\n\n\n        print(\"best input vector:\", res0[\"x\"], \"\\nbest cost:\", res0[\"best_cost\"])\n\n\n        stim = cm_0(res0.x, static_context).extra_stim.stimuli[0]\n        stim.plot(axs_costs[0], label=\"rectangle pulse\")\n        axs_costs[0].set_xlabel(\"best stimulus shape\")\n        axs_costs[0].set_xlabel(\"time (ms)\")\n        axs_costs[0].set_ylabel(\"amplitude (\u00b5A)\")\n        axs_costs[0].grid()\n\n        res0.plot_cost_history(axs_costs[1])\n        axs_costs[1].set_xlabel(\"optimization iteration\")\n        axs_costs[1].set_ylabel(\"cost\")\n        axs_costs[1].grid()\n        fig_costs.tight_layout()\n\n        simres = res0.compute_best_pos(my_cost0)\n        simres.rasterize(\"V_mem\")\n        del my_prob\n\n    plt.figure()\n    n_proc_list_int = [1, 2, 3, 4, 5]\n    n_proc_list_labs = [str(i) for i in n_proc_list_int]\n    n_proc_list_labs[-1] = \"default = 3\"\n\n    plt.plot(n_proc_list_int, duration_list, \"-+k\")\n    plt.xticks(n_proc_list_int, labels=n_proc_list_int)\n    plt.xlabel(\"Number of process\")\n    plt.ylabel(\"PSO duration (s)\")\n    plt.show()"
      ]
    }
  ],
  "metadata": {
    "kernelspec": {
      "display_name": "Python 3",
      "language": "python",
      "name": "python3"
    },
    "language_info": {
      "codemirror_mode": {
        "name": "ipython",
        "version": 3
      },
      "file_extension": ".py",
      "mimetype": "text/x-python",
      "name": "python",
      "nbconvert_exporter": "python",
      "pygments_lexer": "ipython3",
      "version": "3.12.10"
    }
  },
  "nbformat": 4,
  "nbformat_minor": 0
}