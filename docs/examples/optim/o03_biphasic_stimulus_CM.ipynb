{
  "cells": [
    {
      "cell_type": "markdown",
      "metadata": {},
      "source": [
        "\n# Understanding context modifiers: **biphasic_stimulus_CM**\n\nThis small example shows a way to use the built-in `context modifiers<../../usersguide/optimization.rst#context-modifier>`\n:`biphasic_stimulus_CM`.\n"
      ]
    },
    {
      "cell_type": "code",
      "execution_count": null,
      "metadata": {
        "collapsed": false
      },
      "outputs": [],
      "source": [
        "import numpy as np\nimport matplotlib.pyplot as plt\nimport nrv\n\n# Generate a dummy static context\nt_sim=10\nl_ax = 10000\nax = nrv.myelinated(y=0, z=0, L=l_ax)\nE1 = nrv.point_source_electrode(x=l_ax/2,y=0, z=100)\ndummy_stim = nrv.stimulus()\n\nextra_stim = nrv.stimulation(\"epineurium\")\nextra_stim.add_electrode(E1, dummy_stim)\nax.attach_extracellular_stimulation(extra_stim)\nstatic_context = ax.save(extracel_context=True)\n\nlinestyles = [\"-\", \"--\", \":\"]\n\n\n# set t_cathod as a variable\ntest_stim_CM = nrv.biphasic_stimulus_CM(start=1, t_cathod=\"0\", s_cathod=100, s_ratio=0.2, t_inter=0.1)\n\n\n# For each of this points we are going to generate the axon\n# from static context with the context modifier\n# and then plot the stimulus\n\nX = np.array([\n    [.5],\n    [1],\n    [2],\n])\n\nfig1, axs1 = plt.subplots(2,2)\naxs1[0,0].set_title(\"X = [$t_{cathod}$]\")\nfor i, x in enumerate(X):\n    ax = test_stim_CM(x, static_context)\n    stim = ax.extra_stim.stimuli[0]\n    del ax\n    stim.plot(axs1[0,0], linestyle=linestyles[i], label=f\"x={x}\")\n\naxs1[0,0].grid()\naxs1[0,0].legend()\naxs1[0,0].set_xlabel('time (ms)')\naxs1[0,0].set_ylabel('amplitude (\u00b5A)')\n\n\n# t_strat\ntest_stim_CM.set_parameters(start=\"0\", t_cathod=1, s_cathod=100, s_ratio=0.2, t_inter=0.1)\n\nX = np.array([\n    [.5],\n    [1],\n    [2],\n])\n\n\naxs1[0, 1].set_title(\"X := [$t_{start}$]\")\nfor i, x in enumerate(X):\n    ax = test_stim_CM(x, static_context)\n    stim = ax.extra_stim.stimuli[0]\n    del ax\n    plt.figure(1)\n    stim.plot(axs1[0, 1], linestyle=linestyles[i], label=f\"x={x}\")\n\naxs1[0, 1].grid()\naxs1[0, 1].legend()\naxs1[0, 1].set_xlabel('time (ms)')\naxs1[0, 1].set_ylabel('amplitude (\u00b5A)')\n\n\n# s_cathod\ntest_stim_CM.set_parameters(start=1, t_cathod=1, s_cathod=\"0\", s_ratio=0.2, t_inter=0.1)\n\nX = np.array([\n    [10],\n    [50],\n    [100],\n])\n\naxs1[1, 0].set_title(\"X := [$s_{cathod}$]\")\nfor i, x in enumerate(X):\n    # we get the stimulus of the axon generated from the context modifier\n    ax = test_stim_CM(x, static_context)\n    stim = ax.extra_stim.stimuli[0]\n    del ax\n    stim.plot(axs1[1, 0], linestyle=linestyles[i], label=f\"x={x}\")\n\naxs1[1, 0].grid()\naxs1[1, 0].legend()\naxs1[1, 0].set_xlabel('time (ms)')\naxs1[1, 0].set_ylabel('amplitude (\u00b5A)')\n\n# s_cathod\ntest_stim_CM.set_parameters(start=1, t_cathod=1, s_cathod=100, s_ratio=\"0\", t_inter=0.1)\n\nX = np.array([\n    [.1],\n    [.2],\n    [.5],\n])\n\n\naxs1[1, 1].set_title(\"X := [$s_{ratio}$]\")\nfor i, x in enumerate(X):\n    # we get the stimulus of the axon generated from the context modifier\n    ax = test_stim_CM(x, static_context)\n    stim = ax.extra_stim.stimuli[0]\n    del ax\n    stim.plot(axs1[1, 1], linestyle=linestyles[i], label=f\"x={x}\")\n\naxs1[1, 1].grid()\naxs1[1, 1].legend()\naxs1[1, 1].set_xlabel('time (ms)')\naxs1[1, 1].set_ylabel('amplitude (\u00b5A)')\nfig1.tight_layout()\n\n# \ntest_stim_CM.set_parameters(start=\"3\", t_cathod=\"2\", s_cathod=\"0\", s_ratio=\"1\", t_inter=\"4\")\n\nX = np.array([\n    [100, .1, .5, 0.5, 0.],\n    [200, .2, 1, 1, 0.2],\n    [500, .5, 2, 2, 0.4],\n])\n\nfig2, ax2 = plt.subplots()\nax2.set_title(\"X = [$s_{cathod}$, $s_{ratio}$, $t_{cathod}$, $t_{cathod}$, $t_{inter}$]\")\nfor i, x in enumerate(X):\n    # we get the stimulus of the axon generated from the context modifier\n    ax = test_stim_CM(x, static_context)\n    stim = ax.extra_stim.stimuli[0]\n    del ax\n\n    stim.plot(ax2, linestyle=linestyles[i], label=f\"x={list(x)}\")\n    # ax1.plot(t_shift+x[::2], x[1::2], 'ok')\n\nax2.grid()\nax2.legend()\nax2.set_xlabel('time (ms)')\nax2.set_ylabel('amplitude (\u00b5A)')\n\nplt.show()"
      ]
    }
  ],
  "metadata": {
    "kernelspec": {
      "display_name": "Python 3",
      "language": "python",
      "name": "python3"
    },
    "language_info": {
      "codemirror_mode": {
        "name": "ipython",
        "version": 3
      },
      "file_extension": ".py",
      "mimetype": "text/x-python",
      "name": "python",
      "nbconvert_exporter": "python",
      "pygments_lexer": "ipython3",
      "version": "3.12.10"
    }
  },
  "nbformat": 4,
  "nbformat_minor": 0
}