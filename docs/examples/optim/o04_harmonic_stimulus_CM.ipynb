{
  "cells": [
    {
      "cell_type": "markdown",
      "metadata": {},
      "source": [
        "\n# Understanding context modifiers: **harmonic_stimulus_CM**\n\nThis example shows a way to use the built-in `context modifiers<../../usersguide/optimization#context-modifier>`\n:`harmonic_stimulus_CM`.\n"
      ]
    },
    {
      "cell_type": "code",
      "execution_count": null,
      "metadata": {
        "collapsed": false
      },
      "outputs": [],
      "source": [
        "import numpy as np\nimport matplotlib.pyplot as plt\nimport nrv\n\n# Generate a dummy static context\nt_sim=10\nl_ax = 10000\nax = nrv.myelinated(y=0, z=0, L=l_ax)\nE1 = nrv.point_source_electrode(x=l_ax/2,y=0, z=100)\ndummy_stim = nrv.stimulus()\n\nextra_stim = nrv.stimulation(\"epineurium\")\nextra_stim.add_electrode(E1, dummy_stim)\nax.attach_extracellular_stimulation(extra_stim)\nstatic_context = ax.save(extracel_context=True)\n\n\n# set the context modifier\nstart = 0.1\nt_pulse = 1\namplitude = 200\n\ntest_stim_CM = nrv.harmonic_stimulus_CM(start=start,t_pulse=t_pulse)\n\n# For each of this points we are going to generate the axon\n# from static context with the context modifier\n# and then plot the stimulus\n\n\nX = [\n    [100,0.2,0, 0.4,0],\n    [200,0.2,0, 0.4,0],\n    [500,0.2,0, 0.4,0],\n]\n\nfig1, axs1 = plt.subplots(2,2, figsize=(10, 10))\nfor i, x in enumerate(X):\n    ax = test_stim_CM(x, static_context)\n    stim = ax.extra_stim.stimuli[0]\n    del ax\n    stim.plot(axs1[0,0], label=f\"x={x}\")\n\naxs1[0,0].grid()\naxs1[0,0].legend()\naxs1[0,0].set_xlabel('time (ms)')\naxs1[0,0].set_ylabel('amplitude (\u00b5A)')\n\n\n# t_strat\n\nX = [\n    [200,0.1,0, 0.4,0],\n    [200,0.5,0, 0.4,0],\n    [200,0.9,0, 0.4,0],\n]\n\n\nfor i, x in enumerate(X):\n    ax = test_stim_CM(x, static_context)\n    stim = ax.extra_stim.stimuli[0]\n    del ax\n    plt.figure(1)\n    stim.plot(axs1[0, 1], label=f\"x={x}\")\n\naxs1[0, 1].grid()\naxs1[0, 1].legend()\naxs1[0, 1].set_xlabel('time (ms)')\naxs1[0, 1].set_ylabel('amplitude (\u00b5A)')\n\n\n# s_cathod\n\nX = [\n    [200,0.2,0, 0.4, 0],\n    [200,0.2,3.14/2, 0.4, 0],\n    [200,0.2,3.14, 0.4, 0],\n]\n\n\nfor i, x in enumerate(X):\n    # we get the stimulus of the axon generated from the context modifier\n    ax = test_stim_CM(x, static_context)\n    stim = ax.extra_stim.stimuli[0]\n    del ax\n    stim.plot(axs1[1, 0], label=f\"x={x}\")\n\naxs1[1, 0].grid()\naxs1[1, 0].legend()\naxs1[1, 0].set_xlabel('time (ms)')\naxs1[1, 0].set_ylabel('amplitude (\u00b5A)')\n\n# s_cathod\nX = [\n    [amplitude,0.2,0],\n    [amplitude,0.2,0,0.4,0],\n    [amplitude,0.2,0,0.4,0,0.6,0],\n    [amplitude,0.8,0,0.4,0,0.6,0,0.8,0]\n]\n\n\n\nfor i, x in enumerate(X):\n    # we get the stimulus of the axon generated from the context modifier\n    ax = test_stim_CM(x, static_context)\n    stim = ax.extra_stim.stimuli[0]\n    del ax\n    stim.plot(axs1[1, 1], label=f\"x={x}\")\n\naxs1[1, 1].grid()\naxs1[1, 1].legend()\naxs1[1, 1].set_xlabel('time (ms)')\naxs1[1, 1].set_ylabel('amplitude (\u00b5A)')\nfig1.tight_layout()\n\nplt.show()"
      ]
    }
  ],
  "metadata": {
    "kernelspec": {
      "display_name": "Python 3",
      "language": "python",
      "name": "python3"
    },
    "language_info": {
      "codemirror_mode": {
        "name": "ipython",
        "version": 3
      },
      "file_extension": ".py",
      "mimetype": "text/x-python",
      "name": "python",
      "nbconvert_exporter": "python",
      "pygments_lexer": "ipython3",
      "version": "3.12.10"
    }
  },
  "nbformat": 4,
  "nbformat_minor": 0
}