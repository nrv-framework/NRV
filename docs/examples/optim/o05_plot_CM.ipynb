{
  "cells": [
    {
      "cell_type": "markdown",
      "metadata": {},
      "source": [
        "\n# Ploting Optimization - context modifiers\n\nThis is a very small example of a way to plot the built-in `context modifiers<../../usersguide/optimization#context-modifier>`\n"
      ]
    },
    {
      "cell_type": "code",
      "execution_count": null,
      "metadata": {
        "collapsed": false
      },
      "outputs": [],
      "source": [
        "import numpy as np\nimport matplotlib.pyplot as plt\nimport nrv \n\nfname = \"figures/stimuli_v2\"\nsmall_linewidth = 1\nbig_linewidth = 5\nmarkersize = 15\n\n\ndt = 0.005\nt_sim = 0.5\nt_end = 0.5\nI_max_abs = 100\nt_bound = (0, t_end)\nI_bound = (-I_max_abs, 0)"
      ]
    },
    {
      "cell_type": "markdown",
      "metadata": {},
      "source": [
        "## waveform figures\n\n"
      ]
    },
    {
      "cell_type": "code",
      "execution_count": null,
      "metadata": {
        "collapsed": false
      },
      "outputs": [],
      "source": [
        "# Biphasic pulse\nt_start = 0.1\ncontext_modifier1 = nrv.biphasic_stimulus_CM(start=t_start, s_cathod=\"0\", t_cathod=\"1\", s_anod=0)\ndef generate_waveform0(Xsp2, t_sim=100, **kwargs):\n    stim = context_modifier1.stimulus_generator(Xsp2)\n    stim0 = nrv.stimulus()\n    stim0.s = np.zeros(1000)\n    stim0.t = np.linspace(0, t_sim, 1000)\n    stim0 += stim\n    return stim0.s\n\nXb = [85, 0.25]\n\nwaveform0 = generate_waveform0(Xb, t_sim=t_sim)\nt0 = np.linspace(0, t_sim, len(waveform0))\n# Spline 2pts\nkwrgs_interp = {\n    \"dt\": dt,\n    \"amp_start\": 0,\n    \"amp_stop\": 0,\n    \"intertype\": \"Spline\",\n    \"bounds\": I_bound,\n    \"fixed_order\": False,\n    \"t_end\": t_end,\n    \"t_sim\":t_sim,\n    \"t_shift\":0,\n    \"strict_bounds\":True,\n    }\n\n\nXsp1 = [0.1, 0]\nXsp1 += [0.27, -20]\nXsp1 += [0.35,0]\n\nwaveform1 = nrv.interpolate_Npts(Xsp1,**kwrgs_interp)\nt1 = np.linspace(0, t_sim, len(waveform1))\n\nXsp2 = [0.1, 0]\nXsp2 += [0.22, -70]\nXsp2 += [0.15, -30]\nXsp2 += [0.35,0]\n\nwaveform2 = nrv.interpolate_Npts(Xsp2,**kwrgs_interp)\nt2 = np.linspace(0, t_sim, len(waveform2))\n\n\nfig, ax = plt.subplots(figsize=(5,3))\n#plt.gcf()\n\n#axes\nax.set_axis_off()\nt_bound_plot = [-0.05, t_sim]\nI_bound_plot = [-I_max_abs, 10]\n\nax.set_xlim(t_bound_plot)\nax.set_ylim(I_bound_plot)\nax.set_xticks([])\nax.set_yticks([])\nax.plot(t_bound_plot, [0, 0], linewidth=small_linewidth,color=\"k\")\nax.plot([0, 0], I_bound_plot, linewidth=small_linewidth,color=\"k\")"
      ]
    },
    {
      "cell_type": "markdown",
      "metadata": {},
      "source": [
        "## waveform 2\n\n"
      ]
    },
    {
      "cell_type": "code",
      "execution_count": null,
      "metadata": {
        "collapsed": false
      },
      "outputs": [],
      "source": [
        "# details wf0\n\noffset = 5\nax.plot([t_start, t_start+Xb[1]], [-Xb[0]-offset, -Xb[0]-offset], linewidth=small_linewidth,color=\"darkred\")\nax.plot([t_start], [-Xb[0]-offset], \"4\", markersize=markersize,markeredgewidth=small_linewidth, color=\"darkred\")\nax.plot([t_start+Xb[1]], [-Xb[0]-offset], \"3\", markersize=markersize,markeredgewidth=small_linewidth, color=\"darkred\")\nax.plot([0, t_start], [-Xb[0], -Xb[0]], \":\", linewidth=small_linewidth,color=\"k\")\n\n# wf0\nax.plot(t0, waveform0, linewidth=big_linewidth,color=\"#715D99\")\nfig"
      ]
    },
    {
      "cell_type": "markdown",
      "metadata": {},
      "source": [
        "## waveform 1\n\n"
      ]
    },
    {
      "cell_type": "code",
      "execution_count": null,
      "metadata": {
        "collapsed": false
      },
      "outputs": [],
      "source": [
        "# details wf1\nfor i in range(len(Xsp1)//2):\n    ax.plot([Xsp1[2*i], Xsp1[2*i]], [0, Xsp1[2*i+1]], \":\", linewidth=small_linewidth,color=\"k\")\n    ax.plot([0, Xsp1[2*i]], [Xsp1[2*i+1], Xsp1[2*i+1]], \":\", linewidth=small_linewidth,color=\"k\")\n\n\n# wf2\nax.plot(t1, waveform1, linewidth=big_linewidth,color=\"#009999\")\nax.plot(Xsp1[::2], Xsp1[1::2], \"+\", markersize=markersize, markeredgewidth=big_linewidth/2,color=\"darkred\")\nfig"
      ]
    },
    {
      "cell_type": "markdown",
      "metadata": {},
      "source": [
        "## waveform 1\n\n"
      ]
    },
    {
      "cell_type": "code",
      "execution_count": null,
      "metadata": {
        "collapsed": false
      },
      "outputs": [],
      "source": [
        "# details wf1\nfor i in range(len(Xsp1)//2):\n    ax.plot([Xsp1[2*i], Xsp1[2*i]], [0, Xsp1[2*i+1]], \":\", linewidth=small_linewidth,color=\"k\")\n    ax.plot([0, Xsp1[2*i]], [Xsp1[2*i+1], Xsp1[2*i+1]], \":\", linewidth=small_linewidth,color=\"k\")\n\n\n# wf2\nax.plot(t1, waveform1, linewidth=big_linewidth,color=\"#009999\")\nax.plot(Xsp1[::2], Xsp1[1::2], \"+\", markersize=markersize, markeredgewidth=big_linewidth/2,color=\"darkred\")\nfig"
      ]
    },
    {
      "cell_type": "markdown",
      "metadata": {},
      "source": [
        "## waveform 0\n\n"
      ]
    },
    {
      "cell_type": "code",
      "execution_count": null,
      "metadata": {
        "collapsed": false
      },
      "outputs": [],
      "source": [
        "# details wf0\n\noffset = 5\nax.plot([t_start, t_start+Xb[1]], [-Xb[0]-offset, -Xb[0]-offset], linewidth=small_linewidth,color=\"darkred\")\nax.plot([t_start], [-Xb[0]-offset], \"4\", markersize=markersize,markeredgewidth=small_linewidth, color=\"darkred\")\nax.plot([t_start+Xb[1]], [-Xb[0]-offset], \"3\", markersize=markersize,markeredgewidth=small_linewidth, color=\"darkred\")\nax.plot([0, t_start], [-Xb[0], -Xb[0]], \":\", linewidth=small_linewidth,color=\"k\")\n\nax.plot(t0, waveform0, linewidth=big_linewidth,color=\"#715D99\")\nfig\n\nplt.show()"
      ]
    }
  ],
  "metadata": {
    "kernelspec": {
      "display_name": "Python 3",
      "language": "python",
      "name": "python3"
    },
    "language_info": {
      "codemirror_mode": {
        "name": "ipython",
        "version": 3
      },
      "file_extension": ".py",
      "mimetype": "text/x-python",
      "name": "python",
      "nbconvert_exporter": "python",
      "pygments_lexer": "ipython3",
      "version": "3.12.10"
    }
  },
  "nbformat": 4,
  "nbformat_minor": 0
}