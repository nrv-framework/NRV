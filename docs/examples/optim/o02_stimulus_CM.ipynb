{
  "cells": [
    {
      "cell_type": "markdown",
      "metadata": {},
      "source": [
        "\n# Understanding context modifiers: **stimulus_CM**\n\nThis small example shows a way to use the built-in `~nrv.optim.optim_utils.stimulus_CM`.\n\n.. seealso::\n    :doc:`users' guide <../../usersguide/optimization>` \n"
      ]
    },
    {
      "cell_type": "code",
      "execution_count": null,
      "metadata": {
        "collapsed": false
      },
      "outputs": [],
      "source": [
        "import numpy as np\nimport matplotlib.pyplot as plt\nimport nrv\n\n# Generate a dummy static context\nt_sim=10\nl_ax = 10000\nax = nrv.myelinated(y=0, z=0, L=l_ax)\nE1 = nrv.point_source_electrode(x=l_ax/2,y=0, z=100)\ndummy_stim = nrv.stimulus()\n\nextra_stim = nrv.stimulation(\"epineurium\")\nextra_stim.add_electrode(E1, dummy_stim)\nax.attach_extracellular_stimulation(extra_stim)\nstatic_context = ax.save(extracel_context=True)\n\n# Sets of tunning parameters\nX1 = np.array([1, -80])\nX2 = np.array([4, -60])\nX3 = np.array([1, -50, 4, -40])\nX4 = np.array([1, -40, 2.5, -10, 4, -30])\n\nX = [X1, X2, X3, X4]\n\n# context modifiers parameters\ndt = 0.005\nt_shift = 1\namp_start = 0\namp_stop = 0\nfixed_order = False\nt_end = t_sim-3\n\n## Spline interpolation\n# Generate the context modifiers\nkwrgs_interp = {\n    \"dt\": dt,\n    \"t_shift\": t_shift,\n    \"amp_start\": amp_start,\n    \"amp_stop\": amp_stop,\n    \"intertype\": \"spline\",\n    \"fixed_order\": fixed_order,\n    \"t_end\": t_end,\n    }\ntest_stim_CM = nrv.stimulus_CM(interpolator=nrv.interpolate_Npts, intrep_kwargs=kwrgs_interp, t_sim=t_sim)\n\n# Plot stimuli for every points\nfig1, ax1 = plt.subplots()\nax1.set_title(\"Spline interpolation\")\nfor i, x in enumerate(X):\n    # we get the stimulus of the axon generated from the context modifier\n    ax = test_stim_CM(x, static_context)\n    stim = ax.extra_stim.stimuli[0]\n    del ax\n\n    plt.figure(1)\n    stim.plot(ax1, label=f\"x={x}\")\n    ax1.plot(t_shift+x[::2], x[1::2], 'ok')\n\nax1.grid()\nax1.legend()\nax1.set_xlabel('time (ms)')\nax1.set_ylabel('amplitude (\u00b5A)')\nax1.set_xticks(\n    [0, 2, 4, 6, 8, 10, t_shift, t_shift+t_end, t_sim],\n    labels=[\"0\", \"2\", \"4\", \"6\", \"8\", \"10\", \"$t_{shift}$\", \"$t_{shift}$+$t_{end}$\", \"$t_{sim}$\"]\n)\n\n\n## Linear\n# Generate the context modifiers\n\nkwrgs_interp[\"intertype\"] = \"linear\"\n\n# Plot stimuli for every points\nfig2, ax2 = plt.subplots()\nax2.set_title(\"Linear interpolation\")\nfor i, x in enumerate(X):\n    # for this example only the stimulus of the axon\n    # generated from the context modifier is required\n\n    ax = test_stim_CM(x, static_context)\n    stim = ax.extra_stim.stimuli[0]\n    del ax\n\n    plt.figure(1)\n    stim.plot(ax2, label=f\"x={x}\")\n    ax2.plot(t_shift+x[::2], x[1::2], 'ok')\n\nax2.grid()\nax2.legend()\nax2.set_xlabel('time (ms)')\nax2.set_ylabel('amplitude (\u00b5A)')\nax2.set_xticks([0, 2, 4, 6, 8, 10, t_shift, t_shift+t_end, t_sim], labels=[\"0\", \"2\", \"4\", \"6\", \"8\", \"10\", \"$t_{shift}$\", \"$t_{shift}$+$t_{end}$\", \"$t_{sim}$\"])\n\nplt.show()"
      ]
    }
  ],
  "metadata": {
    "kernelspec": {
      "display_name": "Python 3",
      "language": "python",
      "name": "python3"
    },
    "language_info": {
      "codemirror_mode": {
        "name": "ipython",
        "version": 3
      },
      "file_extension": ".py",
      "mimetype": "text/x-python",
      "name": "python",
      "nbconvert_exporter": "python",
      "pygments_lexer": "ipython3",
      "version": "3.12.10"
    }
  },
  "nbformat": 4,
  "nbformat_minor": 0
}