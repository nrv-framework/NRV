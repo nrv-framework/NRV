{
  "cells": [
    {
      "cell_type": "markdown",
      "metadata": {},
      "source": [
        "\n# Tutorial 4 - Stimulating Nerves with NRV\n\nIn this tutorial, we will create a nerve with two fascicles, populate it with axons, and stimulate it using both intra- and extra-fascicular electrodes.\n\nAs before, we start by importing the NRV package, along with numpy and matplotlib:\n\n<div class=\"alert alert-info\"><h4>Note</h4><p>As a best practice\u2014especially when using multiprocessing\u2014always place code execution inside a Python main guard:\n\n    .. autolink-skip::\n```python3\nif __name__ == \"__main__\":\n    # your code here\n```\n    This ensures compatibility across platforms and prevents unexpected behavior when spawning subprocesses.\n    If you are running this tutorial as a .py file, remember to uncomment this line and indent all subsequent code accordingly.</p></div>\n"
      ]
    },
    {
      "cell_type": "code",
      "execution_count": null,
      "metadata": {
        "collapsed": false
      },
      "outputs": [],
      "source": [
        "import numpy as np\nimport matplotlib.pyplot as plt\nimport nrv\n\n# if __name__ == \"__main__\":"
      ]
    },
    {
      "cell_type": "markdown",
      "metadata": {},
      "source": [
        "## Nerve creation\n\nFirst, we need to create our nerve object using the NRV's ```nerve```-class. This object contains the geometrical properties of the nerve. NRV currently only supports cylindrical shapes for nerve, thus a diameter (```nerve_d```) and a length (```nerve_l```) must be specified at the nerve creation. The ```Outer_D``` parameter can also be specified. It refers to the saline solution bath diameter in which the nerve is plunged into.\n\n"
      ]
    },
    {
      "cell_type": "code",
      "execution_count": null,
      "metadata": {
        "collapsed": false
      },
      "outputs": [],
      "source": [
        "outer_d = 5         # in mm\nnerve_d = 500       # in um\nnerve_l = 5000      # in um\nnerve = nrv.nerve(length=nerve_l, diameter=nerve_d, Outer_D=outer_d)"
      ]
    },
    {
      "cell_type": "markdown",
      "metadata": {},
      "source": [
        "Then, we will add two fascicles to the nerve. Fascicles in NRV combine a shape (:class:`~nrv.utils.geom.CShape`) and an axon population (:class:`~nrv.nmod.axon_population`). In addition, the ```ID``` parameter of the ```fascicle``` object tags each fascicle of the model, which will facilitate the post-simulation analysis.\n\n## Build fascicles' geometry\n\nFascicles can be defined with NRV's ```fascicle``` class. Fascicles are incorporated one by one into the ```nerve``` object using the ```add_fascicle``` method. We can now plot a 2-D section of the nerve with the ```plot``` method of the ```nerve``` object to visualize it.\n\n**Fascicle's shape from diameter**\n\nThe simplest method is to define a circular fascicle by its diameter and its (y, z) coordinates in space.\n\n<div class=\"alert alert-info\"><h4>Note</h4><p>In our case, the (0, 0) coordinate is aligned with the center of the nerve. Its final position in the nerve is reached with a translation when added to the nerve.</p></div>\n\n.. tip::\n    An elliptic fascicle can also be generated with the quick method by setting diameter as a tuple (corresponding to the smallest and largest diameters of the ellipse). In such a case, an eventual rotation can be added using the ``rot`` argument of :meth:`nerve.add_fascicle<../_nrv/nmod/nerve/~nrv.nmod.nerve.add_fascicle>``\n\n"
      ]
    },
    {
      "cell_type": "code",
      "execution_count": null,
      "metadata": {
        "collapsed": false
      },
      "outputs": [],
      "source": [
        "fasc1_d = 200       # in um\nfasc1_y = -100      # in um\nfasc1_z = 0         # in um\n\n\n#create the fascicle objects\nfascicle_1 = nrv.fascicle(diameter=fasc1_d,ID=1)\nnerve.add_fascicle(fascicle=fascicle_1, y=fasc1_y, z=fasc1_z)\n\n#plot\nfig, ax = plt.subplots(1, 1, figsize=(6,6))\nnerve.plot(ax)\nax.set_xlabel(\"z-axis (\u00b5m)\")\nax.set_ylabel(\"y-axis (\u00b5m)\")"
      ]
    },
    {
      "cell_type": "markdown",
      "metadata": {},
      "source": [
        "**Fascicle's shape from CShape**\n\nA second method to build a custom-shaped fascicle consists in using :meth:`~nrv.nmod.fascicle.set_geometry`.\n\nIn this example, we generate a second elliptic fascicle centered at $(y,z) = (100, 0)\\ \\mu m$ with minor and major radii of $(110, 55)\\ \\mu m$. The geometry is created using :func:`~nrv.utils.geom.create_cshape`.\n\n<div class=\"alert alert-info\"><h4>Note</h4><p>This time, as the fascicle is already positioned from its geometry, it is added to our nerve without any additional translation.</p></div>\n\n.. seealso::\n    `Builtin geometry<../usersguide/geometry#builtin-shapes)>`.\n\n"
      ]
    },
    {
      "cell_type": "code",
      "execution_count": null,
      "metadata": {
        "collapsed": false
      },
      "outputs": [],
      "source": [
        "fasc2_d = (220,110)       # in um\nfasc2_center = (100, 0)       # in um\ngeom2 = nrv.create_cshape(center=fasc2_center, diameter=fasc2_d, rot=90, degree=True)\n\nfascicle_2 = nrv.fascicle(ID=2)\nfascicle_2.set_geometry(geometry=geom2)\n\n#Add the fascicles to the nerve\nnerve.add_fascicle(fascicle=fascicle_2)\n\n#plot\nfig, ax = plt.subplots(1, 1, figsize=(6,6))\nnerve.plot(ax)\nax.set_xlabel(\"z-axis (\u00b5m)\")\nax.set_ylabel(\"y-axis (\u00b5m)\")"
      ]
    },
    {
      "cell_type": "markdown",
      "metadata": {},
      "source": [
        "## Populate fascicles with axons\n\nNow that our nerve geometry is created, it is time to populate them with axons. For each fascicle, axon populations of axons can be generated and handle using the :class:`~nrv.nmod.axon_population`-class attribute ``fascicle.axons``. The creation of an usable population consist in two steps:\n\n- The population creation \n- The population placement\n\n.. seealso:\n    :doc:`Axon population users' guide<../usersguide/populations>` for more detail.\n\n**Population creation**\n\nThe first step is to create the population. In this example, we will populate each fascicle with myelinated and unmyelinated axons, with a total of 100 axons in each fascicle. \n\nTo create a realistic axon diameter distribution, we use the NRV's :meth:`~nrv.nmod.axon_population.create_population`-method. The function can either take for arguments:\n\n* a list of diameter and axons type (0 for umyelinated, 1 for myelinated): ``data``\n\nTo generate the population custumisable data. Or, in our case:\n\n* the number of axon in the population ```n_ax```\n* the proportion of unmyelinated fibers in the population ```percent_unmyel```\n* the myelinated axon distribution ```M_stat```\n* the unmyelinated axon distribution ```U_stat```\n\nTo generate population from statistical distributions\nAvailable myelinated and unmyelinated axon distributions are described in :doc:`Axon population users' guide<../usersguide/populations.rst#diameter-distributions>`.\n\nThis method build an ``pandas.DataFrame`` attribute stored in ``axon_population.axon_pop`` (or ``fascicle.axons.axon_pop`` in the fascicle) and containing two columns: \n\n- The axons diameters in $\\mu m$: ``\"diameters\"``\n- The axons myelination status (0 for umyelinated, 1 for myelinated): ``\"types\"``\n\n"
      ]
    },
    {
      "cell_type": "code",
      "execution_count": null,
      "metadata": {
        "collapsed": false
      },
      "outputs": [],
      "source": [
        "n_ax = 100      #size of the axon population\nfascicle_1.axons.create_population(n_ax=n_ax, percent_unmyel=0.7, M_stat=\"Ochoa_M\", U_stat=\"Ochoa_U\",)"
      ]
    },
    {
      "cell_type": "markdown",
      "metadata": {},
      "source": [
        "**Population placement**\n\n"
      ]
    },
    {
      "cell_type": "code",
      "execution_count": null,
      "metadata": {
        "collapsed": false
      },
      "outputs": [],
      "source": [
        "# The second step is to place the generated axon population within the fascicle. This is done using the :meth:`~nrv.nmod.axon_population.place_population`-method. This method automatically assigns (y, z) coordinates to each axon, ensuring that all axons are positioned inside the fascicle geometry. The placement algorithm respects the ``delta`` parameter, which sets the minimum allowed distance (in $\\mu m$) between axons and between axons and the fascicle border.\n#\n# .. note::\n#     A distinction can be done between the distance between axons and the distance with the border by using respectively ``delta_in`` and ``delta_trace``.\n#\n# The resulting positions are stored in the ``\"y\"`` and ``\"z\"`` columns of the ``axon_pop`` DataFrame (i.e., ``fascicle.axons.axon_pop``). \n# An additional boolean column ``\"is_placed\"`` is generated assessing if each axon could have been placed in the population. Thus, if the population is too large to fit within the fascicle given the specified ``delta`` (i.e. some lines of ``\"is_placed\"`` are ``False``), cooresponding axons will still exist in the population but will not be considered in the fascicle. \n#\n# .. seealso:\n#     More detail on mask and subpopulation in :doc:`Axon population users' guide<../usersguide/populations>`)\n#\n# .. tip::\n#     As Jupyter notebook offer a great viewer for ``pandas.DataFrame``, axon population can be well printed by adding the following line at the python cell: ```fascicle_1.axons.axon_pop```.\n\n\n\nfascicle_1.axons.place_population(delta=5)\n\nax_pop = fascicle_1.axons # Storing the population for later\nfascicle_1.axons.get_sub_population()"
      ]
    },
    {
      "cell_type": "markdown",
      "metadata": {},
      "source": [
        "Let's repeat this operation for the 2nd fascicle and plot the nerve again. This time, both creation and placement can be done in one line using the :meth:`fascicle.fill<~nrv.nmod.fascicle.fill> method.\n\n.. tip::\n    This :meth:`fascicle.fill<~nrv.nmod.fascicle.fill>`-method is an alias for :meth:`axon_population.fill_geometry<~nrv.nmod.axon_population.fill_geometry>`, which calls :meth:`~nrv.nmod.axon_population.create_population` and then :meth:`~nrv.nmod.axon_population.place_population`. Its arguments are therefore the same as those of the two other methods.\n\n"
      ]
    },
    {
      "cell_type": "code",
      "execution_count": null,
      "metadata": {
        "collapsed": false
      },
      "outputs": [],
      "source": [
        "fascicle_2.fill(n_ax=n_ax, percent_unmyel=0.7, M_stat=\"Ochoa_M\", U_stat=\"Ochoa_U\", delta=5)"
      ]
    },
    {
      "cell_type": "markdown",
      "metadata": {},
      "source": [
        "We see that now our nerve is populated with fibers. Since the ```fascicle_1```and ```fascicle_2```-objects are attached to the ```nerve```-object, any modification to one of them will be propagated to the nerve.\n\n"
      ]
    },
    {
      "cell_type": "code",
      "execution_count": null,
      "metadata": {
        "collapsed": false
      },
      "outputs": [],
      "source": [
        "fig, ax = plt.subplots(1, 1, figsize=(6,6))\nnerve.plot(ax)\nax.set_xlabel(\"z-axis (\u00b5m)\")\nax.set_ylabel(\"y-axis (\u00b5m)\")"
      ]
    },
    {
      "cell_type": "markdown",
      "metadata": {},
      "source": [
        "While we are here, we can also define stimulation parameters of the axons. For example, we can specify the computational model of the myelinated and unmyelinated fibers. You can refer to the previous tutorials for a thorough overview of the fiber's simulation parameters available.\n\n"
      ]
    },
    {
      "cell_type": "code",
      "execution_count": null,
      "metadata": {
        "collapsed": false
      },
      "outputs": [],
      "source": [
        "m_model = 'MRG'\num_model = 'Rattay_Aberham'\nu_param = {\"model\": um_model}\nm_param = {\"model\": m_model}\n\n#For fascicle1\nfascicle_1.set_axons_parameters(unmyelinated_only=True,**u_param)\nfascicle_1.set_axons_parameters(myelinated_only=True,**m_param)\n\n#For fascicle2\nfascicle_2.set_axons_parameters(unmyelinated_only=True,**u_param)\nfascicle_2.set_axons_parameters(myelinated_only=True,**m_param)"
      ]
    },
    {
      "cell_type": "markdown",
      "metadata": {},
      "source": [
        "## Extracellular stimulation context\n\nNow we will define everything related to the extracellular stimulation. First, we need to create a ```FEM_stimulation```-object. In this object, we can specify the conductivity of each material of the FEM stimulation. Available material conductivities are specified in :doc:`../../usersguide/materials`.\n\n"
      ]
    },
    {
      "cell_type": "code",
      "execution_count": null,
      "metadata": {
        "collapsed": false
      },
      "outputs": [],
      "source": [
        "extra_stim = nrv.FEM_stimulation(endo_mat=\"endoneurium_ranck\",      #endoneurium conductivity\n                                peri_mat=\"perineurium\",            #perineurium conductivity\n                                epi_mat=\"epineurium\",              #epineurium conductivity\n                                ext_mat=\"saline\")                  #saline solution conductivity"
      ]
    },
    {
      "cell_type": "markdown",
      "metadata": {},
      "source": [
        "### Adding intracellular electrodes\n\nFirst, we will run some simulation with 3 intrafascicular LIFE-like electrodes, using the ```LIFE_electrode``` NRV's object. In NRV, LIFEs are defined by a diameter (```life_d```), an active-site length (```life_length```) and a (x,y,z) spatial coordinates. A label and an ID can also be specified to facilitate post-simulation analysis. In this example we aligned the LIFEs x-position to the middle of the nerve, and set their (y,z) coordinates such that:\n- ```LIFE_0``` is located inside the nerve but outside the fascicles\n- ```LIFE_1``` is located inside ```fascicle_1```\n- ```LIFE_2``` is located inside ```fascicle_2```\n\nThe electrodes are attached to the ```extra_stim``` ```FEM_stimulation```-object with the ```add_electrode```-method. The method also requires to link the electrode to a NRV ```stimulus```-object. For that, we created a dummy stimulus ```dummy_stim```that we will change later.\n\n"
      ]
    },
    {
      "cell_type": "code",
      "execution_count": null,
      "metadata": {
        "collapsed": false
      },
      "outputs": [],
      "source": [
        "life_d = 25                                 #LIFE diamter in um\nlife_length = 1000                          #LIFE active-site length in um\nlife_x_offset = (nerve_l-life_length)/2     #x position of the LIFE (centered)\n\nlife_y_c_0 = 0                              #LIFE_0 y-coordinate (in um)\nlife_z_c_0 = 150                            #LIFE_0 z-coordinate (in um)\nlife_y_c_1 = fasc1_y                        #LIFE_1 y-coordinate (in um)\nlife_z_c_1 = fasc1_z                        #LIFE_1 z-coordinate (in um)\nlife_y_c_2 = fasc2_center[0]                        #LIFE_2 y-coordinate (in um)\nlife_z_c_2 = fasc2_center[1]                        #LIFE_1 z-coordinate (in um)\n\nelec_0 = nrv.LIFE_electrode(\"LIFE_0\", life_d, life_length, life_x_offset, life_y_c_0, life_z_c_0, ID = 0) # LIFE in neither of the two fascicles\nelec_1 = nrv.LIFE_electrode(\"LIFE_1\", life_d, life_length, life_x_offset, life_y_c_1, life_z_c_1, ID = 1) # LIFE in the fascicle 1\nelec_2 = nrv.LIFE_electrode(\"LIFE_2\", life_d, life_length, life_x_offset, life_y_c_2, life_z_c_2, ID = 2) # LIFE in the fascicle 2\n\n#Dummy stimulus\ndummy_stim = nrv.stimulus()\ndummy_stim.pulse(0, 0.1, 1)\n\n#Attach electrodes to the extra_stim object \nextra_stim.add_electrode(elec_0, dummy_stim)\nextra_stim.add_electrode(elec_1, dummy_stim)\nextra_stim.add_electrode(elec_2, dummy_stim)"
      ]
    },
    {
      "cell_type": "markdown",
      "metadata": {},
      "source": [
        "Last, we attach ```extra_stim```-object to the nerve with the ```attach_extracellular_stimulation```-method:\n\n"
      ]
    },
    {
      "cell_type": "code",
      "execution_count": null,
      "metadata": {
        "collapsed": false
      },
      "outputs": [],
      "source": [
        "nerve.attach_extracellular_stimulation(extra_stim)"
      ]
    },
    {
      "cell_type": "markdown",
      "metadata": {},
      "source": [
        "Let's see how our nerve with electrodes now looks like:\n\n"
      ]
    },
    {
      "cell_type": "code",
      "execution_count": null,
      "metadata": {
        "collapsed": false
      },
      "outputs": [],
      "source": [
        "fig, ax = plt.subplots(1, 1, figsize=(6,6))\nnerve.plot(ax)\nax.set_xlabel(\"z-axis (\u00b5m)\")\nax.set_ylabel(\"y-axis (\u00b5m)\")"
      ]
    },
    {
      "cell_type": "markdown",
      "metadata": {},
      "source": [
        "The three LIFEs now are showing up, and we can make sure that their positions within the nerve are corrects. We also note that axon overlapping with the electrodes are removed. \n\n## Simulating the nerve\n\nNow it's time to run some simulations! \n\nFirst, we set up a few flags: \n- ```nerve.save_results = False``` disables the automatic saving of the simulation results in a folder \n- ```nerve.return_parameters_only = False``` makes sure that all simulation results are returned to the ```nerve_results```dictionnary.\n- ```nerve.verbose = True``` so it looks cool\n\n<div class=\"alert alert-info\"><h4>Note</h4><p>Saving simulation results in a folder and returning simulation parameters only can avoid excessive RAM memory usage for large nerve simulation. By default, ``nerve.save_results`` and ```nerve.return_parameters_only``` are set to ``False`` i.e. results are not saved in a folder and all simulation results are available in ```nerve_results```.</p></div>\n\nSimulation duration is set with the ```t_sim``` parameter (in ms). We can also specify a ```postproc_function``` which will be applied to each axon's simulation results. This is particularly useful to remove unused data and save up some memory. In this example we will use the ```is_recruited``` function..\n\n<div class=\"alert alert-info\"><h4>Note</h4><p>This cell takes several minutes to run.</p></div>\n\n"
      ]
    },
    {
      "cell_type": "code",
      "execution_count": null,
      "metadata": {
        "collapsed": false
      },
      "outputs": [],
      "source": [
        "nerve.save_results = False\nnerve.return_parameters_only = False\nnerve.verbose = True\nnerve_results = nerve(t_sim=1,postproc_script = \"is_recruited\")         #Run the simulation"
      ]
    },
    {
      "cell_type": "markdown",
      "metadata": {},
      "source": [
        "We can plot the nerve again and highlight axons that are recruited:\n\n"
      ]
    },
    {
      "cell_type": "code",
      "execution_count": null,
      "metadata": {
        "collapsed": false
      },
      "outputs": [],
      "source": [
        "fig, ax = plt.subplots(1, 1, figsize=(6,6))\nnerve_results.plot_recruited_fibers(ax)\nax.set_xlabel(\"z-axis (\u00b5m)\")\nax.set_ylabel(\"y-axis (\u00b5m)\")"
      ]
    },
    {
      "cell_type": "markdown",
      "metadata": {},
      "source": [
        "No fiber activated are activated, of course the electrodes are stimulating with the ```dummy_stim```stimulus! Let's change the stimulus of ```LIFE_2``` (in ```fascicle_2```) with a 100\u00b5s-long 60\u00b5A monophasic cathodic pulse:\n\n"
      ]
    },
    {
      "cell_type": "code",
      "execution_count": null,
      "metadata": {
        "collapsed": false
      },
      "outputs": [],
      "source": [
        "t_start = 0.1       #start of the pulse, in ms\nt_pulse = 0.1       #duration of the pulse, in ms\namp_pulse = 60      #amplitude of the pulse, in uA \n\npulse_stim = nrv.stimulus()\npulse_stim.pulse(t_start, -amp_pulse, t_pulse)      #cathodic pulse\n\nfig, ax = plt.subplots()                            #plot it\npulse_stim.plot(ax) #\nax.set_ylabel(\"Amplitude (\u00b5A)\")\nax.set_xlabel(\"Time (ms)\")"
      ]
    },
    {
      "cell_type": "markdown",
      "metadata": {},
      "source": [
        "We can change the stimulus of ```LIFE_2``` by calling ```change_stimulus_from_electrode``` of the ```nerve```-object with the ```LIFE_2``` ID and the new stimulus. We then re-run the simulation and plot the activated fibers.\n\n"
      ]
    },
    {
      "cell_type": "code",
      "execution_count": null,
      "metadata": {
        "collapsed": false
      },
      "outputs": [],
      "source": [
        "nerve.change_stimulus_from_electrode(ID_elec=2,stimulus=pulse_stim)\nnerve_results = nerve(t_sim=3,postproc_script = \"is_recruited\")\n\nfig, ax = plt.subplots(1, 1, figsize=(6,6))\nnerve_results.plot_recruited_fibers(ax)\nax.set_xlabel(\"z-axis (\u00b5m)\")\nax.set_ylabel(\"y-axis (\u00b5m)\")"
      ]
    },
    {
      "cell_type": "markdown",
      "metadata": {},
      "source": [
        "Now we see some activation some fibers being recruited! All myelinated fibers in the ```fascicle_2``` are recruited, as few as a few unmyelinated ones. Some myelinated fibers are also recruited in ```fascicle_1``` but no unmyelinated ones. We can get the ratio of activated fiber in each fascicle using NRV's built-in methods.\n\n<div class=\"alert alert-info\"><h4>Note</h4><p>Note that FEM is not recomputed between this simulation run and the previous. Indeed, as long as we don't change any geometrical properties of the model, we only need to run the FEM solver once. This is automatically handled by the framework.</p></div>\n\n"
      ]
    },
    {
      "cell_type": "code",
      "execution_count": null,
      "metadata": {
        "collapsed": false
      },
      "outputs": [],
      "source": [
        "fasc_results = nerve_results.get_fascicle_results(ID = 1)                                #get results in fascicle 1\nunmyel = fasc_results.get_recruited_axons('unmyelinated', normalize = True)              #get ratio of unmyelinated axon activated in fascicle 1\nmyel = fasc_results.get_recruited_axons('myelinated', normalize = True)                  #get ratio of myelinated axon activated in fascicle 1\n\nprint(f\"Proportion of unmyelinated recruited in fascicle_1: {unmyel*100}%\")\nprint(f\"Proportion of myelinated recruited in fascicle_1: {myel*100}%\")\n\nfasc_results = nerve_results.get_fascicle_results(ID = 2)                                #get results in fascicle 2\nunmyel = fasc_results.get_recruited_axons('unmyelinated', normalize = True)              #get ratio of unmyelinated axon activated in fascicle 2\nmyel = fasc_results.get_recruited_axons('myelinated', normalize = True)                  #get ratio of myelinated axon activated in fascicle 2\n\nprint(f\"Proportion of unmyelinated recruited in fascicle_2: {unmyel*100}%\")\nprint(f\"Proportion of myelinated recruited in fascicle_2: {myel*100}%\")"
      ]
    },
    {
      "cell_type": "markdown",
      "metadata": {},
      "source": [
        "Let's remove the stimulation in ```LIFE_2``` and apply it via ```LIFE_0``` instead:\n\n"
      ]
    },
    {
      "cell_type": "code",
      "execution_count": null,
      "metadata": {
        "collapsed": false
      },
      "outputs": [],
      "source": [
        "nerve.change_stimulus_from_electrode(ID_elec=0,stimulus=pulse_stim)\nnerve.change_stimulus_from_electrode(ID_elec=2,stimulus=dummy_stim)\nnerve_results = nerve(t_sim=3,postproc_script = \"is_recruited\")"
      ]
    },
    {
      "cell_type": "markdown",
      "metadata": {},
      "source": [
        "Let's see how many fibers are activated now:\n\n"
      ]
    },
    {
      "cell_type": "code",
      "execution_count": null,
      "metadata": {
        "collapsed": false
      },
      "outputs": [],
      "source": [
        "fasc_results = nerve_results.get_fascicle_results(ID = 1)                                #get results in fascicle 1\nunmyel = fasc_results.get_recruited_axons('unmyelinated', normalize = True)              #get ratio of unmyelinated axon activated in fascicle 1\nmyel = fasc_results.get_recruited_axons('myelinated', normalize = True)                  #get ratio of myelinated axon activated in fascicle 1\n\nprint(f\"Proportion of unmyelinated recruited in fascicle_1: {unmyel*100}%\")\nprint(f\"Proportion of myelinated recruited in fascicle_1: {myel*100}%\")\n\nfasc_results = nerve_results.get_fascicle_results(ID = 2)                                #get results in fascicle 2\nunmyel = fasc_results.get_recruited_axons('unmyelinated', normalize = True)              #get ratio of unmyelinated axon activated in fascicle 2\nmyel = fasc_results.get_recruited_axons('myelinated', normalize = True)                  #get ratio of myelinated axon activated in fascicle 2\n\nprint(f\"Proportion of unmyelinated recruited in fascicle_2: {unmyel*100}%\")\nprint(f\"Proportion of myelinated recruited in fascicle_2: {myel*100}%\")\n\nfig, ax = plt.subplots(figsize=(8, 8))\nnerve_results.plot_recruited_fibers(ax)\nax.set_xlabel(\"z-axis (\u00b5m)\")\nax.set_ylabel(\"y-axis (\u00b5m)\")"
      ]
    },
    {
      "cell_type": "markdown",
      "metadata": {},
      "source": [
        "We see that the recruitment profile in the fascicles is very different whether we stimulate with one or another electrode. We can analyze it by plotting recruitment curves.\n\n## Recruitment curves with LIFEs\n\nTo build the recruitment curve of our three electrodes, we are going to create a quick python function ```get_recruitment_electrode```that take as argument and electrode ID and a numpy array containing the pulse amplitude for the curve. The function return the ratio of myelinated and unmyelinated fibers recruited in each fascicle in python list. \n\n"
      ]
    },
    {
      "cell_type": "code",
      "execution_count": null,
      "metadata": {
        "collapsed": false
      },
      "outputs": [],
      "source": [
        "def get_recruitment_electrode(elec_ID:int, amp_vec:np.array, nerve:nrv.nerve) -> list:\n\n    nerve.verbose = False\n\n    #create empty list to store results\n    unmyel_fasc1,myel_fasc1,unmyel_fasc2,myel_fasc2 = ([] for i in range(4))\n\n    #Deactivate unused electrodes\n    elec_IDs = [0,1,2]\n    unused_elec = [x for x in elec_IDs if elec_ID != x]\n    for elec in unused_elec:\n        nerve.change_stimulus_from_electrode(ID_elec=elec,stimulus=dummy_stim)   \n\n    #Loop throught amp_vec\n    print(f\"Stimulating nerve with LIFE_{elec_ID}\")\n    for idx,amp in enumerate(amp_vec):\n        amp = np.round(amp,1)                                                       #get the amplitude\n        print(f\"Pulse amplitude set to {-amp}\u00b5A ({idx+1}/{len(amp_vec)})\")\n        pulse_stim = nrv.stimulus()                                                 #create a new empty stimulus\n        pulse_stim.pulse(t_start, -amp, t_pulse)                                    #create a pulse with the new amplitude\n        nerve.change_stimulus_from_electrode(ID_elec=elec_ID,stimulus=pulse_stim)    #attach stimulus to selected electrode\n        nerve_results = nerve(t_sim=3,postproc_script = \"is_recruited\", pbar_off=True)             #run the simulation\n\n        #add results to lists\n        fasc_results = nerve_results.get_fascicle_results(ID = 1)\n        unmyel_fasc1.append(fasc_results.get_recruited_axons('unmyelinated', normalize = True))\n        myel_fasc1.append(fasc_results.get_recruited_axons('myelinated', normalize = True))\n        fasc_results = nerve_results.get_fascicle_results(ID = 2)\n        unmyel_fasc2.append(fasc_results.get_recruited_axons('unmyelinated', normalize = True))\n        myel_fasc2.append(fasc_results.get_recruited_axons('myelinated', normalize = True))\n    return(unmyel_fasc1,myel_fasc1,unmyel_fasc2,myel_fasc2)"
      ]
    },
    {
      "cell_type": "markdown",
      "metadata": {},
      "source": [
        "We use this function to get the recruitment curve of each electrode with the cathodic pulse amplitude varying from 0\u00b5A to 150\u00b5A, in 20pts. \n\n"
      ]
    },
    {
      "cell_type": "code",
      "execution_count": null,
      "metadata": {
        "collapsed": false
      },
      "outputs": [],
      "source": [
        "amp_min = 0             #start at 0\u00b5A \namp_max = 100           #ends at 100\u00b5A \nn_amp = 20              #20pts \namp_vec = np.linspace(amp_min,amp_max,n_amp)\nnrv.parameters.set_nmod_ncore(4)            #number of core allocated to fascicle simulations\nunmyel_fasc1_LIFE0,myel_fasc1_LIFE0,unmyel_fasc2_LIFE0, myel_fasc2_LIFE0 = get_recruitment_electrode(0,amp_vec,nerve)\nunmyel_fasc1_LIFE1,myel_fasc1_LIFE1,unmyel_fasc2_LIFE1, myel_fasc2_LIFE1 = get_recruitment_electrode(1,amp_vec,nerve)\nunmyel_fasc1_LIFE2,myel_fasc1_LIFE2,unmyel_fasc2_LIFE2, myel_fasc2_LIFE2 = get_recruitment_electrode(2,amp_vec,nerve)\n\ndel nerve, extra_stim #to avoid meshing error, known bug"
      ]
    },
    {
      "cell_type": "markdown",
      "metadata": {},
      "source": [
        "Now let's look at the results for myelinated fibers:\n\n"
      ]
    },
    {
      "cell_type": "code",
      "execution_count": null,
      "metadata": {
        "collapsed": false
      },
      "outputs": [],
      "source": [
        "c_LIFE_0 = \"darkcyan\"\nc_LIFE_1 = \"orangered\"\nc_LIFE_2 = \"seagreen\"\n\nfig, (ax1, ax2) = plt.subplots(1, 2)\n\nax1.plot(amp_vec,myel_fasc1_LIFE0, '-o', lw=2, color= c_LIFE_0, label = 'LIFE_0')\nax1.plot(amp_vec,myel_fasc1_LIFE1, '-o', lw=2, color= c_LIFE_1, label = 'LIFE_1')\nax1.plot(amp_vec,myel_fasc1_LIFE2, '-o', lw=2, color= c_LIFE_2, label = 'LIFE_2')\nax1.set_title(\"Fascicle 1 - Myelinated\")\n\nax2.plot(amp_vec,myel_fasc2_LIFE0, '-o', lw=2, color= c_LIFE_0, label = 'LIFE_0')\nax2.plot(amp_vec,myel_fasc2_LIFE1, '-o', lw=2, color= c_LIFE_1, label = 'LIFE_1')\nax2.plot(amp_vec,myel_fasc2_LIFE2, '-o', lw=2, color= c_LIFE_2, label = 'LIFE_2')\nax2.set_title(\"Fascicle 2 - Myelinated\")\n\nfor ax in ax1, ax2:\n    ax.set_xlabel('Amplitude (\u00b5A)')\n    ax.set_ylabel('Recruitment')\n    ax.legend()\n    \nfig.tight_layout()"
      ]
    },
    {
      "cell_type": "markdown",
      "metadata": {},
      "source": [
        "Myelinated fibers are progressively recruited when increasing the pulse amplitude. ```LIFE_1``` recruits the entire ```fascicle_1``` without recruiting any axon in ```fascicle_2```. Oppositely, ```LIFE_2``` recruits the entire ```fascicle_2``` without recruiting any axon in ```fascicle_1```. In other words, intrafascicular selective activation is possible with ```LIFE_1```and ```LIFE_2```. ```LIFE_0``` however, located is neither of the two fascicles, can't selectively activate one or the other fascicle.\n\n<div class=\"alert alert-info\"><h4>Note</h4><p>Proper curve analysis would require more simulation points. The presented result is for demonstration purposes only.</p></div>\n\nLet's plot the unmyelinated fibers' recruitment curves:\n\n"
      ]
    },
    {
      "cell_type": "code",
      "execution_count": null,
      "metadata": {
        "collapsed": false
      },
      "outputs": [],
      "source": [
        "fig, (ax1, ax2) = plt.subplots(1, 2)\nax1.plot(amp_vec,unmyel_fasc1_LIFE0, '-o', lw=2, color= c_LIFE_0, label = 'LIFE_0')\nax1.plot(amp_vec,unmyel_fasc1_LIFE1, '-o', lw=2, color= c_LIFE_1, label = 'LIFE_1')\nax1.plot(amp_vec,unmyel_fasc1_LIFE2, '-o', lw=2, color= c_LIFE_2, label = 'LIFE_2')\nax1.set_title(\"Fascicle 1 - Unmyelinated\")\n\nax2.plot(amp_vec,unmyel_fasc2_LIFE0, '-o', lw=2, color= c_LIFE_0, label = 'LIFE_0')\nax2.plot(amp_vec,unmyel_fasc2_LIFE1, '-o', lw=2, color= c_LIFE_1, label = 'LIFE_1')\nax2.plot(amp_vec,unmyel_fasc2_LIFE2, '-o', lw=2, color= c_LIFE_2, label = 'LIFE_2')\nax2.set_title(\"Fascicle 2 - Unmyelinated\")\n\nfor ax in ax1, ax2:\n    ax.set_xlabel('Amplitude (\u00b5A)')\n    ax.set_ylabel('Recruitment')\n    ax.legend()\n    \nfig.tight_layout()"
      ]
    },
    {
      "cell_type": "markdown",
      "metadata": {},
      "source": [
        "Activation of unmyelinated fibers requires much higher pulse amplitude. Electrodes located in the fascicle recruits at most about 10% of the unmyelinated fibers in ```fascicle_1``` and about 70% in ```fascicle_2```. Electrode outside the fascicle or located in the other one fail at recruiting myelinated fibers. \n\n## Recruitment curves with a monopolar cuff-like electrode\n\nLet's create a second nerve with a cuff electrode now:\n\n"
      ]
    },
    {
      "cell_type": "code",
      "execution_count": null,
      "metadata": {
        "collapsed": false
      },
      "outputs": [],
      "source": [
        "#creating the fascicles are populating them\nfascicle_1_c = nrv.fascicle(diameter=fasc1_d,ID=1)\nfascicle_2_c = nrv.fascicle(ID=2)\nfascicle_2_c.set_geometry(geometry=geom2)\n\nfascicle_1_c.fill(data=ax_pop[[\"types\", \"diameters\"]], delta=5, fit_to_size=True)\nfascicle_2_c.fill(data=ax_pop[[\"types\", \"diameters\"]], delta=5, fit_to_size = True)\n\n#set simulation parameters\nfascicle_1_c.set_axons_parameters(unmyelinated_only=True,**u_param)\nfascicle_1_c.set_axons_parameters(myelinated_only=True,**m_param)\nfascicle_2_c.set_axons_parameters(unmyelinated_only=True,**u_param)\nfascicle_2_c.set_axons_parameters(myelinated_only=True,**m_param)\n\n#create the nerve and add fascicles\nnerve_cuff = nrv.nerve(length=nerve_l, diameter=nerve_d, Outer_D=outer_d)\nnerve_cuff.add_fascicle(fascicle=fascicle_1_c, y=fasc1_y, z=fasc1_z)\nnerve_cuff.add_fascicle(fascicle=fascicle_2_c, y=fasc2_center[0], z=fasc2_center[1])\n\n#set the simulation flags\nnerve_cuff.save_results = False\nnerve_cuff.return_parameters_only = False\nnerve_cuff.verbose = True"
      ]
    },
    {
      "cell_type": "markdown",
      "metadata": {},
      "source": [
        "We now create a FEM stimulation context, create a cuff electrode using the ```CUFF_electrode```-class, combine everything and add it to the ```nerve_cuff```-object:\n\n"
      ]
    },
    {
      "cell_type": "code",
      "execution_count": null,
      "metadata": {
        "collapsed": false
      },
      "outputs": [],
      "source": [
        "extra_stim_cuff = nrv.FEM_stimulation(endo_mat=\"endoneurium_ranck\",      #endoneurium conductivity\n                                peri_mat=\"perineurium\",            #perineurium conductivity\n                                epi_mat=\"epineurium\",              #epineurium conductivity\n                                ext_mat=\"saline\")                  #saline solution conductivity\n\ncontact_length=1000         # length (width) of the cuff contact, in um\ncontact_thickness=100       # thickness of the contact, in um\ninsulator_length=1500       # length (width) of the cuff insulator, on top of the contact\ninsulator_thickness=500     # thickness of the in insulator\nx_center = nerve_l/2        # x-position of the cuff\n\ncuff_1 = nrv.CUFF_electrode('CUFF', contact_length=contact_length,\n    contact_thickness=contact_thickness, insulator_length=insulator_length,\n    insulator_thickness=insulator_thickness, x_center=x_center)\n\nextra_stim_cuff.add_electrode(cuff_1, dummy_stim)\nnerve_cuff.attach_extracellular_stimulation(extra_stim_cuff)\n\nfig, ax = plt.subplots(figsize=(8, 8))\nnerve_cuff.plot(ax)"
      ]
    },
    {
      "cell_type": "markdown",
      "metadata": {},
      "source": [
        "We can now simulate a recruitment curve with a cuff just like we did with the LIFE electrodes:\n\n"
      ]
    },
    {
      "cell_type": "code",
      "execution_count": null,
      "metadata": {
        "collapsed": false
      },
      "outputs": [],
      "source": [
        "#create empty list to store results\nunmyel_fasc1_cuff,myel_fasc1_cuff,unmyel_fasc2_cuff,myel_fasc2_cuff = ([] for i in range(4))\n\n#Loop throught amp_vec\nprint(\"Stimulating nerve with CUFF\")\nfor idx,amp in enumerate(amp_vec):\n    amp = np.round(amp,1)                                                       #get the amplitude\n    print(f\"Pulse amplitude set to {-amp}\u00b5A ({idx+1}/{len(amp_vec)})\")\n    pulse_stim = nrv.stimulus()                                                 #create a new empty stimulus\n    pulse_stim.pulse(t_start, -amp, t_pulse)                                    #create a pulse with the new amplitude\n    nerve_cuff.change_stimulus_from_electrode(ID_elec=0,stimulus=pulse_stim)          #attach stimulus to selected electrode\n    nerve_results = nerve_cuff(t_sim=3,postproc_script = \"is_recruited\", pbar_off=True)             #run the simulation\n\n    #add results to lists\n    fasc_results = nerve_results.get_fascicle_results(ID = 1)\n    unmyel_fasc1_cuff.append(fasc_results.get_recruited_axons('unmyelinated', normalize = True))\n    myel_fasc1_cuff.append(fasc_results.get_recruited_axons('myelinated', normalize = True))\n    fasc_results = nerve_results.get_fascicle_results(ID = 2)\n    unmyel_fasc2_cuff.append(fasc_results.get_recruited_axons('unmyelinated', normalize = True))\n    myel_fasc2_cuff.append(fasc_results.get_recruited_axons('myelinated', normalize = True))"
      ]
    },
    {
      "cell_type": "markdown",
      "metadata": {},
      "source": [
        "And plot the results:\n\n"
      ]
    },
    {
      "cell_type": "code",
      "execution_count": null,
      "metadata": {
        "collapsed": false
      },
      "outputs": [],
      "source": [
        "c_fascicle_0 = \"royalblue\"\nc_fascicle_1 = \"orange\"\n\nfig, (ax1, ax2) = plt.subplots(1, 2)\nax1.plot(amp_vec,myel_fasc1_cuff, '-o', lw=2, color= c_fascicle_0, label = 'fascicle_0')\nax1.plot(amp_vec,myel_fasc2_cuff, '-o', lw=2, color= c_fascicle_1, label = 'fascicle_1')\nax1.set_title(\"Fascicle 1 - Myelinated\")\n\nax2.plot(amp_vec,unmyel_fasc1_cuff, '-o', lw=2, color= c_fascicle_0, label = 'fascicle_0')\nax2.plot(amp_vec,unmyel_fasc2_cuff, '-o', lw=2, color= c_fascicle_1, label = 'fascicle_1')\nax2.set_title(\"Fascicle 1 - Unmyelinated\")\n\nfor ax in ax1, ax2:\n    ax.set_xlabel('Amplitude (\u00b5A)')\n    ax.set_ylabel('Recruitment')\n    ax.legend()\n    \nfig.tight_layout()"
      ]
    }
  ],
  "metadata": {
    "kernelspec": {
      "display_name": "Python 3",
      "language": "python",
      "name": "python3"
    },
    "language_info": {
      "codemirror_mode": {
        "name": "ipython",
        "version": 3
      },
      "file_extension": ".py",
      "mimetype": "text/x-python",
      "name": "python",
      "nbconvert_exporter": "python",
      "pygments_lexer": "ipython3",
      "version": "3.12.10"
    }
  },
  "nbformat": 4,
  "nbformat_minor": 0
}