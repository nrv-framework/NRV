{
 "cells": [
  {
   "cell_type": "markdown",
   "metadata": {},
   "source": [
    "# Tutorial 4 - Stimulating nerves with NRV\n",
    "\n",
    "In this tutorial, we will create a 2-fascicle nerve, populate it with axons and stimulate it with intra- and extra-fascicular electrodes. \n",
    "\n",
    "As before, we start by importing the NRV package as well as numpy and matplotlib:"
   ]
  },
  {
   "cell_type": "code",
   "execution_count": null,
   "metadata": {},
   "outputs": [],
   "source": [
    "import nrv\n",
    "import matplotlib.pyplot as plt\n",
    "import numpy as np"
   ]
  },
  {
   "cell_type": "markdown",
   "metadata": {},
   "source": [
    "## Nerve creation\n",
    "\n",
    "First, we need to create our nerve object using the NRV's ```nerve```-class. This object contains the geometrical properties of the nerve. NRV currently only supports cylindrical shapes for nerve, thus a diameter (```nerve_d```) and a length (```nerve_l```) must be specified at the nerve creation. The ```Outer_D``` parameter can also be specified. It refers to the saline solution bath diameter in which the nerve is plunged into."
   ]
  },
  {
   "cell_type": "code",
   "execution_count": null,
   "metadata": {},
   "outputs": [],
   "source": [
    "outer_d = 5         # in mm\n",
    "nerve_d = 500       # in um\n",
    "nerve_l = 5000      # in um\n",
    "nerve = nrv.nerve(length=nerve_l, diameter=nerve_d, Outer_D=outer_d)"
   ]
  },
  {
   "cell_type": "markdown",
   "metadata": {},
   "source": [
    "Then, we will add two fascicles to the nerve. Fascicles in NRV are cylindrical shapes defined by their diameter and their (y,z) coordinates in space. The (0,0) coordinate is aligned with the center of the nerve. Fascicle are defined with the NRV's ```fascicle```-class. The ```ID``` parameters of the ```fascicle```-object tags each fascicle of the model which will facilitate the post-simulation analysis. Fascicle are incorporated one by one to the ```nerve```-object using the ```add_fascicle```-method. We can now plot a 2-D section of the nerve with the ```plot```method of the ```nerve```-object to visualize it."
   ]
  },
  {
   "cell_type": "code",
   "execution_count": null,
   "metadata": {},
   "outputs": [],
   "source": [
    "fasc1_d = 200       # in um\n",
    "fasc1_y = -100      # in um\n",
    "fasc1_z = 0         # in um\n",
    "\n",
    "fasc2_d = 100       # in um\n",
    "fasc2_y = 100       # in um\n",
    "fasc2_z = 0         # in um\n",
    "\n",
    "#create the fascicle objects\n",
    "fascicle_1 = nrv.fascicle(diameter=fasc1_d,ID=1)      \n",
    "fascicle_2 = nrv.fascicle(diameter=fasc2_d, ID=2)\n",
    "\n",
    "#Add the fascicles to the nerve\n",
    "nerve.add_fascicle(fascicle=fascicle_1, y=fasc1_y, z=fasc1_z)\n",
    "nerve.add_fascicle(fascicle=fascicle_2, y=fasc2_y, z=fasc2_z)\n",
    "\n",
    "#plot\n",
    "fig, ax = plt.subplots(1, 1, figsize=(6,6))\n",
    "nerve.plot(ax)\n",
    "ax.set_xlabel(\"z-axis (µm)\")\n",
    "ax.set_ylabel(\"y-axis (µm)\")"
   ]
  },
  {
   "cell_type": "markdown",
   "metadata": {},
   "source": [
    "## Populate fascicles with axons\n",
    "\n",
    "Now that our nerve is created, it is time to populate them with axons. The first step is to create the population. In this example, we will populate each fascicle with myelinated and unmyelinated axons, with a total of 100 axons in each fascicle. To create a realistic axon diameter distribution, we use the NRV's ```create_axon_population```-method. The function take for arguments:\n",
    "* the number of axon in the population ```n_ax```\n",
    "* the proportion of unmyelinated fibers in the population ```percent_unmyel```\n",
    "* the myelinated axon distribution ```M_stat```\n",
    "* the unmyelinated axon distribution ```U_stat```\n",
    "\n",
    "Available myelinated and unmyelinated axon distributions are described in xxx. \n",
    "\n",
    "The ```create_axon_population```method returns four numpy arrays:\n",
    "* ```axons_diameters```which contains the diameter of each axon of the population.\n",
    "* ```axon_type``` containing a '1' value for indexes where the axon is myelinated, else '0'.\n",
    "* ```M_diam_list``` the diameter of myelinated axons only\n",
    "* ```U_diam_list``` the diameter of unmyelinated axons only"
   ]
  },
  {
   "cell_type": "code",
   "execution_count": null,
   "metadata": {},
   "outputs": [],
   "source": [
    "n_ax = 100      #size of the axon population\n",
    "axons_diameters, axons_type, M_diam_list, U_diam_list = nrv.create_axon_population(n_ax, percent_unmyel=0.7, M_stat=\"Ochoa_M\", U_stat=\"Ochoa_U\",)"
   ]
  },
  {
   "cell_type": "markdown",
   "metadata": {},
   "source": [
    "Once the population is generated, we can fill the fascicle with it using the ```fill_with_population```-method of the ```fascicle```-object. If the (y,z) coordinates of each axon is not explicitly specified in the ```fill_with_population```-method, the NRV's build-in axon packing algorithm will be automatically called to place each axon within the fascicle. The ```delta``` parameter of method indicates the minimum distance between two axons, and between one axon and the border of the fascicle (in $\\mu m$). \n",
    "\n",
    "**NOTE**\n",
    "\n",
    "The axon packing algorithm can take several minutes to run for large axon population.\n",
    "\n"
   ]
  },
  {
   "cell_type": "code",
   "execution_count": null,
   "metadata": {},
   "outputs": [],
   "source": [
    "fascicle_1.fill_with_population(axons_diameters, axons_type, delta=5)"
   ]
  },
  {
   "cell_type": "markdown",
   "metadata": {},
   "source": [
    "Let's repeat this operation for the 2nd fascicle and plot the nerve again:"
   ]
  },
  {
   "cell_type": "code",
   "execution_count": null,
   "metadata": {},
   "outputs": [],
   "source": [
    "axons_diameters, axons_type, M_diam_list, U_diam_list = nrv.create_axon_population(n_ax, percent_unmyel=0.7, M_stat=\"Ochoa_M\", U_stat=\"Ochoa_U\",)\n",
    "fascicle_2.fill_with_population(axons_diameters, axons_type, delta=5)\n",
    "\n",
    "#Plot the nerve again.\n",
    "fig, ax = plt.subplots(1, 1, figsize=(6,6))\n",
    "nerve.plot(ax)\n",
    "ax.set_xlabel(\"z-axis (µm)\")\n",
    "ax.set_ylabel(\"y-axis (µm)\")"
   ]
  },
  {
   "cell_type": "markdown",
   "metadata": {},
   "source": [
    "We see that now our nerve is populated with fibers. Since the ```fascicle_1```and ```fascicle_2```-objects are attached to the ```nerve```-object, any modification to one of them will be propagated to the nerve. The packed population in ```fascicle_2``` was too large to fit in the fascicle. Any axon outside the fascicle are automatically discarded. In fascicle ```fascicle_1``` the population is however too small to fill the entire fascicle. We can fix this by simple calling the ```fit_population_to_size```method of ```fascicle_1```, where ```delta```specifies the minimum distance between the fascicle border and the axons.\n",
    "\n",
    "**NOTE**\n",
    "\n",
    "The axon population can be automatically fitted to the fascicle size by setting the ```fit_to_size```boolean parameter to ```True```in the ```fill_with_population``` method.\n"
   ]
  },
  {
   "cell_type": "code",
   "execution_count": null,
   "metadata": {},
   "outputs": [],
   "source": [
    "fascicle_1.fit_population_to_size(delta = 2)    \n",
    "fig, ax = plt.subplots(1, 1, figsize=(6,6))     \n",
    "nerve.plot(ax)\n",
    "ax.set_xlabel(\"z-axis (µm)\")\n",
    "ax.set_ylabel(\"y-axis (µm)\")"
   ]
  },
  {
   "cell_type": "markdown",
   "metadata": {},
   "source": [
    "While we are here, we can also define stimulation parameters of the axons. For example, we can specify the computational model of the myelinated and unmyelinated fibers. You can refer to the previous tutorials for a thorough overview of the fiber's simulation parameters available."
   ]
  },
  {
   "cell_type": "code",
   "execution_count": null,
   "metadata": {},
   "outputs": [],
   "source": [
    "m_model = 'MRG'\n",
    "um_model = 'Rattay_Aberham'\n",
    "u_param = {\"model\": um_model}\n",
    "m_param = {\"model\": m_model}\n",
    "\n",
    "#For fascicle1\n",
    "fascicle_1.set_axons_parameters(unmyelinated_only=True,**u_param)\n",
    "fascicle_1.set_axons_parameters(myelinated_only=True,**m_param)\n",
    "\n",
    "#For fascicle2\n",
    "fascicle_2.set_axons_parameters(unmyelinated_only=True,**u_param)\n",
    "fascicle_2.set_axons_parameters(myelinated_only=True,**m_param)"
   ]
  },
  {
   "cell_type": "markdown",
   "metadata": {},
   "source": [
    "## Extracellular stimulation context\n",
    "\n",
    "Now we will define everything related to the extracellular stimulation. First, we need to create a ```FEM_stimulation```-object. In this object, we can specify the conductivity of each material of the FEM stimulation. Available material conductivities are specified in xxx."
   ]
  },
  {
   "cell_type": "code",
   "execution_count": null,
   "metadata": {},
   "outputs": [],
   "source": [
    "extra_stim = nrv.FEM_stimulation(endo_mat=\"endoneurium_ranck\",      #endoneurium conductivity\n",
    "                                 peri_mat=\"perineurium\",            #perineurium conductivity\n",
    "                                 epi_mat=\"epineurium\",              #epineurium conductivity\n",
    "                                 ext_mat=\"saline\")                  #saline solution conductivity"
   ]
  },
  {
   "cell_type": "markdown",
   "metadata": {},
   "source": [
    "### Adding intracellular electrodes \n",
    "\n",
    "First, we will run some simulation with 3 intrafascicular LIFE-like electrodes, using the ```LIFE_electrode``` NRV's object. In NRV, LIFEs are defined by a diameter (```life_d```), an active-site length (```life_length```) and a (x,y,z) spatial coordinates. A label and an ID can also be specified to facilitate post-simulation analysis. In this example we aligned the LIFEs x-position to the middle of the nerve, and set their (y,z) coordinates such that:\n",
    "- ```LIFE_0``` is located inside the nerve but outside the fascicles\n",
    "- ```LIFE_1``` is located inside ```fascicle_1```\n",
    "- ```LIFE_2``` is located inside ```fascicle_2```\n",
    "\n",
    "The electrodes are attached to the ```extra_stim``` ```FEM_stimulation```-object with the ```add_electrode```-method. The method also requires to link the electrode to a NRV ```stimulus```-object. For that, we created a dummy stimulus ```dummy_stim```that we will change later."
   ]
  },
  {
   "cell_type": "code",
   "execution_count": null,
   "metadata": {},
   "outputs": [],
   "source": [
    "life_d = 25                                 #LIFE diamter in um\n",
    "life_length = 1000                          #LIFE active-site length in um\n",
    "life_x_offset = (nerve_l-life_length)/2     #x position of the LIFE (centered)\n",
    "\n",
    "life_y_c_0 = 0                              #LIFE_0 y-coordinate (in um)\n",
    "life_z_c_0 = 150                            #LIFE_0 z-coordinate (in um)\n",
    "life_y_c_1 = fasc1_y                        #LIFE_1 y-coordinate (in um)\n",
    "life_z_c_1 = fasc1_z                        #LIFE_1 z-coordinate (in um)\n",
    "life_y_c_2 = fasc2_y                        #LIFE_2 y-coordinate (in um)\n",
    "life_z_c_2 = fasc2_z                        #LIFE_1 z-coordinate (in um)\n",
    "\n",
    "elec_0 = nrv.LIFE_electrode(\"LIFE_0\", life_d, life_length, life_x_offset, life_y_c_0, life_z_c_0, ID = 0) # LIFE in neither of the two fascicles\n",
    "elec_1 = nrv.LIFE_electrode(\"LIFE_1\", life_d, life_length, life_x_offset, life_y_c_1, life_z_c_1, ID = 1) # LIFE in the fascicle 1\n",
    "elec_2 = nrv.LIFE_electrode(\"LIFE_2\", life_d, life_length, life_x_offset, life_y_c_2, life_z_c_2, ID = 2) # LIFE in the fascicle 2\n",
    "\n",
    "#Dummy stimulus\n",
    "dummy_stim = nrv.stimulus()\n",
    "dummy_stim.pulse(0, 0.1, 1)\n",
    "\n",
    "#Attach electrodes to the extra_stim object \n",
    "extra_stim.add_electrode(elec_0, dummy_stim)\n",
    "extra_stim.add_electrode(elec_1, dummy_stim)\n",
    "extra_stim.add_electrode(elec_2, dummy_stim)"
   ]
  },
  {
   "cell_type": "markdown",
   "metadata": {},
   "source": [
    "Last, we attach ```extra_stim```-object to the nerve with the ```attach_extracellular_stimulation```-method:"
   ]
  },
  {
   "cell_type": "code",
   "execution_count": null,
   "metadata": {},
   "outputs": [],
   "source": [
    "nerve.attach_extracellular_stimulation(extra_stim)"
   ]
  },
  {
   "cell_type": "markdown",
   "metadata": {},
   "source": [
    "Let's see how our nerve with electrodes now looks like:"
   ]
  },
  {
   "cell_type": "code",
   "execution_count": null,
   "metadata": {},
   "outputs": [],
   "source": [
    "fig, ax = plt.subplots(1, 1, figsize=(6,6))\n",
    "nerve.plot(ax)\n",
    "ax.set_xlabel(\"z-axis (µm)\")\n",
    "ax.set_ylabel(\"y-axis (µm)\")"
   ]
  },
  {
   "cell_type": "markdown",
   "metadata": {},
   "source": [
    "The three LIFEs now are showing up, and we can make sure that their positions within the nerve are corrects. We also note that axon overlapping with the electrodes are removed. \n",
    "\n",
    "## Simulating the nerve\n",
    "Now it's time to run some simulations! \n",
    "\n",
    "First, we set up a few flags: \n",
    "- ```nerve.save_results = False``` disables the automatic saving of the simulation results in a folder \n",
    "- ```nerve.return_parameters_only = False``` makes sure that all simulation results are returned to the ```nerve_results```dictionnary.\n",
    "- ```nerve.verbose = True``` so it looks cool\n",
    "\n",
    "\n",
    "**NOTE**\n",
    "\n",
    "Saving simulation results in a folder and returning simulation parameters only can avoid excessive RAM memory usage for large nerve simulation. By default, ``nerve.save_results`` and ```nerve.return_parameters_only``` are set to ``False`` i.e. results are not saved in a folder and all simulation results are available in ```nerve_results```. \n",
    "\n",
    "\n",
    "\n",
    "Simulation duration is set with the ```t_sim``` parameter (in ms). We can also specify a ```postproc_function``` which will be applied to each axon's simulation results. This is particularly useful to remove unused data and save up some memory. In this example we will use the ```is_recruited``` function. More details here xxx.\n",
    "\n",
    "\n",
    "**NOTE**\n",
    "\n",
    "This cell takes several minutes to run.\n",
    "\n"
   ]
  },
  {
   "cell_type": "code",
   "execution_count": null,
   "metadata": {},
   "outputs": [],
   "source": [
    "nerve.save_results = False\n",
    "nerve.return_parameters_only = False\n",
    "nerve.verbose = True\n",
    "nerve_results = nerve(t_sim=1,postproc_script = \"is_recruited\")         #Run the simulation"
   ]
  },
  {
   "cell_type": "markdown",
   "metadata": {},
   "source": [
    "We can plot the nerve again and highlight axons that are recruited:"
   ]
  },
  {
   "cell_type": "code",
   "execution_count": null,
   "metadata": {},
   "outputs": [],
   "source": [
    "fig, ax = plt.subplots(1, 1, figsize=(6,6))\n",
    "nerve_results.plot_recruited_fibers(ax)\n",
    "ax.set_xlabel(\"z-axis (µm)\")\n",
    "ax.set_ylabel(\"y-axis (µm)\")"
   ]
  },
  {
   "cell_type": "markdown",
   "metadata": {},
   "source": [
    "No fiber activated are activated, of course the electrodes are stimulating with the ```dummy_stim```stimulus! Let's change the stimulus of ```LIFE_2``` (in ```fascicle_2```) with a 100µs-long 60µA monophasic cathodic pulse:"
   ]
  },
  {
   "cell_type": "code",
   "execution_count": null,
   "metadata": {},
   "outputs": [],
   "source": [
    "t_start = 0.1       #start of the pulse, in ms\n",
    "t_pulse = 0.1       #duration of the pulse, in ms\n",
    "amp_pulse = 60      #amplitude of the pulse, in uA \n",
    "\n",
    "pulse_stim = nrv.stimulus()\n",
    "pulse_stim.pulse(t_start, -amp_pulse, t_pulse)      #cathodic pulse\n",
    "\n",
    "fig, ax = plt.subplots()                            #plot it\n",
    "pulse_stim.plot(ax) #\n",
    "ax.set_ylabel(\"Amplitude (µA)\")\n",
    "ax.set_xlabel(\"Time (ms)\")"
   ]
  },
  {
   "cell_type": "markdown",
   "metadata": {},
   "source": [
    "We can change the stimulus of ```LIFE_2``` by calling ```change_stimulus_from_electrode``` of the ```nerve```-object with the ```LIFE_2``` ID and the new stimulus. We then re-run the simulation and plot the activated fibers."
   ]
  },
  {
   "cell_type": "code",
   "execution_count": null,
   "metadata": {},
   "outputs": [],
   "source": [
    "nerve.change_stimulus_from_electrode(ID_elec=2,stimulus=pulse_stim)\n",
    "nerve_results = nerve(t_sim=3,postproc_script = \"is_recruited\")\n",
    "\n",
    "fig, ax = plt.subplots(1, 1, figsize=(6,6))\n",
    "nerve_results.plot_recruited_fibers(ax)\n",
    "ax.set_xlabel(\"z-axis (µm)\")\n",
    "ax.set_ylabel(\"y-axis (µm)\")"
   ]
  },
  {
   "cell_type": "markdown",
   "metadata": {},
   "source": [
    "Now we see some activation some fibers being recruited! All myelinated fibers in the ```fascicle_2``` are recruited, as few as a few unmyelinated ones. Some myelinated fibers are also recruited in ```fascicle_1``` but no unmyelinated ones. We can get the ratio of activated fiber in each fascicle using NRV's built-in methods.\n",
    "\n",
    "**NOTE**\n",
    "\n",
    "Note that FEM is not recomputed between this simulation run and the previous. Indeed, as long as we don't change any geometrical properties of the model, we only need to run the FEM solver once. This is automatically handled by the framework.\n",
    "\n",
    "\n"
   ]
  },
  {
   "cell_type": "code",
   "execution_count": null,
   "metadata": {},
   "outputs": [],
   "source": [
    "fasc_results = nerve_results.get_fascicle_results(ID = 1)                                #get results in fascicle 1\n",
    "unmyel = fasc_results.get_recruited_axons('unmyelinated', normalize = True)              #get ratio of unmyelinated axon activated in fascicle 1\n",
    "myel = fasc_results.get_recruited_axons('myelinated', normalize = True)                  #get ratio of myelinated axon activated in fascicle 1\n",
    "\n",
    "print(f\"Proportion of unmyelinated recruited in fascicle_1: {unmyel*100}%\")\n",
    "print(f\"Proportion of myelinated recruited in fascicle_1: {myel*100}%\")\n",
    "\n",
    "fasc_results = nerve_results.get_fascicle_results(ID = 2)                                #get results in fascicle 2\n",
    "unmyel = fasc_results.get_recruited_axons('unmyelinated', normalize = True)              #get ratio of unmyelinated axon activated in fascicle 2\n",
    "myel = fasc_results.get_recruited_axons('myelinated', normalize = True)                  #get ratio of myelinated axon activated in fascicle 2\n",
    "\n",
    "print(f\"Proportion of unmyelinated recruited in fascicle_2: {unmyel*100}%\")\n",
    "print(f\"Proportion of myelinated recruited in fascicle_2: {myel*100}%\")"
   ]
  },
  {
   "cell_type": "markdown",
   "metadata": {},
   "source": [
    "Let's remove the stimulation in ```LIFE_2``` and apply it via ```LIFE_0``` instead:"
   ]
  },
  {
   "cell_type": "code",
   "execution_count": null,
   "metadata": {},
   "outputs": [],
   "source": [
    "nerve.change_stimulus_from_electrode(ID_elec=0,stimulus=pulse_stim)\n",
    "nerve.change_stimulus_from_electrode(ID_elec=2,stimulus=dummy_stim)\n",
    "nerve_results = nerve(t_sim=3,postproc_script = \"is_recruited\")"
   ]
  },
  {
   "cell_type": "markdown",
   "metadata": {},
   "source": [
    "Let's see how many fibers are activated now:"
   ]
  },
  {
   "cell_type": "code",
   "execution_count": null,
   "metadata": {},
   "outputs": [],
   "source": [
    "fasc_results = nerve_results.get_fascicle_results(ID = 1)                                #get results in fascicle 1\n",
    "unmyel = fasc_results.get_recruited_axons('unmyelinated', normalize = True)              #get ratio of unmyelinated axon activated in fascicle 1\n",
    "myel = fasc_results.get_recruited_axons('myelinated', normalize = True)                  #get ratio of myelinated axon activated in fascicle 1\n",
    "\n",
    "print(f\"Proportion of unmyelinated recruited in fascicle_1: {unmyel*100}%\")\n",
    "print(f\"Proportion of myelinated recruited in fascicle_1: {myel*100}%\")\n",
    "\n",
    "fasc_results = nerve_results.get_fascicle_results(ID = 2)                                #get results in fascicle 2\n",
    "unmyel = fasc_results.get_recruited_axons('unmyelinated', normalize = True)              #get ratio of unmyelinated axon activated in fascicle 2\n",
    "myel = fasc_results.get_recruited_axons('myelinated', normalize = True)                  #get ratio of myelinated axon activated in fascicle 2\n",
    "\n",
    "print(f\"Proportion of unmyelinated recruited in fascicle_2: {unmyel*100}%\")\n",
    "print(f\"Proportion of myelinated recruited in fascicle_2: {myel*100}%\")\n",
    "\n",
    "fig, ax = plt.subplots(figsize=(8, 8))\n",
    "nerve_results.plot_recruited_fibers(ax)\n",
    "ax.set_xlabel(\"z-axis (µm)\")\n",
    "ax.set_ylabel(\"y-axis (µm)\")"
   ]
  },
  {
   "cell_type": "markdown",
   "metadata": {},
   "source": [
    "We see that the recruitment profile in the fascicles is very different whether we stimulate with one or another electrode. We can analyze it by plotting recruitment curves."
   ]
  },
  {
   "cell_type": "markdown",
   "metadata": {},
   "source": [
    "## Recruitment curves with LIFEs\n",
    "\n",
    "To build the recruitment curve of our three electrodes, we are going to create a quick python function ```get_recruitment_electrode```that take as argument and electrode ID and a numpy array containing the pulse amplitude for the curve. The function return the ratio of myelinated and unmyelinated fibers recruited in each fascicle in python list. "
   ]
  },
  {
   "cell_type": "code",
   "execution_count": null,
   "metadata": {},
   "outputs": [],
   "source": [
    "def get_recruitment_electrode(elec_ID:int, amp_vec:np.array, nerve) -> list:\n",
    "\n",
    "    nerve.verbose = False\n",
    "\n",
    "    #create empty list to store results\n",
    "    unmyel_fasc1,myel_fasc1,unmyel_fasc2,myel_fasc2 = ([] for i in range(4))\n",
    "\n",
    "    #Deactivate unused electrodes\n",
    "    elec_IDs = [0,1,2]\n",
    "    unused_elec = [x for x in elec_IDs if elec_ID != x]\n",
    "    for elec in unused_elec:\n",
    "        nerve.change_stimulus_from_electrode(ID_elec=elec,stimulus=dummy_stim)   \n",
    "\n",
    "    #Loop throught amp_vec\n",
    "    print(f\"Stimulating nerve with LIFE_{elec_ID}\")\n",
    "    for idx,amp in enumerate(amp_vec):\n",
    "        amp = np.round(amp,1)                                                       #get the amplitude\n",
    "        print(f\"Pulse amplitude set to {-amp}µA ({idx+1}/{len(amp_vec)})\")\n",
    "        pulse_stim = nrv.stimulus()                                                 #create a new empty stimulus\n",
    "        pulse_stim.pulse(t_start, -amp, t_pulse)                                    #create a pulse with the new amplitude\n",
    "        nerve.change_stimulus_from_electrode(ID_elec=elec_ID,stimulus=pulse_stim)    #attach stimulus to selected electrode\n",
    "        nerve_results = nerve(t_sim=3,postproc_script = \"is_recruited\")             #run the simulation\n",
    "\n",
    "        #add results to lists\n",
    "        fasc_results = nerve_results.get_fascicle_results(ID = 1)\n",
    "        unmyel_fasc1.append(fasc_results.get_recruited_axons('unmyelinated', normalize = True))\n",
    "        myel_fasc1.append(fasc_results.get_recruited_axons('myelinated', normalize = True))\n",
    "        fasc_results = nerve_results.get_fascicle_results(ID = 2)\n",
    "        unmyel_fasc2.append(fasc_results.get_recruited_axons('unmyelinated', normalize = True))\n",
    "        myel_fasc2.append(fasc_results.get_recruited_axons('myelinated', normalize = True))\n",
    "    return(unmyel_fasc1,myel_fasc1,unmyel_fasc2,myel_fasc2)"
   ]
  },
  {
   "cell_type": "markdown",
   "metadata": {},
   "source": [
    "We use this function to get the recruitment curve of each electrode with the cathodic pulse amplitude varying from 0µA to 150µA, in 20pts. \n",
    "\n",
    "\n",
    "**NOTE**\n",
    "\n",
    "Running this cell takes about 30min on a laptop. This code can be considerably speed-up by using NRV's built-in parallelization capabilities on HPC.\n",
    "\n"
   ]
  },
  {
   "cell_type": "code",
   "execution_count": null,
   "metadata": {},
   "outputs": [],
   "source": [
    "amp_min = 0             #start at 0µA \n",
    "amp_max = 100           #ends at 100µA \n",
    "n_amp = 20              #20pts \n",
    "amp_vec = np.linspace(amp_min,amp_max,n_amp)\n",
    "nrv.parameters.set_nmod_ncore(4)            #number of core allocated to fascicle simulations\n",
    "unmyel_fasc1_LIFE0,myel_fasc1_LIFE0,unmyel_fasc2_LIFE0, myel_fasc2_LIFE0 = get_recruitment_electrode(0,amp_vec,nerve)\n",
    "unmyel_fasc1_LIFE1,myel_fasc1_LIFE1,unmyel_fasc2_LIFE1, myel_fasc2_LIFE1 = get_recruitment_electrode(1,amp_vec,nerve)\n",
    "unmyel_fasc1_LIFE2,myel_fasc1_LIFE2,unmyel_fasc2_LIFE2, myel_fasc2_LIFE2 = get_recruitment_electrode(2,amp_vec,nerve)\n",
    "\n",
    "del nerve, extra_stim #to avoid meshing error, known bug "
   ]
  },
  {
   "cell_type": "markdown",
   "metadata": {},
   "source": [
    "Now let's look at the results for myelinated fibers:"
   ]
  },
  {
   "cell_type": "code",
   "execution_count": null,
   "metadata": {},
   "outputs": [],
   "source": [
    "c_LIFE_0 = \"darkcyan\"\n",
    "c_LIFE_1 = \"orangered\"\n",
    "c_LIFE_2 = \"seagreen\"\n",
    "\n",
    "fig, (ax1, ax2) = plt.subplots(1, 2)\n",
    "\n",
    "ax1.plot(amp_vec,myel_fasc1_LIFE0, '-o', lw=2, color= c_LIFE_0, label = 'LIFE_0')\n",
    "ax1.plot(amp_vec,myel_fasc1_LIFE1, '-o', lw=2, color= c_LIFE_1, label = 'LIFE_1')\n",
    "ax1.plot(amp_vec,myel_fasc1_LIFE2, '-o', lw=2, color= c_LIFE_2, label = 'LIFE_2')\n",
    "ax1.set_title(\"Fascicle 1 - Myelinated\")\n",
    "\n",
    "ax2.plot(amp_vec,myel_fasc2_LIFE0, '-o', lw=2, color= c_LIFE_0, label = 'LIFE_0')\n",
    "ax2.plot(amp_vec,myel_fasc2_LIFE1, '-o', lw=2, color= c_LIFE_1, label = 'LIFE_1')\n",
    "ax2.plot(amp_vec,myel_fasc2_LIFE2, '-o', lw=2, color= c_LIFE_2, label = 'LIFE_2')\n",
    "ax2.set_title(\"Fascicle 2 - Myelinated\")\n",
    "\n",
    "for ax in ax1, ax2:\n",
    "    ax.set_xlabel('Amplitude (µA)')\n",
    "    ax.set_ylabel('Recruitment')\n",
    "    ax.legend()\n",
    "    \n",
    "fig.tight_layout()"
   ]
  },
  {
   "cell_type": "markdown",
   "metadata": {},
   "source": [
    "Myelinated fibers are progressively recruited when increasing the pulse amplitude. ```LIFE_1``` recruits the entire ```fascicle_1``` without recruiting any axon in ```fascicle_2```. Oppositely, ```LIFE_2``` recruits the entire ```fascicle_2``` without recruiting any axon in ```fascicle_1```. In other words, intrafascicular selective activation is possible with ```LIFE_1```and ```LIFE_2```. ```LIFE_0``` however, located is neither of the two fascicles, can't selectively activate one or the other fascicle.\n",
    "\n",
    "\n",
    "**NOTE**\n",
    "\n",
    "Proper curve analysis would require more simulation points. The presented result is for demonstration purposes only.\n",
    "\n",
    "\n",
    "\n",
    "Let's plot the unmyelinated fibers' recruitment curves:"
   ]
  },
  {
   "cell_type": "code",
   "execution_count": null,
   "metadata": {},
   "outputs": [],
   "source": [
    "fig, (ax1, ax2) = plt.subplots(1, 2)\n",
    "ax1.plot(amp_vec,unmyel_fasc1_LIFE0, '-o', lw=2, color= c_LIFE_0, label = 'LIFE_0')\n",
    "ax1.plot(amp_vec,unmyel_fasc1_LIFE1, '-o', lw=2, color= c_LIFE_1, label = 'LIFE_1')\n",
    "ax1.plot(amp_vec,unmyel_fasc1_LIFE2, '-o', lw=2, color= c_LIFE_2, label = 'LIFE_2')\n",
    "ax1.set_title(\"Fascicle 1 - Unmyelinated\")\n",
    "\n",
    "ax2.plot(amp_vec,unmyel_fasc2_LIFE0, '-o', lw=2, color= c_LIFE_0, label = 'LIFE_0')\n",
    "ax2.plot(amp_vec,unmyel_fasc2_LIFE1, '-o', lw=2, color= c_LIFE_1, label = 'LIFE_1')\n",
    "ax2.plot(amp_vec,unmyel_fasc2_LIFE2, '-o', lw=2, color= c_LIFE_2, label = 'LIFE_2')\n",
    "ax2.set_title(\"Fascicle 2 - Unmyelinated\")\n",
    "\n",
    "for ax in ax1, ax2:\n",
    "    ax.set_xlabel('Amplitude (µA)')\n",
    "    ax.set_ylabel('Recruitment')\n",
    "    ax.legend()\n",
    "    \n",
    "fig.tight_layout()"
   ]
  },
  {
   "cell_type": "markdown",
   "metadata": {},
   "source": [
    "Activation of unmyelinated fibers requires much higher pulse amplitude. Electrodes located in the fascicle recruits at most about 10% of the unmyelinated fibers in ```fascicle_1``` and about 70% in ```fascicle_2```. Electrode outside the fascicle or located in the other one fail at recruiting myelinated fibers. \n",
    "\n",
    "## Recruitment curves with a monopolar cuff-like electrode\n",
    "\n",
    "Let's create a second nerve with a cuff electrode now:"
   ]
  },
  {
   "cell_type": "code",
   "execution_count": null,
   "metadata": {},
   "outputs": [],
   "source": [
    "#creating the fascicles are populating them\n",
    "fascicle_1_c = nrv.fascicle(diameter=fasc1_d,ID=1)      \n",
    "fascicle_2_c = nrv.fascicle(diameter=fasc2_d, ID=2)\n",
    "fascicle_1_c.fill_with_population(axons_diameters, axons_type, delta=5, fit_to_size = True)\n",
    "fascicle_2_c.fill_with_population(axons_diameters, axons_type, delta=5, fit_to_size = True)\n",
    "\n",
    "#set simulation parameters\n",
    "fascicle_1_c.set_axons_parameters(unmyelinated_only=True,**u_param)\n",
    "fascicle_1_c.set_axons_parameters(myelinated_only=True,**m_param)\n",
    "fascicle_2_c.set_axons_parameters(unmyelinated_only=True,**u_param)\n",
    "fascicle_2_c.set_axons_parameters(myelinated_only=True,**m_param)\n",
    "\n",
    "#create the nerve and add fascicles\n",
    "nerve_cuff = nrv.nerve(length=nerve_l, diameter=nerve_d, Outer_D=outer_d)\n",
    "nerve_cuff.add_fascicle(fascicle=fascicle_1_c, y=fasc1_y, z=fasc1_z)\n",
    "nerve_cuff.add_fascicle(fascicle=fascicle_2_c, y=fasc2_y, z=fasc2_z)\n",
    "\n",
    "#set the simulation flags\n",
    "nerve_cuff.save_results = False\n",
    "nerve_cuff.return_parameters_only = False\n",
    "nerve_cuff.verbose = True\n"
   ]
  },
  {
   "cell_type": "markdown",
   "metadata": {},
   "source": [
    "We now create a FEM stimulation context, create a cuff electrode using the ```CUFF_electrode```-class, combine everything and add it to the ```nerve_cuff```-object:"
   ]
  },
  {
   "cell_type": "code",
   "execution_count": null,
   "metadata": {},
   "outputs": [],
   "source": [
    "extra_stim_cuff = nrv.FEM_stimulation(endo_mat=\"endoneurium_ranck\",      #endoneurium conductivity\n",
    "                                 peri_mat=\"perineurium\",            #perineurium conductivity\n",
    "                                 epi_mat=\"epineurium\",              #epineurium conductivity\n",
    "                                 ext_mat=\"saline\")                  #saline solution conductivity\n",
    "\n",
    "contact_length=1000         # length (width) of the cuff contact, in um\n",
    "contact_thickness=100       # thickness of the contact, in um\n",
    "insulator_length=1500       # length (width) of the cuff insulator, on top of the contact\n",
    "insulator_thickness=500     # thickness of the in insulator\n",
    "x_center = nerve_l/2        # x-position of the cuff\n",
    "\n",
    "cuff_1 = nrv.CUFF_electrode('CUFF', contact_length=contact_length,\n",
    "    contact_thickness=contact_thickness, insulator_length=insulator_length,\n",
    "    insulator_thickness=insulator_thickness, x_center=x_center)\n",
    "\n",
    "extra_stim_cuff.add_electrode(cuff_1, dummy_stim)\n",
    "nerve_cuff.attach_extracellular_stimulation(extra_stim_cuff)\n",
    "\n",
    "fig, ax = plt.subplots(figsize=(8, 8))\n",
    "nerve_cuff.plot(ax)"
   ]
  },
  {
   "cell_type": "markdown",
   "metadata": {},
   "source": [
    "We can now simulate a recruitment curve with a cuff just like we did with the LIFE electrodes:"
   ]
  },
  {
   "cell_type": "code",
   "execution_count": null,
   "metadata": {},
   "outputs": [],
   "source": [
    "\n",
    "#create empty list to store results\n",
    "unmyel_fasc1_cuff,myel_fasc1_cuff,unmyel_fasc2_cuff,myel_fasc2_cuff = ([] for i in range(4))\n",
    "\n",
    "#Loop throught amp_vec\n",
    "print(\"Stimulating nerve with CUFF\")\n",
    "for idx,amp in enumerate(amp_vec):\n",
    "    amp = np.round(amp,1)                                                       #get the amplitude\n",
    "    print(f\"Pulse amplitude set to {-amp}µA ({idx+1}/{len(amp_vec)})\")\n",
    "    pulse_stim = nrv.stimulus()                                                 #create a new empty stimulus\n",
    "    pulse_stim.pulse(t_start, -amp, t_pulse)                                    #create a pulse with the new amplitude\n",
    "    nerve_cuff.change_stimulus_from_electrode(ID_elec=0,stimulus=pulse_stim)          #attach stimulus to selected electrode\n",
    "    nerve_results = nerve_cuff(t_sim=3,postproc_script = \"is_recruited\")             #run the simulation\n",
    "\n",
    "    #add results to lists\n",
    "    fasc_results = nerve_results.get_fascicle_results(ID = 1)\n",
    "    unmyel_fasc1_cuff.append(fasc_results.get_recruited_axons('unmyelinated', normalize = True))\n",
    "    myel_fasc1_cuff.append(fasc_results.get_recruited_axons('myelinated', normalize = True))\n",
    "    fasc_results = nerve_results.get_fascicle_results(ID = 2)\n",
    "    unmyel_fasc2_cuff.append(fasc_results.get_recruited_axons('unmyelinated', normalize = True))\n",
    "    myel_fasc2_cuff.append(fasc_results.get_recruited_axons('myelinated', normalize = True))\n"
   ]
  },
  {
   "cell_type": "markdown",
   "metadata": {},
   "source": [
    "And plot the results:"
   ]
  },
  {
   "cell_type": "code",
   "execution_count": null,
   "metadata": {},
   "outputs": [],
   "source": [
    "c_fascicle_0 = \"royalblue\"\n",
    "c_fascicle_1 = \"orange\"\n",
    "\n",
    "fig, (ax1, ax2) = plt.subplots(1, 2)\n",
    "ax1.plot(amp_vec,myel_fasc1_cuff, '-o', lw=2, color= c_fascicle_0, label = 'fascicle_0')\n",
    "ax1.plot(amp_vec,myel_fasc2_cuff, '-o', lw=2, color= c_fascicle_1, label = 'fascicle_1')\n",
    "ax1.set_title(\"Fascicle 1 - Myelinated\")\n",
    "\n",
    "ax2.plot(amp_vec,unmyel_fasc1_cuff, '-o', lw=2, color= c_fascicle_0, label = 'fascicle_0')\n",
    "ax2.plot(amp_vec,unmyel_fasc2_cuff, '-o', lw=2, color= c_fascicle_1, label = 'fascicle_1')\n",
    "ax2.set_title(\"Fascicle 1 - Unmyelinated\")\n",
    "\n",
    "for ax in ax1, ax2:\n",
    "    ax.set_xlabel('Amplitude (µA)')\n",
    "    ax.set_ylabel('Recruitment')\n",
    "    ax.legend()\n",
    "    \n",
    "fig.tight_layout()\n",
    "#plt.show()"
   ]
  }
 ],
 "metadata": {
  "kernelspec": {
   "display_name": "nrvd",
   "language": "python",
   "name": "python3"
  },
  "language_info": {
   "codemirror_mode": {
    "name": "ipython",
    "version": 3
   },
   "file_extension": ".py",
   "mimetype": "text/x-python",
   "name": "python",
   "nbconvert_exporter": "python",
   "pygments_lexer": "ipython3",
   "version": "3.12.10"
  }
 },
 "nbformat": 4,
 "nbformat_minor": 2
}
