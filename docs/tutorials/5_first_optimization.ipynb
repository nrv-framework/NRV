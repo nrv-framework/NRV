{
  "cells": [
    {
      "cell_type": "markdown",
      "metadata": {},
      "source": [
        "\n# Tutorial 5 - First optimization problem using NRV\n\nIn this tutorial, the optimization formalism used in NRV is illustrated through a detailed example.\n\n.. seealso::\n    Further details on NRV optimization formalism can be found in :doc:`usersguide's optimization section <../usersguide/optimization>`.\n\nTo reduce the computation time, this optimization will be done on a single myelinated axon. The exact same optimization problem could be applied to a nerve filled with multiple myelinated axons (see :doc:`example o01 <../examples/optim/o06_mproc_optimization>`)\n\nThe very first step is, as usual, to import NRV and the required packages and to generate an outputs' repository.\n"
      ]
    },
    {
      "cell_type": "code",
      "execution_count": null,
      "metadata": {
        "collapsed": false
      },
      "outputs": [],
      "source": [
        "import numpy as np\nimport matplotlib.pyplot as plt\nimport nrv\n\nnp.random.seed(444)"
      ]
    },
    {
      "cell_type": "markdown",
      "metadata": {},
      "source": [
        "## First optimization: Pulse Stimulus on Single axon\n\nThe objective of the first optimization problem is to **minimize a rectangle pulse stimulus energy required by a LIFE-electrode to trigger a single myelinated fibre**.\n\n### Cost function\n\nTo begin, we can create an empty cost function object and fill it progressively with its components.\n\n"
      ]
    },
    {
      "cell_type": "code",
      "execution_count": null,
      "metadata": {
        "collapsed": false
      },
      "outputs": [],
      "source": [
        "## Cost function definition\nmy_cost0 = nrv.cost_function()"
      ]
    },
    {
      "cell_type": "markdown",
      "metadata": {},
      "source": [
        "#### Static context\n\nThe first step to implement the optimization is to define the static context. This context can be generated with the following script, the same way as in previous Tutorials :doc:`Tutorial 1 <./1_intracellular_stimulation>`. \nIn this first example the context is only composed of:\n\n - a myelinated axon: $10mm$ long, $10\\mu m$ diameter large, with a centre located at $(y=50\\mu m, z=0)$\n - a LIFE-electrode: $1mm$ long, $25\\mu m$ diameter large, with a centre located at $(x=500\\mu m, y=0, z=0)$\n\n<div class=\"alert alert-info\"><h4>Note</h4><p>As the stimulus of the LIFE-electrode will be regenerated during the optimization a *dummy stimulus* is associated to the electrode</p></div>\n\n<div class=\"alert alert-info\"><h4>Note</h4><p>To speed up the simulations done later, in the optimization, the footprints of the electrode on the axon are computed with `get_electrodes_footprints_on_axon` method and save with the context.</p></div>\n\nOnce generated, the axon and its extracellular context can be saved in a `.json` file with using NRV `save` methods ([save methods](../usersguide.html#note-on-object-saving)). This file will be loaded by the `cost_function` every times it will be called for the optimization.\n\n"
      ]
    },
    {
      "cell_type": "code",
      "execution_count": null,
      "metadata": {
        "collapsed": false
      },
      "outputs": [],
      "source": [
        "ax_l = 10000 # um\nax_d=10\nax_y=50\nax_z=0\naxon_1 = nrv.myelinated(L=ax_l, d=ax_d, y=ax_y, z=ax_z)\n\n\nLIFE_stim0 = nrv.FEM_stimulation()\nLIFE_stim0.reshape_nerve(Length=ax_l)\nlife_d = 25 # um\nlife_length = 1000 # um\nlife_x_0_offset = life_length/2\nlife_y_c_0 = 0\nlife_z_c_0 = 0\nelec_0 = nrv.LIFE_electrode(\"LIFE\", life_d, life_length, life_x_0_offset, life_y_c_0, life_z_c_0)\n\ndummy_stim = nrv.stimulus()\ndummy_stim.pulse(0, 0.1, 1)\nLIFE_stim0.add_electrode(elec_0, dummy_stim)\n\naxon_1.attach_extracellular_stimulation(LIFE_stim0)\naxon_1.get_electrodes_footprints_on_axon()\naxon_dict = axon_1.save(extracel_context=True)\n\nfig, ax = plt.subplots(1, 1, figsize=(6,6))\naxon_1.plot(ax)\nax.set_xlim((-1.2*ax_y, 1.2*ax_y))\nax.set_ylim((-1.2*ax_y, 1.2*ax_y))\n\ndel axon_1"
      ]
    },
    {
      "cell_type": "markdown",
      "metadata": {},
      "source": [
        "Once this static context has been saved in the cost function it should be linked with the `cost_function`.\n\nFor that purpose, we can use the method `set_static_context` as bellow. \n\nNote that additional keys arguments can be added to precise simulation parameter. \nHere we impose a simulation time of $5ms$ and a time step of $5\\mu s$. These arguments will be added when the `simulate` method will be called so all the parameters of a standard simulation can be as in previous example\n\n"
      ]
    },
    {
      "cell_type": "code",
      "execution_count": null,
      "metadata": {
        "collapsed": false
      },
      "outputs": [],
      "source": [
        "static_context = axon_dict\nt_sim = 5\ndt = 0.005\nkwarg_sim = {\n    \"dt\":dt,\n    \"t_sim\":t_sim,\n}\n\nmy_cost0.set_static_context(static_context, **kwarg_sim)"
      ]
    },
    {
      "cell_type": "markdown",
      "metadata": {},
      "source": [
        "#### Context modifier\n\nThe next step is to define how to interpret the tuning parameters to modify the static context. In our problem, we want to modify the LIFE-electrode's stimulus shape and evaluate its impact on the fiber. There are countless ways to define a waveform from a set of points, so let's consider a very simple method:\n\n  - The stimulus is a cathodic conventional square pulse. In this scenario, both the pulse duration $T_{sq}$ and pulse amplitude $I_{sq}$ can be optimized, resulting in a two-dimensional optimization problem. The tuning parameters input vector $\\mathcal{X}_{sq}$ of the optimization problem is thus defined as follows:\n\\begin{align}\\mathcal{X}_{sq} = \\begin{pmatrix} I_{sq} & T_{sq} \\end{pmatrix} \\;\\end{align}\n\n\n**Implementation:**\n\nIn NRV, the modification of the static context can either be done with a callable class or a function. Some `context_modifier` classes have already been implemented in NRV.\n\nThe [biphasic_stimulus_CM](../usersguide/optimization.html#context-modifier) is appropriate for our problem. Such :doc:`simulable <../usersguide/simulables>` add a biphasic pulse to a given electrode of a `nrv_simulable` object. \nTo fit with our problem, we set the following arguments:\n - `start=1`: the cathodic pulse to start at $1ms$.\n - `s_cathod=\"0\"` the cathodic pulse amplitude is defined by the first value of the input vector $\\mathcal{X}_{sq}$.\n - `T_cathod=\"1\"` the cathodic pulse duration is defined by the second value of the input vector $\\mathcal{X}_{sq}$.\n - `s_anod=0` anodic pulse amplitude is 0 (we consider a monophasic pulse).\n\n<div class=\"alert alert-info\"><h4>Note</h4><p>Arguments of `biphasic_stimulus_CM` are similar to those of :meth:`~nrv.utils.stimulus.biphasic_pulse`. User can either set the argument to a specific value or specify that it should be defined by a tuning parameters input vector. In the second case the argument should be a `str` of the index of the argument in the vector.</p></div>\n\n"
      ]
    },
    {
      "cell_type": "code",
      "execution_count": null,
      "metadata": {
        "collapsed": false
      },
      "outputs": [],
      "source": [
        "t_start = 1\nI_max_abs = 100\n\ncm_0 = nrv.biphasic_stimulus_CM(start=t_start, s_cathod=\"0\", t_cathod=\"1\", s_anod=0)\nmy_cost0.set_context_modifier(cm_0)"
      ]
    },
    {
      "cell_type": "markdown",
      "metadata": {},
      "source": [
        "The following lines illustrate the stimuli generated by the `cm_0` for various input parameters.\n\nAs expected:\n - The first dimension sets the pulse's negative amplitude.\n - The second sets the pulse duration.\n\n"
      ]
    },
    {
      "cell_type": "code",
      "execution_count": null,
      "metadata": {
        "collapsed": false
      },
      "outputs": [],
      "source": [
        "test_points = np.array([[70, 0.5], [50, 1], [30, 1.5], [10, 2]])\n\nfig, ax = plt.subplots()\nax.grid()\nfor X in test_points:\n    axon_x = cm_0(X, static_context)\n    stim = axon_x.extra_stim.stimuli[0]\n    stim.plot(ax, label=f\"X={X}\")\n    ax.legend()\n    del axon_x"
      ]
    },
    {
      "cell_type": "markdown",
      "metadata": {},
      "source": [
        "#### Cost Evaluation\n\nIn our problem, we want at the same time to minimize the energy of the stimulus and maximize the number of fibre recruited. Therefore, we can evaluate the *cost* of a stimulus on the context using the following equation:\n\n\\begin{align}Cost = \\alpha_e\\sum_{t_k}(i_{stim}^2(t_k))+\\alpha_r(N_{axon}-N_{recruited})\\end{align}\n\n\nWith:\n - $t_k$ as the discrete time step of the simulation.\n - $N_{axon}$ as the number of axon simulated, 1 in this first problem.\n - $N_{recruited}$ as the number of fibre triggered by the stimulation.\n - $\\alpha_e$ and $\\alpha_r$ as two weighting coefficients.\n\n**Implementation:**\n\nIn NRV, the computation of this cost from simulation results is handled by a function or a callable class instance called `cost_evaluation`. As for `context_modifier`, several `cost_evaluation` classes are already implemented in the NRV package. These classes can be combined with algebraic operations to easily generate more complex cases.\n\nHere, the cost evaluation is generated using two classes implemented in NRV:\n 1. `recrutement_count_CE`: computes the number of triggered fibres.\n\n 2. `stim_energy_CE`: computes a value proportional to the stimulus energy.\n\n"
      ]
    },
    {
      "cell_type": "code",
      "execution_count": null,
      "metadata": {
        "collapsed": false
      },
      "outputs": [],
      "source": [
        "# .. note::\n#     The second term of the equation (`\\alpha_r(N_{axon} - N_{recruited})`) essentially represents a function that is 1 if the fibre is triggered and 0 otherwise. This seemingly complicated notation allows us to use the same equation to evaluate a stimulus in contexts involving a larger number of axons.\n\n# .. note::\n#     With a good knowledge of the simulation results, it is possible to implement custom `cost_evaluation`, similar to `context_modifier`.\n#   It should be a function or a callable class taking a `sim_results` object and any additional `kwargs` parameters, returning a corresponding cost (`float`).\n\ncostR = nrv.recrutement_count_CE(reverse=True)\ncostC = nrv.stim_energy_CE()\n\ncost_evaluation = costR + 0.01 * costC\nmy_cost0.set_cost_evaluation(cost_evaluation)"
      ]
    },
    {
      "cell_type": "markdown",
      "metadata": {},
      "source": [
        "### Optimization problem\n\nAt this point, the cost function that should be minimized is fully defined. We can now proceed to define the entire optimization process by selecting the appropriate optimizer.\n\nThe cost function defined for this problem is not continuous due to the second term of the cost evaluation equation (`\\alpha_r(N_{axon} - N_{recruited})`). Therefore, a meta-heuristic approach is more suitable for our needs.\n\nWe can thus instantiate a :class:`nrv.optim.PSO_optimizer` object adapted to our problem as bellow. The parameters relative to the optimization are added\nat the instantiation. Here:\n\n - `maxiter`: sets the number of iterations of the optimization.\n - `n_particles`: set the number of particle of the swarm.\n - `opt_type`: sets the neighbour topology as star (when \"global\") or ring (when \"local\").\n - `options`: sets the `Pyswarms`'s PSO option.\n - `bh_strategy`: sets the out-of-bounds handling strategy.\n\nSee [Pyswarms](https://pyswarms.readthedocs.io/en/latest/) documentation for more information\n\n"
      ]
    },
    {
      "cell_type": "code",
      "execution_count": null,
      "metadata": {
        "collapsed": false
      },
      "outputs": [],
      "source": [
        "pso_kwargs = {\n    \"maxiter\" : 50,\n    \"n_particles\" : 20,\n    \"opt_type\" : \"local\",\n    \"options\": {'c1': 0.6, 'c2': 0.6, 'w': 0.8, 'k': 3, 'p': 1},\n    \"bh_strategy\": \"reflective\",\n}\npso_opt = nrv.PSO_optimizer(**pso_kwargs)"
      ]
    },
    {
      "cell_type": "markdown",
      "metadata": {},
      "source": [
        "Once both the `cost_function` and the `optimizer` are defined the optimization problem can be simply as bellow\n\n"
      ]
    },
    {
      "cell_type": "code",
      "execution_count": null,
      "metadata": {
        "collapsed": false
      },
      "outputs": [],
      "source": [
        "# Problem definition\nmy_prob = nrv.Problem()\nmy_prob.costfunction = my_cost0\nmy_prob.optimizer = pso_opt"
      ]
    },
    {
      "cell_type": "markdown",
      "metadata": {},
      "source": [
        "By calling this optimizer we can the run the optimization. Additional parameters can be set at this time using key arguments. Here, we use this option to set the PSO parameters relative to this problem:\n\n - `dimensions`: dimension of the input vector\n - `bounds`: boundaries of each dimension of the input vector\n - `comment`: optional `str` comment which will be added to the results dictionary\n\nAn :class:`~nrv.optim.optim_utils.optim_results` instance will be returned from the optimization containing all results and parameters of the optimization.\n\n<div class=\"alert alert-info\"><h4>Note</h4><p>The keys to used to parametrize the optimizer are the same as for instantiating the :class:`~nrv.optim.PSO_optimizer`.</p></div>\n\n<div class=\"alert alert-info\"><h4>Note</h4><p>As `optim_results` class inherit from `nrv_result`, all results can either be access as `dictionary` keys or as class attributes and post-processing built-in method can be used</p></div>\n\n"
      ]
    },
    {
      "cell_type": "code",
      "execution_count": null,
      "metadata": {
        "collapsed": false
      },
      "outputs": [],
      "source": [
        "t_end = 0.5\nduration_bound = (0.01, t_end)\nbounds0 = (\n    (0, I_max_abs),\n    duration_bound\n)\npso_kwargs_pb_0 = {\n    \"dimensions\" : 2,\n    \"bounds\" : bounds0,\n    \"comment\":\"pulse\"}\n\nres0 = my_prob(**pso_kwargs_pb_0)"
      ]
    },
    {
      "cell_type": "markdown",
      "metadata": {},
      "source": [
        "Hurray! The first optimization is now complete.\n\nWe can check the best input vector and the best final cost stored in `res0[\"x\"]` and `res0[\"best_cost\"]` respectively.\n\n"
      ]
    },
    {
      "cell_type": "code",
      "execution_count": null,
      "metadata": {
        "collapsed": false
      },
      "outputs": [],
      "source": [
        "print(\"best input vector:\", res0[\"x\"], \"\\nbest cost:\", res0[\"best_cost\"])"
      ]
    },
    {
      "cell_type": "markdown",
      "metadata": {},
      "source": [
        "We can explore further the results of the optimization by plotting the best stimulus shape and the cost history.\n\n"
      ]
    },
    {
      "cell_type": "code",
      "execution_count": null,
      "metadata": {
        "collapsed": false
      },
      "outputs": [],
      "source": [
        "fig_costs, axs_costs = plt.subplots(2, 1)\n\nstim = cm_0(res0.x, static_context).extra_stim.stimuli[0]\nstim.plot(axs_costs[0], label=\"rectangle pulse\")\naxs_costs[0].set_xlabel(\"best stimulus shape\")\naxs_costs[0].set_xlabel(\"time (ms)\")\naxs_costs[0].set_ylabel(\"amplitude (\u00b5A)\")\naxs_costs[0].grid()\n\nres0.plot_cost_history(axs_costs[1])\naxs_costs[1].set_xlabel(\"optimization iteration\")\naxs_costs[1].set_ylabel(\"cost\")\naxs_costs[1].grid()\nfig_costs.tight_layout()"
      ]
    },
    {
      "cell_type": "markdown",
      "metadata": {},
      "source": [
        "Using the method `compute_best_pos`, the axon with the optimized stimulus can be simulated.\n\nThis can be useful to make sure the axon is activated by plotting the rasterized $V_{mem}$ as in :doc:`Tutorial 1 <./1_intracellular_stimulation>`.\n\n"
      ]
    },
    {
      "cell_type": "code",
      "execution_count": null,
      "metadata": {
        "collapsed": false
      },
      "outputs": [],
      "source": [
        "simres = res0.compute_best_pos(my_cost0)\nsimres.rasterize(\"V_mem\")\nplt.figure()\nplt.scatter(simres[\"V_mem_raster_time\"], simres[\"V_mem_raster_x_position\"], color='darkslateblue')\nplt.xlabel('Times (ms)')\nplt.ylabel('Membrane voltage :math:`V_{mem} (mV)`')\nplt.xlim(0, t_sim)\nplt.ylim(0, simres[\"L\"])\nplt.grid()\nplt.tight_layout()"
      ]
    },
    {
      "cell_type": "markdown",
      "metadata": {},
      "source": [
        "## Second optimization spline interpolated stimulus\n\nAt this point, we have found a rectangle pulse stimulus shape triggering our fibre with a minimal energy. Let's see if we can find a better cost with a more complex stimulus shape.\n\nIn this new problem, we can define the stimulus as a cathodic pulse through interpolated splines over $2$ points which are individually defined in time and amplitude. This second optimization scenario results in a $4$-dimensional problem with the input vector $\\mathcal{X}_{s_2}$ defined as:\n\n\\begin{align}\\mathcal{X}_{s_2} = \\begin{pmatrix} I_{s_1} & t_{s_1} & I_{s_2} & t_{s_2}    \\end{pmatrix}\\end{align}\n\n\nWith $I_{s_1}$ and $t_{s_1}$ the amplitude and time of the first point and $I_{s_2}$ and $t_{s_2}$ those of the second.\n\nAs in the first optimization, the stimulus generation from input vector is handled by the [context_modifier](../usersguide/optimization.html#context-modifier). So let's define a new one which will fit our purpose. This can be done using another built-in class in NRV: :meth:`~nrv.optim.optim_utils.biphasic_stimulus_CM`. \nTo fit with our problem the following parameters are set\n\n"
      ]
    },
    {
      "cell_type": "code",
      "execution_count": null,
      "metadata": {
        "collapsed": false
      },
      "outputs": [],
      "source": [
        "kwrgs_interp = {\n    \"dt\": dt,\n    \"amp_start\": 0,\n    \"amp_stop\": 0,\n    \"intertype\": \"Spline\",\n    \"bounds\": (-I_max_abs, 0),\n    \"t_sim\":t_sim,\n    \"t_end\": t_end,\n    \"t_shift\": t_start,\n    }\ncm_1 = nrv.stimulus_CM(interpolator=nrv.interpolate_Npts, intrep_kwargs=kwrgs_interp, t_sim=t_sim)"
      ]
    },
    {
      "cell_type": "markdown",
      "metadata": {},
      "source": [
        "As before, we can plot several stimulus shapes generated from this new `context_modifier`\n\n"
      ]
    },
    {
      "cell_type": "code",
      "execution_count": null,
      "metadata": {
        "collapsed": false
      },
      "outputs": [],
      "source": [
        "test_points = np.array([[.1, -10, .2, -20], [.1, -60, .3, -45]])\n\nfig, ax = plt.subplots()\nax.grid()\nfor X in test_points:\n    axon_x = cm_1(X, static_context)\n    stim = axon_x.extra_stim.stimuli[0]\n    stim.plot(ax, label=f\"X={X}\")\n    plt.scatter(t_start+X[::2], X[1::2])\n    ax.legend()\n    del axon_x"
      ]
    },
    {
      "cell_type": "markdown",
      "metadata": {},
      "source": [
        "This time all the components of the new `cost_function` are already defined. It can thus be directly defined at the instantiation of the `cost_function` as bellow.\n\n"
      ]
    },
    {
      "cell_type": "code",
      "execution_count": null,
      "metadata": {
        "collapsed": false
      },
      "outputs": [],
      "source": [
        "my_cost_1 = nrv.cost_function(\n    static_context=static_context,\n    context_modifier=cm_1,\n    cost_evaluation=cost_evaluation,\n    kwargs_S=kwarg_sim)"
      ]
    },
    {
      "cell_type": "markdown",
      "metadata": {},
      "source": [
        "We can now update our optimization problem with this second `cost_function`. \n\nSince the number of dimensions and the bounds of each dimension are different from the first problem, the optimizer parameters must also be updated. This can be done when running the optimization.\n\n"
      ]
    },
    {
      "cell_type": "code",
      "execution_count": null,
      "metadata": {
        "collapsed": false
      },
      "outputs": [],
      "source": [
        "my_prob.costfunction = my_cost_1\n\nI_bound = (-I_max_abs, 0)\nt_bound = (0, t_end)\nbounds1 = (t_bound, I_bound, t_bound, I_bound)\npso_kwargs_pb_1 = {\n    \"dimensions\" : 4,\n    \"bounds\" : bounds1,\n    \"comment\":\"spline\",\n}\n\nres1 = my_prob(**pso_kwargs_pb_1)"
      ]
    },
    {
      "cell_type": "markdown",
      "metadata": {},
      "source": [
        "Finally, we can update the figure of the first results with this new optimized stimulus and the cost history to compare the results.\n\n"
      ]
    },
    {
      "cell_type": "code",
      "execution_count": null,
      "metadata": {
        "collapsed": false
      },
      "outputs": [],
      "source": [
        "fig_costs, axs_costs = plt.subplots(2, 1)\n\nstim_0 = cm_0(res0.x, static_context).extra_stim.stimuli[0]\nstim_1 = cm_1(res1.x, static_context).extra_stim.stimuli[0]\n\nstim_0.plot(axs_costs[0], label=\"rectangle pulse\")\nstim_1.plot(axs_costs[0], label=\"spline interpolated pulse\")\naxs_costs[0].set_xlabel(\"best stimulus shape\")\naxs_costs[0].set_xlabel(\"time (ms)\")\naxs_costs[0].set_ylabel(\"amplitude (\u00b5A)\")\naxs_costs[0].grid()\naxs_costs[0].legend()\n\nres0.plot_cost_history(axs_costs[1])\nres1.plot_cost_history(axs_costs[1])\naxs_costs[1].set_xlabel(\"optimization iteration\")\naxs_costs[1].set_ylabel(\"cost\")\naxs_costs[1].grid()\nfig_costs.tight_layout()"
      ]
    }
  ],
  "metadata": {
    "kernelspec": {
      "display_name": "Python 3",
      "language": "python",
      "name": "python3"
    },
    "language_info": {
      "codemirror_mode": {
        "name": "ipython",
        "version": 3
      },
      "file_extension": ".py",
      "mimetype": "text/x-python",
      "name": "python",
      "nbconvert_exporter": "python",
      "pygments_lexer": "ipython3",
      "version": "3.12.10"
    }
  },
  "nbformat": 4,
  "nbformat_minor": 0
}