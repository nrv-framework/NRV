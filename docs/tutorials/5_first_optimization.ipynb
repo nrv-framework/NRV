{
 "cells": [
  {
   "cell_type": "markdown",
   "id": "8ae89ce4",
   "metadata": {},
   "source": [
    "# First optimization problem using NRV"
   ]
  },
  {
   "cell_type": "raw",
   "id": "3e5d37b0",
   "metadata": {
    "raw_mimetype": "text/restructuredtext"
   },
   "source": [
    "In this tutorial, the optimization formalism used in NRV is illustrated through a detailed example. Further details on NRV optimization formalism can be found in :doc:`usersguide's optimization section</usersguide/optimization>`."
   ]
  },
  {
   "cell_type": "markdown",
   "id": "49739bfd",
   "metadata": {},
   "source": [
    "To reduce the computation time, this optimization will be done on a single myelinated axon. The exact same optimization problem could be applied to a nerve filled with multiple myelinated axons (see example (XXX))"
   ]
  },
  {
   "cell_type": "markdown",
   "id": "fcdddac9",
   "metadata": {},
   "source": [
    "The very first step is, as usual, to import NRV and the required packages and to generate an outputs’ repository."
   ]
  },
  {
   "cell_type": "code",
   "execution_count": null,
   "metadata": {},
   "outputs": [],
   "source": [
    "import sys \n",
    "sys.path.append(\"../\")     #data path\n",
    "import nrv\n",
    "\n",
    "import matplotlib.pyplot as plt\n",
    "import numpy as np\n",
    "import os\n",
    "\n",
    "np.random.seed(444)\n",
    "\n",
    "test_name = \"Tutorial_5\"\n",
    "dir_res = f\"./{test_name}/\"\n",
    "if not os.path.isdir(dir_res):\n",
    "    os.mkdir(dir_res)"
   ]
  },
  {
   "cell_type": "markdown",
   "metadata": {},
   "source": [
    "## First optimization: Pulse Stimulus on Single axon\n",
    "\n",
    "The objective of the first optimization problem is to **minimize a rectangle pulse stimulus energy required by a LIFE-electrode to trigger a single myelinated fibre**.\n",
    "\n",
    "### Cost function\n",
    "\n",
    "To begin, we can create an empty cost function object and fill it progressively with its components."
   ]
  },
  {
   "cell_type": "code",
   "execution_count": null,
   "metadata": {},
   "outputs": [],
   "source": [
    "## Cost function definition\n",
    "my_cost0 = nrv.cost_function()"
   ]
  },
  {
   "cell_type": "markdown",
   "metadata": {},
   "source": [
    "#### Static context\n",
    "\n",
    "The first step to implement the optimization is to define the static context. This context can be generated with the following script, the same way as in previous examples (XXX). \n",
    "In this first example the context is only composed of:\n",
    "\n",
    " - a myelinated axon: $10mm$ long, $10\\mu m$ diameter large, with a centre located at $(y=50\\mu m, z=0)$\n",
    " - a LIFE-electrode: $1mm$ long, $25\\mu m$ diameter large, with a centre located at $(x=500\\mu m, y=0, z=0)$\n",
    "\n",
    "\n",
    "**NOTES:**\n",
    "\n",
    "  -  As the stimulus of the LIFE-electrode will be regenerated during the optimization a *dummy stimulus* is associated to the electrode\n",
    "\n",
    "  - To speed up the simulations done later, in the optimization, the footprints of the electrode on the axon are computed with `get_electrodes_footprints_on_axon` method and save with the context.\n",
    "\n",
    "\n",
    "Once generated, the axon and its extracellular context can be saved in a `.json` file with using NRV `save` methods (XXX). This file will be loaded by the `cost_function` every times it will be called for the optimization.\n",
    "\n"
   ]
  },
  {
   "cell_type": "code",
   "execution_count": 3,
   "metadata": {},
   "outputs": [
    {
     "name": "stdout",
     "output_type": "stream",
     "text": [
      "NRV INFO: Mesh properties:\n",
      "NRV INFO: Number of processes : 3\n",
      "NRV INFO: Number of entities : 36\n",
      "NRV INFO: Number of nodes : 11303\n",
      "NRV INFO: Number of elements : 80392\n",
      "NRV INFO: Static/Quasi-Static electrical current problem\n",
      "NRV INFO: FEN4NRV: setup the bilinear form\n",
      "NRV INFO: FEN4NRV: setup the linear form\n",
      "NRV INFO: Static/Quasi-Static electrical current problem\n",
      "NRV INFO: FEN4NRV: solving electrical potential\n",
      "NRV INFO: FEN4NRV: solved in 12.310786008834839 s\n"
     ]
    },
    {
     "data": {
      "image/png": "[encoded data removed]",
      "text/plain": [
       "<Figure size 600x600 with 1 Axes>"
      ]
     },
     "metadata": {},
     "output_type": "display_data"
    }
   ],
   "source": [
    "axon_file = dir_res + \"myelinated_axon.json\"\n",
    "\n",
    "ax_l = 10000 # um\n",
    "ax_d=10\n",
    "ax_y=50\n",
    "ax_z=0\n",
    "axon_1 = nrv.myelinated(L=ax_l, d=ax_d, y=ax_y, z=ax_z)\n",
    "\n",
    "\n",
    "LIFE_stim0 = nrv.FEM_stimulation()\n",
    "LIFE_stim0.reshape_nerve(Length=ax_l)\n",
    "life_d = 25 # um\n",
    "life_length = 1000 # um\n",
    "life_x_0_offset = life_length/2\n",
    "life_y_c_0 = 0\n",
    "life_z_c_0 = 0\n",
    "elec_0 = nrv.LIFE_electrode(\"LIFE\", life_d, life_length, life_x_0_offset, life_y_c_0, life_z_c_0)\n",
    "\n",
    "dummy_stim = nrv.stimulus()\n",
    "dummy_stim.pulse(0, 0.1, 1)\n",
    "LIFE_stim0.add_electrode(elec_0, dummy_stim)\n",
    "\n",
    "axon_1.attach_extracellular_stimulation(LIFE_stim0)\n",
    "axon_1.get_electrodes_footprints_on_axon()\n",
    "_ = axon_1.save(save=True, fname=axon_file, extracel_context=True)\n",
    "\n",
    "fig, ax = plt.subplots(1, 1, figsize=(6,6))\n",
    "axon_1.plot(ax)\n",
    "ax.set_xlim((-1.2*ax_y, 1.2*ax_y))\n",
    "ax.set_ylim((-1.2*ax_y, 1.2*ax_y))\n",
    "\n",
    "del axon_1"
   ]
  },
  {
   "cell_type": "markdown",
   "metadata": {},
   "source": [
    "Once this static context has been saved in the cost function it should be linked with the `cost_function`.\n",
    "\n",
    "For that purpose, we can use the method `set_static_context` as bellow. \n",
    "\n",
    "Note that additional keys arguments can be added to precise simulation parameter. \n",
    "Here we impose a simulation time of $5ms$ and a time step of $5\\mu s$. These arguments will be added when the `simulate` method will be called so all the parameters of a standard simulation can be as in previous example"
   ]
  },
  {
   "cell_type": "code",
   "execution_count": null,
   "metadata": {},
   "outputs": [],
   "source": [
    "static_context = axon_file\n",
    "t_sim = 5\n",
    "dt = 0.005\n",
    "kwarg_sim = {\n",
    "    \"dt\":dt,\n",
    "    \"t_sim\":t_sim,\n",
    "}\n",
    "\n",
    "my_cost0.set_static_context(axon_file, **kwarg_sim)"
   ]
  },
  {
   "cell_type": "markdown",
   "metadata": {},
   "source": [
    "#### Context modifier\n",
    "\n",
    "The next step is to define how to interpret the tuning parameters to modify the static context. In our problem, we want to modify the LIFE-electrode's stimulus shape and evaluate its impact on the fiber. There are countless ways to define a waveform from a set of points, so let's consider a very simple method:\n",
    "\n",
    "  $-$ The stimulus is a cathodic conventional square pulse. In this scenario, both the pulse duration $T_{sq}$ and pulse amplitude $I_{sq}$ can be optimized, resulting in a two-dimensional optimization problem. The tuning parameters input vector $\\mathcal{X}_{sq}$ of the optimization problem is thus defined as follows:\n",
    "$$\n",
    "\\mathcal{X}_{sq} = \\begin{pmatrix} I_{sq} & T_{sq} \\end{pmatrix} \\;\n",
    "$$\n",
    "\n",
    "#### **Implementation:**\n",
    "\n",
    "In NRV, the modification of the static context can either be done with a callable class or a function. Some `context_modifier` classes have already been implemented in NRV.\n",
    "\n",
    "The `biphasic_stimulus_CM` is appropriate for our problem. Such `context_modifier`(XXX) add a biphasic pulse to a given electrode of a `nrv_simulable` object. \n",
    "To fit with our problem, we set the following arguments:\n",
    " - `start=1`: the cathodic pulse to start at $1ms$.\n",
    " - `s_cathod=\"0\"` the cathodic pulse amplitude is defined by the first value of the input vector $\\mathcal{X}_{sq}$.\n",
    " - `T_cathod=\"1\"` the cathodic pulse duration is defined by the second value of the input vector $\\mathcal{X}_{sq}$.\n",
    " - `s_anod=0` anodic pulse amplitude is 0 (we consider a monophasic pulse).\n",
    "\n",
    "\n",
    "**NOTE**\n",
    "\n",
    "Arguments of `biphasic_stimulus_CM` are similar to those of `stimulus.biphasic_pulse` (XXX). User can either set the argument to a specific value or specify that it should be defined by a tuning parameters input vector. In the second case the argument should be a `str` of the index of the argument in the vector.\n",
    "\n"
   ]
  },
  {
   "cell_type": "code",
   "execution_count": null,
   "metadata": {},
   "outputs": [],
   "source": [
    "t_start = 1\n",
    "I_max_abs = 100\n",
    "\n",
    "cm_0 = nrv.biphasic_stimulus_CM(start=t_start, s_cathod=\"0\", t_cathod=\"1\", s_anod=0)\n",
    "my_cost0.set_context_modifier(cm_0)"
   ]
  },
  {
   "cell_type": "markdown",
   "metadata": {},
   "source": [
    "The following lines illustrate the stimuli generated by the `cm_0` for various input parameters.\n",
    "\n",
    "As expected:\n",
    " - The first dimension sets the pulse's negative amplitude.\n",
    " - The second sets the pulse duration."
   ]
  },
  {
   "cell_type": "code",
   "execution_count": 6,
   "metadata": {},
   "outputs": [
    {
     "data": {
      "image/png": "[encoded data removed]",
      "text/plain": [
       "<Figure size 640x480 with 1 Axes>"
      ]
     },
     "metadata": {},
     "output_type": "display_data"
    }
   ],
   "source": [
    "test_points = np.array([[70, 0.5], [50, 1], [30, 1.5], [10, 2]])\n",
    "\n",
    "fig, ax = plt.subplots()\n",
    "ax.grid()\n",
    "for X in test_points:\n",
    "    axon_x = cm_0(X, static_context)\n",
    "    stim = axon_x.extra_stim.stimuli[0]\n",
    "    stim.plot(ax, label=f\"X={X}\")\n",
    "    ax.legend()\n",
    "    del axon_x"
   ]
  },
  {
   "cell_type": "markdown",
   "metadata": {},
   "source": [
    "#### Cost Evaluation\n",
    "\n",
    "In our problem, we want at the same time to minimize the energy of the stimulus and maximize the number of fibre recruited. Therefore, we can evaluate the *cost* of a stimulus on the context using the following equation:\n",
    "$$\n",
    "    Cost = \\alpha_e\\sum_{t_k}{i_{stim}^2(t_k)}+\\alpha_r(N_{axon}-N_{recruited})\n",
    "$$\n",
    "\n",
    "With:\n",
    " - $t_k$ as the discrete time step of the simulation.\n",
    " - $N_{axon}$ as the number of axon simulated, 1 in this first problem.\n",
    " - $N_{recruited}$ as the number of fibre triggered by the stimulation.\n",
    " - $\\alpha_e$ and $\\alpha_r$ as two weighting coefficients.\n",
    "\n",
    "\n",
    "**Implementation:**\n",
    "\n",
    "In NRV, the computation of this cost from simulation results is handled by a function or a callable class instance called `cost_evaluation`. As for `context_modifier`, several `cost_evaluation` classes are already implemented in the NRV package. These classes can be combined with algebraic operations to easily generate more complex cases.\n",
    "\n",
    "Here, the cost evaluation is generated using two classes implemented in NRV:\n",
    " 1. `recrutement_count_CE`: computes the number of triggered fibres.\n",
    "\n",
    " 2. `stim_energy_CE`: computes a value proportional to the stimulus energy.\n",
    "\n",
    "\n",
    "**NOTES:**\n",
    "\n",
    " - The second term of the equation ($\\alpha_r(N_{axon} - N_{recruited})$) essentially represents a function that is 1 if the fibre is triggered and 0 otherwise. This seemingly complicated notation allows us to use the same equation to evaluate a stimulus in contexts involving a larger number of axons.\n",
    "\n",
    " - With a good knowledge of the simulation results, it is possible to implement custom `cost_evaluation`, similar to `context_modifier`.\n",
    "  It should be a function or a callable class taking a `sim_results` object and any additional `kwargs` parameters, returning a corresponding cost (`float`).\n",
    "\n"
   ]
  },
  {
   "cell_type": "code",
   "execution_count": null,
   "metadata": {},
   "outputs": [],
   "source": [
    "costR = nrv.recrutement_count_CE(reverse=True)\n",
    "costC = nrv.stim_energy_CE()\n",
    "\n",
    "cost_evaluation = costR + 0.01 * costC\n",
    "my_cost0.set_cost_evaluation(cost_evaluation)"
   ]
  },
  {
   "cell_type": "markdown",
   "metadata": {},
   "source": [
    "## Optimization problem\n",
    "\n",
    "At this point, the cost function that should be minimized is fully defined. We can now proceed to define the entire optimization process by selecting the appropriate optimizer.\n",
    "\n",
    "The cost function defined for this problem is not continuous due to the second term of the cost evaluation equation ($\\alpha_r(N_{axon} - N_{recruited})$). Therefore, a meta-heuristic approach is more suitable for our needs.\n",
    "\n",
    "We can thus instantiate a :class:`~nrv.optim.Optimizers.PSO_optimizer` object adapted to our\n",
    "problem as bellow. The parameters relative to the optimization are added\n",
    "at the instantiation. Here:\n",
    "\n",
    " - `maxiter`: sets the number of iterations of the optimization.\n",
    " - `n_particles`: set the number of particle of the swarm.\n",
    " - `opt_type`: sets the neighbour topology as star (when \"global\") or ring (when \"local\").\n",
    " - `options`: sets the `Pyswarms`'s PSO option.\n",
    " - `bh_strategy`: sets the out-of-bounds handling strategy.\n",
    "\n",
    "See [Pyswarms](https://pyswarms.readthedocs.io/en/latest/) documentation for more information\n"
   ]
  },
  {
   "cell_type": "code",
   "execution_count": null,
   "metadata": {},
   "outputs": [],
   "source": [
    "pso_kwargs = {\n",
    "    \"maxiter\" : 50,\n",
    "    \"n_particles\" : 20,\n",
    "    \"opt_type\" : \"local\",\n",
    "    \"options\": {'c1': 0.6, 'c2': 0.6, 'w': 0.8, 'k': 3, 'p': 1},\n",
    "    \"bh_strategy\": \"reflective\",\n",
    "}\n",
    "pso_opt = nrv.PSO_optimizer(**pso_kwargs)"
   ]
  },
  {
   "cell_type": "markdown",
   "metadata": {},
   "source": [
    "Once both the `cost_function` and the `optimizer` are defined the optimization problem can be simply as bellow"
   ]
  },
  {
   "cell_type": "code",
   "execution_count": null,
   "metadata": {},
   "outputs": [],
   "source": [
    "# Problem definition\n",
    "my_prob = nrv.Problem()\n",
    "my_prob.costfunction = my_cost0\n",
    "my_prob.optimizer = pso_opt\n"
   ]
  },
  {
   "cell_type": "markdown",
   "metadata": {},
   "source": [
    "By calling this optimizer we can the run the optimization. Additional parameters can be set at this time using key arguments. Here, we use this option to set the PSO parameters relative to this problem:\n",
    "\n",
    " - `dimensions`: dimension of the input vector\n",
    " - `bounds`: boundaries of each dimension of the input vector\n",
    " - `comment`: optional `str` comment which will be added to the results dictionary\n",
    "\n",
    "An `optim_results` (XXX) instance will be returned from the optimization containing all results and parameters of the optimization.\n",
    "\n",
    "\n",
    "**NOTES**\n",
    "\n",
    " - The keys to used to parametrize the optimizer are the same as for instantiating the `PSO_optimizer`(XXX)\n",
    "\n",
    " - As `optim_results` class inherit from `nrv_result`, all results can either be access as `dictionary` keys or as class attributes and post-processing built-in method can be used\n",
    "\n"
   ]
  },
  {
   "cell_type": "code",
   "execution_count": 10,
   "metadata": {},
   "outputs": [
    {
     "name": "stdout",
     "output_type": "stream",
     "text": [
      "Traceback (most recent call last):\n",
      "  File \"/Users/louisregnacq/Documents/Work/Model/NRV/Tutorials/../nrv/optim/_Optimizers.py\", line 497, in minimize\n",
      "    cost, pos = optimizer.optimize(\n",
      "                ^^^^^^^^^^^^^^^^^^^\n",
      "  File \"/Users/louisregnacq/miniforge3/envs/nrv-env/lib/python3.12/site-packages/pyswarms/single/general_optimizer.py\", line 247, in optimize\n",
      "    self.swarm.current_cost = compute_objective_function(self.swarm, objective_func, pool=pool, **kwargs)\n",
      "                              ^^^^^^^^^^^^^^^^^^^^^^^^^^^^^^^^^^^^^^^^^^^^^^^^^^^^^^^^^^^^^^^^^^^^^^^^^^^\n",
      "  File \"/Users/louisregnacq/miniforge3/envs/nrv-env/lib/python3.12/site-packages/pyswarms/backend/operators.py\", line 241, in compute_objective_function\n",
      "    results = pool.map(\n",
      "              ^^^^^^^^^\n",
      "  File \"/Users/louisregnacq/miniforge3/envs/nrv-env/lib/python3.12/multiprocessing/pool.py\", line 367, in map\n",
      "    return self._map_async(func, iterable, mapstar, chunksize).get()\n",
      "           ^^^^^^^^^^^^^^^^^^^^^^^^^^^^^^^^^^^^^^^^^^^^^^^^^^^^^^^^^\n",
      "  File \"/Users/louisregnacq/miniforge3/envs/nrv-env/lib/python3.12/multiprocessing/pool.py\", line 774, in get\n",
      "    raise self._value\n",
      "  File \"/Users/louisregnacq/miniforge3/envs/nrv-env/lib/python3.12/multiprocessing/pool.py\", line 540, in _handle_tasks\n",
      "    put(task)\n",
      "  File \"/Users/louisregnacq/miniforge3/envs/nrv-env/lib/python3.12/multiprocessing/connection.py\", line 206, in send\n",
      "    self._send_bytes(_ForkingPickler.dumps(obj))\n",
      "                     ^^^^^^^^^^^^^^^^^^^^^^^^^^\n",
      "  File \"/Users/louisregnacq/miniforge3/envs/nrv-env/lib/python3.12/multiprocessing/reduction.py\", line 51, in dumps\n",
      "    cls(buf, protocol).dump(obj)\n",
      "AttributeError: Can't pickle local object 'nrv_function.__add__.<locals>.<lambda>'\n",
      "\n"
     ]
    }
   ],
   "source": [
    "t_end = 0.5\n",
    "duration_bound = (0.01, t_end)\n",
    "bounds0 = (\n",
    "    (0, I_max_abs),\n",
    "    duration_bound\n",
    ")\n",
    "pso_kwargs_pb_0 = {\n",
    "    \"dimensions\" : 2,\n",
    "    \"bounds\" : bounds0,\n",
    "    \"comment\":\"pulse\"}\n",
    "\n",
    "res0 = my_prob(**pso_kwargs_pb_0)"
   ]
  },
  {
   "cell_type": "markdown",
   "metadata": {},
   "source": [
    "Hurray! The first optimization is now complete.\n",
    "\n",
    "We can check the best input vector and the best final cost stored in `res0[\"x\"]` and `res0[\"best_cost\"]` respectively."
   ]
  },
  {
   "cell_type": "code",
   "execution_count": null,
   "metadata": {},
   "outputs": [],
   "source": [
    "print(\"best input vector:\", res0[\"x\"], \"\\nbest cost:\", res0[\"best_cost\"])"
   ]
  },
  {
   "cell_type": "markdown",
   "metadata": {},
   "source": [
    "We can explore further the results of the optimization by plotting the best stimulus shape and the cost history.\n"
   ]
  },
  {
   "cell_type": "code",
   "execution_count": null,
   "metadata": {},
   "outputs": [],
   "source": [
    "fig_costs, axs_costs = plt.subplots(2, 1)\n",
    "\n",
    "stim = cm_0(res0.x, static_context).extra_stim.stimuli[0]\n",
    "stim.plot(axs_costs[0], label=\"rectangle pulse\")\n",
    "axs_costs[0].set_xlabel(\"best stimulus shape\")\n",
    "axs_costs[0].set_xlabel(\"time (ms)\")\n",
    "axs_costs[0].set_ylabel(\"amplitude (µA)\")\n",
    "axs_costs[0].grid()\n",
    "\n",
    "res0.plot_cost_history(axs_costs[1])\n",
    "axs_costs[1].set_xlabel(\"optimization iteration\")\n",
    "axs_costs[1].set_ylabel(\"cost\")\n",
    "axs_costs[1].grid()\n",
    "fig_costs.tight_layout()\n"
   ]
  },
  {
   "cell_type": "markdown",
   "metadata": {},
   "source": [
    "Using the method `compute_best_pos`, the axon with the optimized stimulus can be simulated.\n",
    "\n",
    "This can be useful to make sure the axon is activated by plotting the rasterized $V_{mem}$ as in tuto 1 (XXX)."
   ]
  },
  {
   "cell_type": "code",
   "execution_count": null,
   "metadata": {},
   "outputs": [],
   "source": [
    "simres = res0.compute_best_pos(my_cost0)\n",
    "simres.rasterize(\"V_mem\")\n",
    "plt.figure()\n",
    "plt.scatter(simres[\"V_mem_raster_time\"], simres[\"V_mem_raster_x_position\"], color='darkslateblue')\n",
    "plt.xlabel('Times (ms)')\n",
    "plt.ylabel('Membrane voltage $V_{mem} (mV)$')\n",
    "plt.xlim(0, t_sim)\n",
    "plt.ylim(0, simres[\"L\"])\n",
    "plt.grid()\n",
    "plt.tight_layout()\n"
   ]
  },
  {
   "cell_type": "markdown",
   "metadata": {},
   "source": [
    "## Second optimization spline interpolated stimulus\n",
    "\n",
    "At this point, we have found a rectangle pulse stimulus shape triggering our fibre with a minimal energy. Let's see if we can find a better cost with a more complex stimulus shape.\n",
    "\n",
    "In this new problem, we can define the stimulus as a cathodic pulse through interpolated splines over $2$ points which are individually defined in time and amplitude. This second optimization scenario results in a $4$-dimensional problem with the input vector $\\mathcal{X}_{s_2}$ defined as:\n",
    "\n",
    "$$\n",
    "\\mathcal{X}_{s_2} = \\begin{pmatrix} I_{s_1} & t_{s_1} & I_{s_2} & t_{s_2}    \\end{pmatrix}\n",
    "$$\n",
    "\n",
    "With $I_{s_1}$ and $t_{s_1}$ the amplitude and time of the first point and $I_{s_2}$ and $t_{s_2}$ those of the second.\n",
    "\n",
    "\n",
    "As in the first optimization, the stimulus generation from input vector is handled by the `context_modifier`. So let's define a new one which will fit our purpose. This can be done using another built-in class in NRV: :class:`~nrv.optim.optim_utils.ContextModifiers.stimulus_CM`. \n",
    "To fit with our problem the following parameters are set\n"
   ]
  },
  {
   "cell_type": "code",
   "execution_count": null,
   "metadata": {},
   "outputs": [],
   "source": [
    "kwrgs_interp = {\n",
    "    \"dt\": dt,\n",
    "    \"amp_start\": 0,\n",
    "    \"amp_stop\": 0,\n",
    "    \"intertype\": \"Spline\",\n",
    "    \"bounds\": (-I_max_abs, 0),\n",
    "    \"t_sim\":t_sim,\n",
    "    \"t_end\": t_end,\n",
    "    \"t_shift\": t_start,\n",
    "    }\n",
    "cm_1 = nrv.stimulus_CM(interpolator=nrv.interpolate_Npts, intrep_kwargs=kwrgs_interp, t_sim=t_sim)"
   ]
  },
  {
   "cell_type": "markdown",
   "metadata": {},
   "source": [
    "As before, we can plot several stimulus shapes generated from this new `context_modifier`"
   ]
  },
  {
   "cell_type": "code",
   "execution_count": null,
   "metadata": {},
   "outputs": [],
   "source": [
    "test_points = np.array([[.1, -10, .2, -20], [.1, -60, .3, -45]])\n",
    "\n",
    "fig, ax = plt.subplots()\n",
    "ax.grid()\n",
    "for X in test_points:\n",
    "    axon_x = cm_1(X, static_context)\n",
    "    stim = axon_x.extra_stim.stimuli[0]\n",
    "    stim.plot(ax, label=f\"X={X}\")\n",
    "    plt.scatter(t_start+X[::2], X[1::2])\n",
    "    ax.legend()\n",
    "    del axon_x"
   ]
  },
  {
   "cell_type": "markdown",
   "metadata": {},
   "source": [
    "This time all the components of the new `cost_function` are already defined. It can thus be directly defined at the instantiation of the `cost_function` as bellow."
   ]
  },
  {
   "cell_type": "code",
   "execution_count": null,
   "metadata": {},
   "outputs": [],
   "source": [
    "my_cost_1 = nrv.cost_function(\n",
    "    static_context=static_context,\n",
    "    context_modifier=cm_1,\n",
    "    cost_evaluation=cost_evaluation,\n",
    "    kwargs_S=kwarg_sim)"
   ]
  },
  {
   "cell_type": "markdown",
   "metadata": {},
   "source": [
    "We can now update our optimization problem with this second `cost_function`. \n",
    "\n",
    "Since the number of dimensions and the bounds of each dimension are different from the first problem, the optimizer parameters must also be updated. This can be done when running the optimization."
   ]
  },
  {
   "cell_type": "code",
   "execution_count": null,
   "metadata": {},
   "outputs": [],
   "source": [
    "my_prob.costfunction = my_cost_1\n",
    "\n",
    "I_bound = (-I_max_abs, 0)\n",
    "t_bound = (0, t_end)\n",
    "bounds1 = (t_bound, I_bound, t_bound, I_bound)\n",
    "pso_kwargs_pb_1 = {\n",
    "    \"dimensions\" : 4,\n",
    "    \"bounds\" : bounds1,\n",
    "    \"comment\":\"spline\",\n",
    "}\n",
    "\n",
    "res1 = my_prob(**pso_kwargs_pb_1)"
   ]
  },
  {
   "cell_type": "markdown",
   "metadata": {},
   "source": [
    "Finally, we can update the figure of the first results with this new optimized stimulus and the cost history to compare the results.\n"
   ]
  },
  {
   "cell_type": "code",
   "execution_count": null,
   "metadata": {},
   "outputs": [],
   "source": [
    "stim = cm_1(res1.x, static_context).extra_stim.stimuli[0]\n",
    "stim.plot(axs_costs[0], label=\"spline interpolated pulse\")\n",
    "axs_costs[0].legend()\n",
    "res1.plot_cost_history(axs_costs[1])\n",
    "fig_costs\n",
    "\n",
    "#plt.show()"
   ]
  }
 ],
 "metadata": {
  "kernelspec": {
   "display_name": "nrv-env",
   "language": "python",
   "name": "python3"
  },
  "language_info": {
   "codemirror_mode": {
    "name": "ipython",
    "version": 3
   },
   "file_extension": ".py",
   "mimetype": "text/x-python",
   "name": "python",
   "nbconvert_exporter": "python",
   "pygments_lexer": "ipython3",
   "version": "3.12.2"
  }
 },
 "nbformat": 4,
 "nbformat_minor": 2
}
