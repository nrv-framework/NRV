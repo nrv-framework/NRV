{
  "cells": [
    {
      "cell_type": "markdown",
      "metadata": {},
      "source": [
        "\n# Tutorial 1 - First steps into NRV: a simple axon\n\n## Context\n\nThe presence of the myelin sheath on large axonal fibers transforms the so-called *continuous* conduction of unmyelinated fibers into a *saltatory* conduction, largely increasing the speed of action potential propagations. In this tutorial, we will simulated several myelinated and unmyelinated fiber model using NRV and investigate how it effects the action potential propagation speed.\n\n\nFirst the nrv package is imported as well as the matplotlib package used for plotting nrv's simulation outputs.\n"
      ]
    },
    {
      "cell_type": "code",
      "execution_count": null,
      "metadata": {
        "collapsed": false
      },
      "outputs": [],
      "source": [
        "import nrv\n\nimport matplotlib.pyplot as plt\nimport numpy as np"
      ]
    },
    {
      "cell_type": "markdown",
      "metadata": {},
      "source": [
        "Generate a dummy static context\n\n## Intracellular stimulation of an unmyelinated axon\n\nUnmyelinated fiber (y,z) coordinates, diameter, length, and computationnal model are defined at the creation of an ```unmyelinated``` object. The default computationnal model uses the ```Rattay_Aberham``` model (Rattay and Aberham, 1993). Others available models are the ```HH``` model (Hodgkin and Huxley, 1952), the ```Sundt``` model (Sundt et al. 2015), the ```Tigerholm``` model (Tigerholm et al. 2014), the ```Schild_94``` model (Schild et al. 1994) and the ```Schild_97``` model (Schild et al. 1997). \n\n"
      ]
    },
    {
      "cell_type": "code",
      "execution_count": null,
      "metadata": {
        "collapsed": false
      },
      "outputs": [],
      "source": [
        "## Axn def\ny = 0  # axon y position, in [\u00b5m]\nz = 0  # axon z position, in [\u00b5m]\nd = 1  # axon diameter position, in [\u00b5m]\nL = 5000  # axon length along x, in [\u00b5m]\nmodel = \"HH\"  # Rattay_Aberham if not precised\naxon_u = nrv.unmyelinated(y, z, d, L, model=model)"
      ]
    },
    {
      "cell_type": "markdown",
      "metadata": {},
      "source": [
        "The axon is stimulated by an intracellular current stimulus via the ```insert_I_Clamp``` method of the ```unmyelinated``` class. The stimulus is parameterized with its duration and amplitude, and its position along the fiber's x axis. The stimulus start time is also defined. \n\n"
      ]
    },
    {
      "cell_type": "code",
      "execution_count": null,
      "metadata": {
        "collapsed": false
      },
      "outputs": [],
      "source": [
        "## intracellular current pulse (ICP)\nt_start = 1  # ICP time during the sim, in [ms]\nduration = 0.1  # ICP duration, in [ms]\namplitude = 5  # ICP amplitude, in [nA]\nx_start = 0  # ICP initial postition along the axon, in [\u00b5s]\naxon_u.insert_I_Clamp(x_start, t_start, duration, amplitude)"
      ]
    },
    {
      "cell_type": "markdown",
      "metadata": {},
      "source": [
        "Last, the unmeylinated fiber membrane's voltage is solved during ```t_sim``` ms using the ```simulate``` method of the ```unmyelinated``` class. the ```axon_u``` object is a callable object which will automatically called the ```simulate``` method of the ```unmyelinated``` class when called. Results are stored in the ```results``` variable over in the form of a dictionnary.\n\n"
      ]
    },
    {
      "cell_type": "code",
      "execution_count": null,
      "metadata": {
        "collapsed": false
      },
      "outputs": [],
      "source": [
        "## Simulation\nt_sim = 20  # sim duration, in [ms]\nresults = axon_u(t_sim=t_sim)"
      ]
    },
    {
      "cell_type": "markdown",
      "metadata": {},
      "source": [
        "Each key of the ```results``` dictionnary are also a member of the ```results``` object.\n\n"
      ]
    },
    {
      "cell_type": "code",
      "execution_count": null,
      "metadata": {
        "collapsed": false
      },
      "outputs": [],
      "source": [
        "vmem = results[\"V_mem\"] \nvmem_attribute = results.V_mem #equivalent\nprint(np.allclose(vmem, vmem_attribute))"
      ]
    },
    {
      "cell_type": "markdown",
      "metadata": {},
      "source": [
        "## Simulation results plots\n\nNow we can use matplotlib to easily visualize some simulation results contained in the ```results``` dictionnary. \n\n"
      ]
    },
    {
      "cell_type": "code",
      "execution_count": null,
      "metadata": {
        "collapsed": false
      },
      "outputs": [],
      "source": [
        "x_idx_mid = len(results[\"V_mem\"]) // 2 #get the mid-fiber x-index position\nfig, ax = plt.subplots()\nax.plot(results[\"t\"], results[\"V_mem\"][x_idx_mid], color=\"darkcyan\")\nax.set_xlabel('Times (ms)')\nax.set_ylabel('Membrane voltage $V_{mem} (mV)$')\nfig.tight_layout()\nplt.show()"
      ]
    },
    {
      "cell_type": "markdown",
      "metadata": {},
      "source": [
        "The plot above shows a momentary voltage increase (a spike) across $V_{mem}$.\n\nThe simulated fiber's membrane voltage $V_{mem}$ is a 3-D variable: voltage is solved across the fiber's x-axis (```x_rec``` in ```results```) and across time. The 3-D result can be visualized with a color map. This can simply be obtained with the ``colormap_plot`` method of the ``results`` object: \n\n"
      ]
    },
    {
      "cell_type": "code",
      "execution_count": null,
      "metadata": {
        "collapsed": false
      },
      "outputs": [],
      "source": [
        "fig, ax = plt.subplots(1)\ncbar = results.colormap_plot(ax, \"V_mem\")\nax.set_xlabel('Time (ms)')\nax.set_ylabel('x-position (\u00b5m)')\ncbar.set_label(r'Membrane Voltage $V_{mem}$ (mV)')\nfig.tight_layout()"
      ]
    },
    {
      "cell_type": "markdown",
      "metadata": {},
      "source": [
        "We can also use the ``plot_x_t`` method of ``results`` to plot $V_{mem}$ across time and space. The function plot the evolution of $V_{mem}$ across time for a subset of x position (20 by default):\n\n"
      ]
    },
    {
      "cell_type": "code",
      "execution_count": null,
      "metadata": {
        "collapsed": false
      },
      "outputs": [],
      "source": [
        "fig, ax = plt.subplots(1)\nresults.plot_x_t(ax,'V_mem')\nax.set_ylabel(\"Axon x-axis (\u00b5m)\")\nax.set_xlabel(\"Time (ms)\")\nax.set_xlim(0,results.tstop)\nax.set_ylim(0,np.max(results.x_rec))"
      ]
    },
    {
      "cell_type": "markdown",
      "metadata": {},
      "source": [
        "The color plot shows that the voltage spike across the fiber's voltage propagates from one end of the fiber (`x = 0\\mu m`, where the current clamp is attached to the fiber) to the other end of the fiber (`x = 5000\\mu m`). The generates voltage spikes propagates across the fiber: it is an action potential (AP)!\nThe AP took approximately $12 ms$ to travel across the fiber $5000\\mu m$ fiber. The propagation velocity of the AP is thus about $0.4m/s$. This property is referred to as the conduction velocity of a fiber.\n\nIn many situations, we want to detect if whether an AP is going through the fiber. For that, the ```rasterize``` method of the ``results`` object. The method detected the presence of AP in the fiber across time and space using a threshold function. The results can be plotted with the ``raster_plot`` method of ``results``.\n\n"
      ]
    },
    {
      "cell_type": "code",
      "execution_count": null,
      "metadata": {
        "collapsed": false
      },
      "outputs": [],
      "source": [
        "# Raster plot\nresults.rasterize(\"V_mem\")\nfig, ax = plt.subplots(1)\nresults.raster_plot(ax,'V_mem')\nax.set_ylabel(\"Axon x-axis (\u00b5m)\")\nax.set_xlabel(\"Time (ms)\")\nax.set_xlim(0,results.tstop)\nax.set_ylim(0,np.max(results.x_rec))\nfig.tight_layout()"
      ]
    },
    {
      "cell_type": "markdown",
      "metadata": {},
      "source": [
        "The color plot shows that the voltage spike across the fiber's voltage propagates from one end of the fiber (`x = 0\\mu m`, where the current clamp is attached to the fiber) to the other end of the fiber (`x = 5000\\mu m`). The generates voltage spikes propagates across the fiber: it is an action potential (AP)!\nThe AP took approximately $12 ms$ to travel across the fiber $5000\\mu m$ fiber. The propagation velocity of the AP is thus about $0.4m/s$. This property is referred to as the conduction velocity of a fiber.\n\n"
      ]
    },
    {
      "cell_type": "code",
      "execution_count": null,
      "metadata": {
        "collapsed": false
      },
      "outputs": [],
      "source": [
        "# In many situations, we want to detect if whether an AP is going through the fiber. For that, the ```rasterize``` method of the ``results`` object. The method detected the presence of AP in the fiber across time and space using a threshold function. The results can be plotted with the ``raster_plot`` method of ``results``.\n\n## Axon def\ny = 0 # axon y position, in [\u00b5m]\nz = 0 # axon z position, in [\u00b5m]\nd = 10 # axon diameter position, in [\u00b5m]\nn_NoR = 20 #number of Node-of-Ranvier\nL = nrv.get_length_from_nodes(d, n_NoR)    \nmodel = \"MRG\" #myelinated fiber model, MRG by default\n\naxon_m = nrv.myelinated(y, z, d, L, model=model,rec='all')"
      ]
    },
    {
      "cell_type": "markdown",
      "metadata": {},
      "source": [
        "Attaching an intracelullar clamp is similar, but the position of the clamp on the fiber is defined by a NoR number instead of an absolute $x-position$. Here the clamp is attached to the first NoR of fiber, i.e. the closest NoR to $x = 0\\mu m$.\n\n"
      ]
    },
    {
      "cell_type": "code",
      "execution_count": null,
      "metadata": {
        "collapsed": false
      },
      "outputs": [],
      "source": [
        "## test pulse\nt_start = 1\nduration = 0.1\namplitude = 5\nclamp_node = 0\naxon_m.insert_I_Clamp(clamp_node, t_start, duration, amplitude)\n\n## Simulation\nt_sim = 3\nresults_m = axon_m(t_sim=t_sim)"
      ]
    },
    {
      "cell_type": "markdown",
      "metadata": {},
      "source": [
        "Results can be plotted the same way we did for the unmyelinated fiber: \n\n"
      ]
    },
    {
      "cell_type": "code",
      "execution_count": null,
      "metadata": {
        "collapsed": false
      },
      "outputs": [],
      "source": [
        "# Color Map\nfig, ax = plt.subplots(1)\ncbar = results_m.colormap_plot(ax, \"V_mem\")\nax.set_xlabel('Time (ms)')\nax.set_ylabel('x-position (\u00b5m)')\ncbar.set_label(r'Membrane Voltage $V_{mem}$ (mV)')\nfig.tight_layout()"
      ]
    },
    {
      "cell_type": "markdown",
      "metadata": {},
      "source": [
        "The AP propagation is also visible but \"jumps\" from one NoR to the other. This is called the saltatory conduction by opposition to the continuous conduction of the unmyelinated fibers. \n\nUsing the ```rasterize``` function of NRV (figure below) we see that the AP is only detected at the NoR of the fiber.\n\n"
      ]
    },
    {
      "cell_type": "code",
      "execution_count": null,
      "metadata": {
        "collapsed": false
      },
      "outputs": [],
      "source": [
        "results_m.rasterize(\"V_mem\")\nfig, axs = plt.subplots(2)\n\nresults_m.plot_x_t(axs[0],'V_mem')\naxs[0].set_ylabel(\"Axon x-axis (\u00b5m)\")\naxs[0].set_xlabel(\"Time (ms)\")\naxs[0].set_xlim(0,results_m.tstop)\naxs[0].set_ylim(0,np.max(results_m.x_rec))\n\nresults_m.raster_plot(axs[1],'V_mem')\naxs[1].set_ylabel(\"Axon x-axis (\u00b5m)\")\naxs[1].set_xlabel(\"Time (ms)\")\naxs[1].set_xlim(0,results_m.tstop)\naxs[1].set_ylim(0,np.max(results_m.x_rec))\n\nfig.tight_layout()\nplt.show()"
      ]
    }
  ],
  "metadata": {
    "kernelspec": {
      "display_name": "Python 3",
      "language": "python",
      "name": "python3"
    },
    "language_info": {
      "codemirror_mode": {
        "name": "ipython",
        "version": 3
      },
      "file_extension": ".py",
      "mimetype": "text/x-python",
      "name": "python",
      "nbconvert_exporter": "python",
      "pygments_lexer": "ipython3",
      "version": "3.12.10"
    }
  },
  "nbformat": 4,
  "nbformat_minor": 0
}