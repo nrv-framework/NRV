{
  "cells": [
    {
      "cell_type": "markdown",
      "metadata": {},
      "source": [
        "\n# Tutorial 2 - Evaluation of propagation velocity with NRV\n\nThe presence of the myelin sheath on large axonal fibers transforms the\nso-called *continuous* conduction of unmyelinated fibers into a\n*saltatory* conduction, largely increasing the speed of action potential\npropagations. In this tutorial, we will simulated several myelinated and\nunmyelinated fiber model using NRV and investigate how it effects the\naction potential propagation speed.\n\nFirst the ``nrv`` package is imported as well as the ``matplotlib``\npackage used for plotting nrv's simulation outputs. We will also use\nsome ``numpy``'s function.\n"
      ]
    },
    {
      "cell_type": "code",
      "execution_count": null,
      "metadata": {
        "collapsed": false
      },
      "outputs": [],
      "source": [
        "import numpy as np\nimport matplotlib.pyplot as plt\nimport nrv"
      ]
    },
    {
      "cell_type": "markdown",
      "metadata": {},
      "source": [
        "## Measuring Propagation Velocity of an unmyelinated fibers\nFirst let\u2019s create an ``unmyelinated`` object and specify the (y,z)\ncoordinates, diameter, length, and computationnal model used. The ``HH``\nmodel (Hodgkin and Huxley, 1952) is used here for the example.\n\n"
      ]
    },
    {
      "cell_type": "code",
      "execution_count": null,
      "metadata": {
        "collapsed": false
      },
      "outputs": [],
      "source": [
        "y = 0                               # axon y position, in [um]\nz = 0                               # axon z position, in [um]\nd = 1                               # axon diameter, in [um]\nL = 2000                            # axon length, along x axis, in [um]\nmodel = \"HH\"                        \naxon = nrv.unmyelinated(y, z, d, L, model=model)"
      ]
    },
    {
      "cell_type": "markdown",
      "metadata": {},
      "source": [
        "The unmyelinated fiber is stimulated with an intracellular current clamp\nthat is attach to the fiber using the ``insert_I_Clamp`` method. The\ngenerated AP will be used to measure the propagation speed.\n\n"
      ]
    },
    {
      "cell_type": "code",
      "execution_count": null,
      "metadata": {
        "collapsed": false
      },
      "outputs": [],
      "source": [
        "## Intracellular stimulation definition\nt_start = 1                 # starting time, in [ms]\nduration = 0.1              # duration, in [ms]\namplitude = 5               # amplitude, in [nA]\naxon.insert_I_Clamp(0, t_start, duration, amplitude)"
      ]
    },
    {
      "cell_type": "markdown",
      "metadata": {},
      "source": [
        "Axon is simulated and the simulated membrane\u2019s voltage is rasterize to\nfacilitate the spike detection. For that, the ``rasterize`` method of the ``results`` object. The function detects the\npresence of AP in the fiber across time and space using a threshold function.\n\n"
      ]
    },
    {
      "cell_type": "code",
      "execution_count": null,
      "metadata": {
        "collapsed": false
      },
      "outputs": [],
      "source": [
        "t_sim = 10                  # simulation time, in [ms] \nresults = axon(t_sim=t_sim)\nresults.rasterize(\"V_mem\")"
      ]
    },
    {
      "cell_type": "markdown",
      "metadata": {},
      "source": [
        "We can plot the rasterized result to verify that an AP is indeed\npropagating through the fiber.\n\n"
      ]
    },
    {
      "cell_type": "code",
      "execution_count": null,
      "metadata": {
        "collapsed": false
      },
      "outputs": [],
      "source": [
        "results.rasterize(\"V_mem\")\nfig, ax = plt.subplots(1)\nresults.raster_plot(ax,'V_mem')\nax.set_ylabel(\"Axon x-axis (\u00b5m)\")\nax.set_xlabel(\"Time (ms)\")\nax.set_xlim(0,results.tstop)\nax.set_ylim(0,np.max(results.x_rec))\nfig.tight_layout()"
      ]
    },
    {
      "cell_type": "markdown",
      "metadata": {},
      "source": [
        "The velocity of the propagating AP can be simply evaluated with the\nbuilt-in method ``get_avg_AP_speed`` of the ``results`` dictionary.\n\n"
      ]
    },
    {
      "cell_type": "code",
      "execution_count": null,
      "metadata": {
        "collapsed": false
      },
      "outputs": [],
      "source": [
        "unmyelinated_speed = results.get_avg_AP_speed()\nprint(unmyelinated_speed)          #in m/s"
      ]
    },
    {
      "cell_type": "markdown",
      "metadata": {},
      "source": [
        "## Measuring Propagation Velocity of a myelinated fibers.\n\nThose steps can be repeated but with a myelinated fiber model. Note that\nwe defined a fixed number of nodes-of-ranvier and derived the length of\nthe fiber from this number, rather than specifying its length directly.\n\n"
      ]
    },
    {
      "cell_type": "code",
      "execution_count": null,
      "metadata": {
        "collapsed": false
      },
      "outputs": [],
      "source": [
        "## Axon creation\ny = 0                                 # axon y position, in [um]\nz = 0                                 # axon z position, in [um]\nd = 10                                # axon diameter, in [um]\nL = nrv.get_length_from_nodes(d, 21)  #Axon length is 21 node of Ranvier\nmodel = \"MRG\"\naxon = nrv.myelinated(y, z, d, L, model=model)\n\n## test pulse\nt_start = 1\nduration = 0.1\namplitude = 5\naxon.insert_I_Clamp(0, t_start, duration, amplitude)\nt_sim = 5\n\n## Simulation\nresults = axon(t_sim=t_sim)\n\nresults.rasterize(\"V_mem\")\nmyelinated_speed = results.get_avg_AP_speed()\nprint(myelinated_speed)"
      ]
    },
    {
      "cell_type": "markdown",
      "metadata": {},
      "source": [
        "As expected, the AP propagation is much faster in a large myelinated\naxon than small unmyelinated one!\n\n"
      ]
    },
    {
      "cell_type": "code",
      "execution_count": null,
      "metadata": {
        "collapsed": false
      },
      "outputs": [],
      "source": [
        "# ## Velocity-diameter relationship\n\n# The velocity of AP propagation in a fiber increases with its diameter.\n# Let\u2019s verify this with NRV and plot the propagation velocity diameter\n# relationship for unmyelinated fibers. This typically takes less than 30s to calculate.\n\nunmyelinated_diameters = np.linspace(0.1, 2, 10)            #10 unmyelinated fibers with diameter ranging from 0.1\u00b5m to 2\u00b5m.\nunmyelinated_speed = []                                     #Empty list to store results\n\n## Axon fixed parameters\ny = 0\nz = 0\nL = 5000\nmodel = \"HH\" \n\n## test pulse fixed parameters\nt_start = 1\nduration = 0.1\namplitude = 5\n\nt_sim = 10\nfor d in unmyelinated_diameters: \n\n    #Axon creation\n    axon1 = nrv.unmyelinated(y, z, d, L, model=model)\n    axon1.insert_I_Clamp(0, t_start, duration, amplitude)\n\n    ## Simulation\n    results = axon1(t_sim=t_sim)\n    del axon1\n\n    results.rasterize(\"V_mem\")\n    unmyelinated_speed += [results.get_avg_AP_speed()]\n\n#Plot the results\nfig, ax  = plt.subplots()\nax.plot(unmyelinated_diameters, unmyelinated_speed, \"o-\", label=\"unmyelinated\")\nax.legend()\nax.grid()\nax.set_xlabel(r\"diameter ($\\mu m$)\")\nax.set_ylabel(r\"speed ($m.s^{-1}$)\")"
      ]
    },
    {
      "cell_type": "markdown",
      "metadata": {},
      "source": [
        "Let\u2019s do the same thing but with myelinated fibers this time. Note that\nwe need to update the fiber\u2019s length at each new axon diameter as the\nnode-of-ranvier distance increases with diameter.\n\n"
      ]
    },
    {
      "cell_type": "code",
      "execution_count": null,
      "metadata": {
        "collapsed": false
      },
      "outputs": [],
      "source": [
        "myelinated_diameters = np.linspace(2, 20, 10)   #10 myelinated fibers with diameter ranging from 2\u00b5m to 20\u00b5m.\nmyelinated_speed = []\n\n## Axon def\ny = 0\nz = 0\nmodel = \"MRG\"\n\n## test pulse\nt_start = 1\nduration = 0.1\namplitude = 5\n\nt_sim = 5\n\nfor d in myelinated_diameters:\n    L = nrv.get_length_from_nodes(d, 21)  \n    axon1 = nrv.myelinated(y, z, d, L, model=model)\n    axon1.insert_I_Clamp(0, t_start, duration, amplitude)\n\n    ## Simulation\n    results = axon1(t_sim=t_sim)\n    del axon1\n\n    results.rasterize(\"V_mem\")\n    myelinated_speed += [results.get_avg_AP_speed()]\n\nfig, ax  = plt.subplots()\nax.plot(myelinated_diameters, myelinated_speed, \"o-\", label=\"myelinated\")\nax.legend()\nax.grid()\nax.set_xlabel(r\"diameter ($\\mu m$)\")\nax.set_ylabel(r\"speed ($m.s^{-1}$)\")"
      ]
    },
    {
      "cell_type": "markdown",
      "metadata": {},
      "source": [
        "Myelinated and unmyelinated AP velocities can be plotted in the same\nfigure (in log scale), clearly demonstrating the AP propagation speed\ngain provided by the axon\u2019s myelin sheath.\n\n"
      ]
    },
    {
      "cell_type": "code",
      "execution_count": null,
      "metadata": {
        "collapsed": false
      },
      "outputs": [],
      "source": [
        "fig, ax  = plt.subplots()\nax.loglog(unmyelinated_diameters, unmyelinated_speed, \"o-\", label=\"unmyelinated\")\nax.loglog(myelinated_diameters, myelinated_speed, \"o-\", label=\"myelinated\")\nax.legend()\nax.grid()\nax.set_xlabel(r\"diameter ($\\mu m$)\")\nax.set_ylabel(r\"speed ($m.s^{-1}$)\")"
      ]
    },
    {
      "cell_type": "markdown",
      "metadata": {},
      "source": [
        "## Effect of model on Velocity-diameter relationship\n\nThe user can choose between several unmyelinated and myelinated\ncomputationnal models commonly found in the literature. Available\nunmyelinated model are the ``Rattay_Aberham`` model (Rattay and Aberham,\n1993), the ``HH`` model (Hodgkin and Huxley, 1952), the ``Sundt`` model\n(Sundt et al.\u00a02015), the ``Tigerholm`` model (Tigerholm et al.\u00a02014),\nthe ``Schild_94`` model (Schild et al.\u00a01994) and the ``Schild_97`` model\n(Schild et al.\u00a01997). For myelinated fibers, available myelinated models\nare the ``MRG`` model (McIntyre et al., 2002), the ``Gaines_sensory``\nand ``Gaines_motor`` models (Gaines et al., 2018). Each computational\nmodel has specific ion channels and membrane characteristics, resulting\nin differences in propagation speed. Let\u2019s see how this changes for\nmyelinated fibers. This typically takes between one to two minutes to\nrun.\n\n"
      ]
    },
    {
      "cell_type": "code",
      "execution_count": null,
      "metadata": {
        "collapsed": false
      },
      "outputs": [],
      "source": [
        "myelinated_diameters = np.linspace(2, 20, 10)   #10 myelinated fibers with diameter ranging from 2\u00b5m to 20\u00b5m.\n\n## Axon def\ny = 0\nz = 0\n\n## test pulse\nt_start = 1\nduration = 0.1\namplitude = 5\n\nt_sim = 5\n\nfig, ax  = plt.subplots()\n\nmyelinated_models = ['MRG','Gaines_motor','Gaines_sensory']\nfor model in myelinated_models:\n    myelinated_speed = []\n    print(f\"Simulated model: {model}\")\n    for d in myelinated_diameters:\n        L = nrv.get_length_from_nodes(d, 21)  \n        axon1 = nrv.myelinated(y, z, d, L, model=model)\n        axon1.insert_I_Clamp(0, t_start, duration, amplitude)\n        ## Simulation\n        results = axon1(t_sim=t_sim)\n        del axon1\n        results.rasterize(\"V_mem\")\n        myelinated_speed += [results.get_avg_AP_speed()]\n    ax.plot(myelinated_diameters, myelinated_speed, \"o-\", label=model)\n\nax.legend()\nax.grid()\nax.set_xlabel(r\"diameter ($\\mu m$)\")\nax.set_ylabel(r\"speed ($m.s^{-1}$)\")"
      ]
    },
    {
      "cell_type": "markdown",
      "metadata": {},
      "source": [
        "Although not identical, the 3 models have very similar propagation\nspeeds. Indeed, these models are very similar, Gaines\u2019 versions being\ndirectly derived from the MRG model. Let's do the same thing but with\nunmyelinated models:\n\n"
      ]
    },
    {
      "cell_type": "code",
      "execution_count": null,
      "metadata": {
        "collapsed": false
      },
      "outputs": [],
      "source": [
        "unyelinated_diameters = np.linspace(0.1, 2, 10)   #10 unmyelinated fibers with diameter ranging from 0.1\u00b5m to 2\u00b5m.\n\n## Axon def\ny = 0\nz = 0\nL = 1000\n\n## test pulse\nt_start = 1\nduration = 0.1\namplitude = 5\n\nt_sim = 10\n\nfig, ax  = plt.subplots()\nunmyelinated_models = [\"HH\",\"Rattay_Aberham\",\"Sundt\",\"Tigerholm\"]\nfor model in unmyelinated_models:\n    unmyelinated_speed = []\n    print(f\"Simulated model: {model}\")\n    for d in unmyelinated_diameters: \n        axon1 = nrv.unmyelinated(y, z, d, L, model=model)\n        axon1.insert_I_Clamp(0, t_start, duration, amplitude)\n        results = axon1(t_sim=t_sim)\n        del axon1\n        results.rasterize(\"V_mem\")\n        unmyelinated_speed += [results.get_avg_AP_speed()]\n    ax.plot(unmyelinated_diameters, unmyelinated_speed, \"o-\", label=model)\n\nax.legend()\nax.grid()\nax.set_xlabel(r\"diameter ($\\mu m$)\")\nax.set_ylabel(r\"speed ($m.s^{-1}$)\")"
      ]
    },
    {
      "cell_type": "markdown",
      "metadata": {},
      "source": [
        "On the other hand, we can see that the differences in propagation speed\nbetween the different models of unmyelinated fibers are much more\npronounced. As a matter of fact, these different models were developed\nusing different data and for different purposes, which is why they\ndiffer so much. These models are described in detail in Pelot et\nal.\u00a0(Pelot et al.\u00a02021).\n"
      ]
    }
  ],
  "metadata": {
    "kernelspec": {
      "display_name": "Python 3",
      "language": "python",
      "name": "python3"
    },
    "language_info": {
      "codemirror_mode": {
        "name": "ipython",
        "version": 3
      },
      "file_extension": ".py",
      "mimetype": "text/x-python",
      "name": "python",
      "nbconvert_exporter": "python",
      "pygments_lexer": "ipython3",
      "version": "3.12.10"
    }
  },
  "nbformat": 4,
  "nbformat_minor": 0
}