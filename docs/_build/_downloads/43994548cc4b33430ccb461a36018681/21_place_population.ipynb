{
  "cells": [
    {
      "cell_type": "markdown",
      "metadata": {},
      "source": [
        "\n# Axon Population Placement\n\nSimple example to help using :class:`~nrv.nmod.axon_population` placement methods.\n\nThis example shows how to:\n    - Create axon populations for different shapes (circle, ellipse, polygon)\n    - Place axons using both direct data and the placer\n    - Use and highlight various placer arguments (delta, delta_trace, delta_in, method, fit_to_size, n_iter)\n\n.. seealso::\n    :doc:`Users' guide <../../usersguide/populations>`\n"
      ]
    },
    {
      "cell_type": "code",
      "execution_count": null,
      "metadata": {
        "collapsed": false
      },
      "outputs": [],
      "source": [
        "import matplotlib.pyplot as plt\nimport numpy as np\nfrom nrv.utils import geom\nfrom nrv.nmod._axon_population import axon_population"
      ]
    },
    {
      "cell_type": "markdown",
      "metadata": {},
      "source": [
        "## Quick placement\n<div class=\"alert alert-info\"><h4>Note</h4><p>:meth:`~nrv.axon_population.fill_geometry` both create and place the geometry</p></div>\n\n"
      ]
    },
    {
      "cell_type": "code",
      "execution_count": null,
      "metadata": {
        "collapsed": false
      },
      "outputs": [],
      "source": [
        "center = (0, 0)\nradius = 20\nn_ax=10\n\npop_circle = axon_population()\npop_circle.set_geometry(center=center, radius=radius)\n\npop_circle.fill_geometry(n_ax=n_ax)\npop_circle.axon_pop"
      ]
    },
    {
      "cell_type": "markdown",
      "metadata": {},
      "source": [
        "## Tunable parameters\n\n### Placement in a Circle using the placer\n\n"
      ]
    },
    {
      "cell_type": "code",
      "execution_count": null,
      "metadata": {
        "collapsed": false
      },
      "outputs": [],
      "source": [
        "center = (0, 0)\nradius = 100\nn_ax = 625\n\npop_circle = axon_population()\npop_circle.set_geometry(center=center, radius=radius)\npop_circle.create_population_from_stat(n_ax=n_ax)\npop_circle.place_population(delta=2)  # default placer\npop_circle.get_ppop_info(verbose=True)"
      ]
    },
    {
      "cell_type": "markdown",
      "metadata": {},
      "source": [
        "### Placement in an Ellipse using the placer with custom `delta`\n\n"
      ]
    },
    {
      "cell_type": "code",
      "execution_count": null,
      "metadata": {
        "collapsed": false
      },
      "outputs": [],
      "source": [
        "center_ellipse = (200, 0)\nr_ellipse = (120, 60)\nangle = np.pi/6\n\npop_ellipse = axon_population()\npop_ellipse.set_geometry(center=center_ellipse, radius=r_ellipse, rot=angle)\npop_ellipse.create_population_from_stat(n_ax=n_ax)\npop_ellipse.place_population(delta=2)\npop_ellipse.get_ppop_info(verbose=True)"
      ]
    },
    {
      "cell_type": "markdown",
      "metadata": {},
      "source": [
        "### Placement in a Polygon using the placer and differen `deltas_in`/`delta_trace`\n\n"
      ]
    },
    {
      "cell_type": "code",
      "execution_count": null,
      "metadata": {
        "collapsed": false
      },
      "outputs": [],
      "source": [
        "vertices = [(-100, 100), (0, 200), (100, 100), (60, 0), (0, -100), (-60, 0)]\npop_polygon = axon_population()\npoly = geom.Polygon(vertices=vertices)\npop_polygon.set_geometry(geometry=poly)\npop_polygon.create_population_from_stat(n_ax=n_ax)\npop_polygon.place_population(delta_in=2, delta_trace=20)\npop_polygon.get_ppop_info(verbose=True)"
      ]
    },
    {
      "cell_type": "markdown",
      "metadata": {},
      "source": [
        "### Placement from data (direct y/z)\n\nGenerate mesh grid position inside the circle bounding box\n\n"
      ]
    },
    {
      "cell_type": "code",
      "execution_count": null,
      "metadata": {
        "collapsed": false
      },
      "outputs": [],
      "source": [
        "x = np.linspace(-radius, radius, int(n_ax**0.5))\nxv, yv = np.meshgrid(x, x)\nxv = xv.reshape((n_ax,))\nyv = yv.reshape((n_ax,))\ntypes = np.random.randint(0, 2, n_ax)\nn_mye = types.sum()\ndiameters = np.zeros(n_ax)\ndiameters[types.astype(bool)] = np.random.uniform(2, 11, n_mye)\ndiameters[~types.astype(bool)] = np.random.uniform(.1,4, n_ax-n_mye)\n\npop_data = axon_population()\npop_data.set_geometry(center=center, radius=radius)\npop_data.create_population_from_data((types, diameters, xv, yv))\npop_data.get_ppop_info(verbose=True)"
      ]
    },
    {
      "cell_type": "markdown",
      "metadata": {},
      "source": [
        "### Placement using the \"packing\" method\n\n"
      ]
    },
    {
      "cell_type": "code",
      "execution_count": null,
      "metadata": {
        "collapsed": false
      },
      "outputs": [],
      "source": [
        "pop_packing = axon_population()\npop_packing.set_geometry(center=center, radius=radius)\npop_packing.create_population_from_stat(n_ax=n_ax)\npop_packing.place_population(method=\"packing\", delta=2, fit_to_size=True, n_iter=16000)\npop_packing.get_ppop_info(verbose=True)"
      ]
    },
    {
      "cell_type": "markdown",
      "metadata": {},
      "source": [
        "### All in one using :meth:`~nrv.nmod.axon_population.generate`\n\n"
      ]
    },
    {
      "cell_type": "code",
      "execution_count": null,
      "metadata": {
        "collapsed": false
      },
      "outputs": [],
      "source": [
        "pop_fvf = axon_population()\npop_fvf.generate(center=center, radius=radius, n_ax=n_ax, delta_in=5)\npop_fvf.get_ppop_info(verbose=True)"
      ]
    },
    {
      "cell_type": "markdown",
      "metadata": {},
      "source": [
        "### Plotting\n\n"
      ]
    },
    {
      "cell_type": "code",
      "execution_count": null,
      "metadata": {
        "collapsed": false
      },
      "outputs": [],
      "source": [
        "def plot_pop(axes:plt.Axes, pop:axon_population, title:str):\n    \"\"\"\n    Plot an axon population in `axes`\n    \"\"\"\n    pop.plot(axes)\n    axes.set_title(title)\n    axes.set_aspect('equal', adjustable='box')\n    axes.set_xlabel('Y-axis')\n    axes.set_ylabel('Z-axis')\n\nfig, axs = plt.subplots(2, 3, figsize=(15, 10))\nplot_pop(axs[0, 0], pop_circle, \"Circle - placer (delta=2)\")\nplot_pop(axs[0, 1], pop_ellipse, \"Ellipse - placer (delta=2, n_iter=2000)\")\nplot_pop(axs[0, 2], pop_polygon, \"Polygon - placer (delta_in=2, delta_trace=10)\")\nplot_pop(axs[1, 0], pop_data, \"Circle - from data (direct y/z)\")\nplot_pop(axs[1, 1], pop_packing, \"Circle - packing (fit_to_size=True, n_iter=17000)\")\nplot_pop(axs[1, 2], pop_fvf, \"Circle - generate\")\n\nplt.show()"
      ]
    }
  ],
  "metadata": {
    "kernelspec": {
      "display_name": "Python 3",
      "language": "python",
      "name": "python3"
    },
    "language_info": {
      "codemirror_mode": {
        "name": "ipython",
        "version": 3
      },
      "file_extension": ".py",
      "mimetype": "text/x-python",
      "name": "python",
      "nbconvert_exporter": "python",
      "pygments_lexer": "ipython3",
      "version": "3.12.10"
    }
  },
  "nbformat": 4,
  "nbformat_minor": 0
}