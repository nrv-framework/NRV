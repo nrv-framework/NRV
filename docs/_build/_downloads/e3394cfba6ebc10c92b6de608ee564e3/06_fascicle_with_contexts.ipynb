{
  "cells": [
    {
      "cell_type": "markdown",
      "metadata": {},
      "source": [
        "\n# Generate a fascicle with all contexts\n\n\nThis example shows how to easily generate and save a fascicle with the\nfollowing contexts:\n\n-  **Intracellular context**: A current attached to all axons at $x=0$.\n-  **Recording context** : An analytical recorder is added with three recording points located at $x\\in\\{\\frac{L}{4}, \\frac{L}{2}, \\frac{3L}{4}\\}$, $y=0$, $z=100$.\n-  **Extracellular context**: A LIFE electrode is added to the centre of the fascicle $x=\\frac{L}{2}$, $y=0$, $z=0$.\n\nThis example can be used as a model to generate all sorts of fascicles\nwith a customised context. For instance, it is used to generate the\nsimulation context for many other examples in this documentation.\n"
      ]
    },
    {
      "cell_type": "code",
      "execution_count": null,
      "metadata": {
        "collapsed": false
      },
      "outputs": [],
      "source": [
        "import nrv\n\nimport matplotlib.pyplot as plt\nimport os\n\n\n# Fascicle declaration\n# --------------------\n\n# The first step before generating a fascicle is to create a population of\n# axons using the ``create_axon_population`` function.\n\n# Then the fascicle can be generated and filled with the population.\n\n# *Note that the population can be saved in a* ``.pop`` *or a* ``.ppop`` *file. This allows\n# different fascicles to be generated with the same proportions of axons\n# but with different locations.*\n\nif __name__ == '__main__':\n    n_ax = 60\n    L = 10000 \t\t\t# length, in um\n    d_f = 45\n\n    fascicle_1 = nrv.fascicle(diameter=d_f, ID=1)\n    fascicle_1.define_length(L)\n    fascicle_1.fill(n_ax=n_ax, percent_unmyel=0.7, M_stat=\"Ochoa_M\", U_stat=\"Ochoa_U\", delta=5, delta_trace=0.1, with_node_shift=True)\n\n\n    # Once the fascicle geometry is generated all the contexts can be added: \n\n    # **- The intracellular context**\n\n    position = 0.\n    t_start = 1\n    duration = 0.5\n    amplitude = 4\n    fascicle_1.insert_I_Clamp(position, t_start, duration, amplitude)\n\n\n    testrec = nrv.recorder(\"endoneurium_bhadra\")\n    testrec.set_recording_point(L/4, 0, 100)\n    testrec.set_recording_point(L/2, 0, 100)\n    testrec.set_recording_point(3*L/4, 0, 100)\n    fascicle_1.attach_extracellular_recorder(testrec)\n\n\n    # **\\- The extracellular context**\n\n    # *Note that the extracellular can have an impact one the final axon population. For instance all axons overlapping with a LIFE electrode are automatically removed.*\n\n    LIFE_stim = nrv.FEM_stimulation()\n    # Simulation box size\n    Outer_D = 5\n    LIFE_stim.reshape_outerBox(Outer_D)\n    # Nerve and fascicle geometry\n    Nerve_D = d_f * 1.5\n    LIFE_stim.reshape_nerve(Nerve_D, L)\n    LIFE_stim.reshape_fascicle(geometry=fascicle_1.geom)\n    # electrode and stimulus definition\n    D_1 = 25\n    length_1 = 1000\n    y_c_1 = 0\n    z_c_1 = 0\n    x_1_offset = (L-length_1)/2\n    elec_1 = nrv.LIFE_electrode(\"LIFE_1\", D_1, length_1, x_1_offset, y_c_1, z_c_1)\n    # stimulus def\n    start = 1\n    I_cathod = 40\n    I_anod = I_cathod/5\n    T_cathod = 60e-3\n    T_inter = 40e-3\n    stim1 = nrv.stimulus()\n    stim1.biphasic_pulse(start, I_cathod, T_cathod, I_anod, T_inter)\n    LIFE_stim.add_electrode(elec_1, stim1)\n    fascicle_1.attach_extracellular_stimulation(LIFE_stim)\n\n    # Save/Load Fascicle\n    # ------------------\n\n    # As the ``fascicle``-class inherits from ``NRVClass``, the save and load methods can be used to generate a python dictionary or save the properties of the fascicle (see `usersguide`). \n\n    # As for all ``simulable``-class instances, contexts are not saved and loaded by default. One need specifies which context to save and load using boolean arguments ``extracel_context``,``intracel_context``, ``rec_context``.\n\n\n    # ;\n    # - *Because fascicles can take a long time to generate, the `fascicle` class is one of the few classes in NRV for which save saves automatically (without specifying `save=True` in the argument). If note is specified, the fascicle will be saved in the current directory in `fascicle.json`*.\n    # - *The footprint of the electrodes on the axon can be generated before saving using `compute_electrodes_footprints`. This can increase the file size but also significantly reduce the computation time of the loaded fascicle simulation*.\n    # </div>\n\n    # .. Warning::\n    # - *Some fascicle parameters (length, diameter, ...) cannot be modified if footprints are calculated*.\n\n    fas_dict = fascicle_1.save(save=False,extracel_context=True,intracel_context=True, rec_context=True)\n    #fascicle_2 = nrv.fascicle()\n    fascicle_2 = nrv.load_any(fas_dict,extracel_context=True,intracel_context=True, rec_context=True)\n\n    fig, ax = plt.subplots(1, 2, figsize=(14,6))\n    fascicle_1.plot(ax[0], num=True)\n    ax[0].set_title(\"Fascicle saved\")\n    fascicle_2.plot(ax[1], num=True)\n    ax[1].set_title(\"Fascicle loaded\")\n\n    plt.show()"
      ]
    }
  ],
  "metadata": {
    "kernelspec": {
      "display_name": "Python 3",
      "language": "python",
      "name": "python3"
    },
    "language_info": {
      "codemirror_mode": {
        "name": "ipython",
        "version": 3
      },
      "file_extension": ".py",
      "mimetype": "text/x-python",
      "name": "python",
      "nbconvert_exporter": "python",
      "pygments_lexer": "ipython3",
      "version": "3.12.10"
    }
  },
  "nbformat": 4,
  "nbformat_minor": 0
}