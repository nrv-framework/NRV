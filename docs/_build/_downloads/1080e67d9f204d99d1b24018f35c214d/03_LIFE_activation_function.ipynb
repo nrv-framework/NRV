{
  "cells": [
    {
      "cell_type": "markdown",
      "metadata": {},
      "source": [
        "\n# Activation function for a LIFE\n\nThis script investigates the activation function for a longitudinal intrafascicular electrode (LIFE). It is similar to the previous example but include geometrical consideration, and computations are evaluated with the FEM solver in background (transparent for user).\n"
      ]
    },
    {
      "cell_type": "code",
      "execution_count": null,
      "metadata": {
        "collapsed": false
      },
      "outputs": [],
      "source": [
        "import numpy as np\nimport matplotlib.pyplot as plt\nfrom scipy import signal\nimport nrv\n\nnrv.parameters.set_nrv_verbosity(2)\n\nd_elect_list = [100,200]\nLIFE_length_list = [100,1000]\n\ndef move_mean(A, N):\n    A = signal.savgol_filter(A, N, 3)\n    #A = np.convolve(A, np.ones(N)/N, mode='valid')\n    return A\n\ndef derivate(A, n_order, N=99):\n    for _ in range(n_order):\n        A = np.diff(A)\n        A = move_mean(A, N)\n    return A\n\nif __name__ == '__main__':\n    #dummy stimulus def\n    start = 1\n    I_cathod = 500\n    I_anod = I_cathod/5\n    T_cathod = 60e-3\n    T_inter = 40e-3\n    stim1 = nrv.stimulus()\n    stim1.biphasic_pulse(start, I_cathod, T_cathod, I_anod, T_inter)\n\n    #nerve\n    L = 10000\n    Nerve_D = 1500\n    Fascicle_D = 1000\n    Outer_D = 6\n\n    ##### electrodes\n    D_1 = 25\n    y_c_1 = 0\n    z_c_1 = 0\n\n    ##### compute footprints\n    x_ftp = np.linspace(0,L,num=1000)\n\n    plt.figure()\n\n    for d_elect in d_elect_list:\n        for length_1 in LIFE_length_list:\n\n            ##### extracellular context\n            test_stim = nrv.FEM_stimulation()\n            test_stim.reshape_outerBox(Outer_D)\n            test_stim.reshape_nerve(Nerve_D, L)\n            test_stim.reshape_fascicle(Fascicle_D)\n            x_1_offset = L/2 - (length_1/2)\n            elec_1 = nrv.LIFE_electrode('LIFE', D_1, length_1, x_1_offset, d_elect, z_c_1)\n            test_stim.add_electrode(elec_1, stim1)\n\n            test_stim.compute_electrodes_footprints(x_ftp, y=0, z=0, ID=0)\n            ftp = elec_1.footprint\n            acti_function = derivate(ftp, 2)\n            acti_function = acti_function/np.max(acti_function)\n\n            x_plot = np.linspace(0,L, len(acti_function))\n            plt.plot(x_plot, acti_function, label=f'd={d_elect}\u00b5m - l={length_1}\u00b5m')\n\n\n            del elec_1,test_stim\n\n    plt.ylabel(r'Activation Function ($\\Delta^2V_e$)')\n    plt.xlabel('x-axis (\u00b5m)')\n    plt.legend()\n    plt.title('Activation function of LIFE for different geometries')\n\n    plt.show()"
      ]
    }
  ],
  "metadata": {
    "kernelspec": {
      "display_name": "Python 3",
      "language": "python",
      "name": "python3"
    },
    "language_info": {
      "codemirror_mode": {
        "name": "ipython",
        "version": 3
      },
      "file_extension": ".py",
      "mimetype": "text/x-python",
      "name": "python",
      "nbconvert_exporter": "python",
      "pygments_lexer": "ipython3",
      "version": "3.12.10"
    }
  },
  "nbformat": 4,
  "nbformat_minor": 0
}