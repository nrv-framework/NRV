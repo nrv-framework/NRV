{
  "cells": [
    {
      "cell_type": "markdown",
      "metadata": {},
      "source": [
        "\n# Activation thresholds with LIFE and cuff-like electrodes\n\nThis script evaluates the activation threshold of myelinated fibers when stimulated with a cuff electrode and with a LIFE\n"
      ]
    },
    {
      "cell_type": "code",
      "execution_count": null,
      "metadata": {
        "collapsed": false
      },
      "outputs": [],
      "source": [
        "import nrv\nimport matplotlib.pyplot as plt\nimport numpy as np\n\nimport nrv\nimport matplotlib.pyplot as plt\nimport numpy as np\n\nnrv.parameters.set_nrv_verbosity(2)\n\n#Update function for the binary search\ndef cathodic_pulse_update(axon,amp, pw, elec_id = 0, start_p = 1):\n    stim = nrv.stimulus()\n    stim.pulse(start_p,-amp,pw)\n    axon.change_stimulus_from_electrode(elec_id, stim)\n\n\nif __name__ == '__main__':\n\n    #Stimulus definition \n    t_inter = 0\n    cath_an_ratio = 0\n    anod_first = False\n    pw = 50e-3          #stimulation PW is 50\u00b5s\n\n    #binary search parameters\n    amp_max = 600                   #maximum stimulation amplitude, in \u00b5s \n    amp_tol = 5                     #binary search tolerance, in %\n\n    #Axon ranges from 1\u00b5m to 20\u00b5m\n    d_min = 2\n    d_max = 20\n    n_diam = 10\n    diam_list = np.round(np.linspace(d_min,d_max,num=n_diam))\n    model= 'MRG'\n    n_node = 20     #20 Node of Ranvier for each axon\n\n    # axon location\n    z_axon = 0\t  # axon z position, in [um]\n    y_axon = 100  # axon z position, in [um]\n\n    ##### electrodes definition\n    contact_width=500\n    contact_thickness=100\n    insulator_width=1000\n    insulator_thickness=500\n\n    ### Simulation box size\n    Outer_D = 6     # in in [mm]\n\n    #### Nerve and fascicle geometry\n    Nerve_D = 1000      # in [um]\n    fasc_geom = nrv.create_cshape(diameter=800)    # in [um]\n    perineurium_thickeness = 25 # in [um]\n\n\n    #dummy useless stimulus\n    start = 1\n    I_cathod = 10\n    I_anod = 0\n    T_cathod = pw\n    T_inter = t_inter\n    stim1 = nrv.stimulus()\n    stim1.biphasic_pulse(start, I_cathod, T_cathod, I_anod, T_inter)\n\n    thr_cuff =  []\n    for diam in diam_list:\n\n        L=nrv.get_length_from_nodes(diam,n_node)\n\n        print(f\"CUFF - PW = {int(pw*1e3)}us - D_axon {diam}um\")\n\n        #set the FEM parameters\n        extra_stim = nrv.FEM_stimulation()\n        extra_stim.reshape_outerBox(Outer_D)\n        extra_stim.reshape_nerve(Nerve_D, L)\n        extra_stim.reshape_fascicle(fasc_geom)\n\n        #axon creation\n        axon1 = nrv.myelinated(y_axon,z_axon,diam,L,rec='nodes',model=model) \n        n_node = len(axon1.x_nodes)\n        x_elec = axon1.x_nodes[(n_node//2)]\t# electrode x position, in [um]\n\n        elec_1 = nrv.CUFF_electrode('CUFF_1', contact_length=contact_width,\\\n            contact_thickness=contact_thickness, insulator_length=insulator_width,\\\n            insulator_thickness=insulator_thickness, x_center=x_elec)\n\n        # extracellular stimulation setup\n        extra_stim.add_electrode(elec_1, stim1)\n        axon1.attach_extracellular_stimulation(extra_stim)\n\n        axon1.get_electrodes_footprints_on_axon()\n        \n        start_p = 1\n        arg_stim = {'pw':pw, 'elec_id':0, 'start_p':start_p} #parameters for the waveforms\n        new_thr = nrv.axon_AP_threshold(axon = axon1,amp_max = amp_max,\n                                            update_func = cathodic_pulse_update, args_update=arg_stim)\n        \n        print(f\"Threshold: {np.round(new_thr,1)}\u00b5A\")\n        thr_cuff.append(new_thr)\n        del extra_stim,axon1 #to prevent meshing error (known bug)\n\n\n    #binary search parameters\n    amp_max = 150                   #maximum stimulation amplitude, in \u00b5s \n\n    #LIFE \n    LIFE_length = 1000             #electrode active site length\n    y_elect = 0\n    z_elect = 0\n    D_1 = 25                    #electrode diam\n\n    thr_LIFE =  []\n    for diam in diam_list:\n        L=nrv.get_length_from_nodes(diam,n_node)\n        print(f\"LIFE - PW = {int(pw*1e3)}us - D_axon {diam}um\")\n\n        #set the FEM parameters\n        extra_stim = nrv.FEM_stimulation()\n        extra_stim.reshape_outerBox(Outer_D)\n        extra_stim.reshape_nerve(Nerve_D, L)\n        extra_stim.reshape_fascicle(fasc_geom)\n\n        #axon creation\n        axon1 = nrv.myelinated(y_axon,z_axon,diam,L,rec='nodes',model=model) \n        n_node = len(axon1.x_nodes)\n        x_elec = axon1.x_nodes[n_node//2]\t# electrode y position, in [um]\n        y_c = 0 \n        x_1_offset = x_elec - (LIFE_length/2)\n        LIFE = nrv.LIFE_electrode('LIFE_1', D_1, LIFE_length, x_1_offset, y_elect, z_elect)\n\n        # extracellular stimulation setup\n        extra_stim.add_electrode(LIFE, stim1)\n        axon1.attach_extracellular_stimulation(extra_stim)\n        axon1.get_electrodes_footprints_on_axon()\n\n        start_p = 1\n        arg_stim = {'pw':pw, 'elec_id':0, 'start_p':start_p} #parameters for the waveforms\n        new_thr = nrv.axon_AP_threshold(axon = axon1,amp_max = amp_max,\n                                            update_func = cathodic_pulse_update, args_update=arg_stim)\n        \n        print(f\"Threshold: {np.round(new_thr,1)}\u00b5A\")\n        thr_LIFE.append(new_thr)\n        del extra_stim,axon1 #to prevent meshing error (known bug)\n\n    fig,ax = plt.subplots(1)\n    ax.semilogy(diam_list,thr_LIFE,label ='LIFE')\n    ax.semilogy(diam_list,thr_cuff,label ='cuff')\n    ax.legend()\n    ax.set_xlabel(\"Axon diameter (\u00b5m)\")\n    ax.set_ylabel(\"Activation threshold (\u00b5A)\")\n    fig.tight_layout()\n    plt.show()"
      ]
    }
  ],
  "metadata": {
    "kernelspec": {
      "display_name": "Python 3",
      "language": "python",
      "name": "python3"
    },
    "language_info": {
      "codemirror_mode": {
        "name": "ipython",
        "version": 3
      },
      "file_extension": ".py",
      "mimetype": "text/x-python",
      "name": "python",
      "nbconvert_exporter": "python",
      "pygments_lexer": "ipython3",
      "version": "3.12.10"
    }
  },
  "nbformat": 4,
  "nbformat_minor": 0
}