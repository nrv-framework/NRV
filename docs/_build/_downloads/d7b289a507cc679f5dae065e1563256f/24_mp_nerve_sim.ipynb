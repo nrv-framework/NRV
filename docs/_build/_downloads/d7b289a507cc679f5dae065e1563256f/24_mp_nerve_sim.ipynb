{
  "cells": [
    {
      "cell_type": "markdown",
      "metadata": {},
      "source": [
        "\n# Parallel Nerve Simulation\n\nPractical example illustrating how a nerve simulation can be distributed across multiple cores.\n\n.. seealso::\n    :doc:`Users' guide <../../usersguide/parallel>` --- Parallel Computation in NRV.\n"
      ]
    },
    {
      "cell_type": "code",
      "execution_count": null,
      "metadata": {
        "collapsed": false
      },
      "outputs": [],
      "source": [
        "import nrv\nimport matplotlib.pyplot as plt"
      ]
    },
    {
      "cell_type": "markdown",
      "metadata": {},
      "source": [
        "## Step 1: Define Nerve Geometry\n\n"
      ]
    },
    {
      "cell_type": "code",
      "execution_count": null,
      "metadata": {
        "collapsed": false
      },
      "outputs": [],
      "source": [
        "def create_nerve():\n    ## parameters\n    # nerve parameters\n    outer_d = 5         # in mm\n    nerve_d = 500       # in um\n    nerve_l = 5000      # in um\n    # first fascicle\n    fasc1_d = 200       # in um\n    fasc1_y = -100      # in um\n    fasc1_z = 0         # in um\n    # second fascicle\n    fasc2_d = 100       # in um\n    fasc2_y = 100       # in um\n    fasc2_z = 0         # in um\n    # stimulus\n    t_start = 0.1       #start of the pulse, in ms\n    t_pulse = 0.1       #duration of the pulse, in ms\n    amp_pulse = 60      #amplitude of the pulse, in uA \n\n    # create objects\n    nerve = nrv.nerve(length=nerve_l, diameter=nerve_d, Outer_D=outer_d)\n    fascicle_1 = nrv.fascicle(diameter=fasc1_d, ID=1)\n    fascicle_2 = nrv.fascicle(diameter=fasc2_d, ID=2)\n    nerve.add_fascicle(fascicle=fascicle_1, y=fasc1_y, z=fasc1_z)\n    nerve.add_fascicle(fascicle=fascicle_2, y=fasc2_y, z=fasc2_z)\n\n    # create axon population\n    n_ax = 100      #size of the axon population\n    fascicle_1.fill(n_ax=n_ax, percent_unmyel=0.7, M_stat=\"Ochoa_M\", U_stat=\"Ochoa_U\", delta=5)\n\n    fascicle_2.fill(n_ax=n_ax, percent_unmyel=0.7, M_stat=\"Ochoa_M\", U_stat=\"Ochoa_U\", delta=5)\n\n    ## add electrode and stimulation\n    # electrode\n    extra_stim = nrv.FEM_stimulation(endo_mat=\"endoneurium_ranck\",peri_mat=\"perineurium\", epi_mat=\"epineurium\", ext_mat=\"saline\")\n    life_d = 25                                 # LIFE diamter in um\n    life_length = 1000                          # LIFE active-site length in um\n    life_x_offset = (nerve_l-life_length)/2     # x position of the LIFE (centered)\n    life_y_c_2 = fasc2_y                        # LIFE_2 y-coordinate (in um)\n    life_z_c_2 = fasc2_z                        # LIFE_1 z-coordinate (in um)\n    elec_2 = nrv.LIFE_electrode(\"LIFE_2\", life_d, life_length, life_x_offset, life_y_c_2, life_z_c_2) # LIFE in the fascicle 2\n    # stimulus\n    pulse_stim = nrv.stimulus()\n    pulse_stim.pulse(t_start, -amp_pulse, t_pulse)      #cathodic\n    #Attach electrodes to the extra_stim object \n    extra_stim.add_electrode(elec_2, pulse_stim)\n    nerve.attach_extracellular_stimulation(extra_stim)\n    fig, ax = plt.subplots(1, 1, figsize=(6,6))\n    nerve.plot(ax)\n    ax.set_xlabel(\"z-axis (\u00b5m)\")\n    ax.set_ylabel(\"y-axis (\u00b5m)\")\n    plt.close(fig)\n    return nerve"
      ]
    },
    {
      "cell_type": "markdown",
      "metadata": {},
      "source": [
        "## Step 2: Simulate the Nerve\n\nThis is computationally intensive,\nso we can use multiple processes\n\n"
      ]
    },
    {
      "cell_type": "code",
      "execution_count": null,
      "metadata": {
        "collapsed": false
      },
      "outputs": [],
      "source": [
        "def simulate_nerve(nerve, nproc=4):\n    nrv.parameters.set_nmod_ncore(nproc)\n    results = nerve(t_sim=3,postproc_script=\"is_recruited\")\n    return results"
      ]
    },
    {
      "cell_type": "markdown",
      "metadata": {},
      "source": [
        "## Step 3: Post-process Results\nThis is not compultationally intensive,\nso we can use only on processes\n\n"
      ]
    },
    {
      "cell_type": "code",
      "execution_count": null,
      "metadata": {
        "collapsed": false
      },
      "outputs": [],
      "source": [
        "def prostprocessing(results):\n    fig, ax = plt.subplots(1, 1, figsize=(6,6))\n    results.plot_recruited_fibers(ax)\n    ax.set_xlabel(\"z-axis (\u00b5m)\")\n    ax.set_ylabel(\"y-axis (\u00b5m)\")"
      ]
    },
    {
      "cell_type": "markdown",
      "metadata": {},
      "source": [
        "## Main Execution Script\n\n"
      ]
    },
    {
      "cell_type": "code",
      "execution_count": null,
      "metadata": {
        "collapsed": false
      },
      "outputs": [],
      "source": [
        "if __name__ == \"__main__\":\n\n    sim_nerve = create_nerve()\n    results = simulate_nerve(sim_nerve, nproc=4)\n    prostprocessing(results)"
      ]
    }
  ],
  "metadata": {
    "kernelspec": {
      "display_name": "Python 3",
      "language": "python",
      "name": "python3"
    },
    "language_info": {
      "codemirror_mode": {
        "name": "ipython",
        "version": 3
      },
      "file_extension": ".py",
      "mimetype": "text/x-python",
      "name": "python",
      "nbconvert_exporter": "python",
      "pygments_lexer": "ipython3",
      "version": "3.12.10"
    }
  },
  "nbformat": 4,
  "nbformat_minor": 0
}