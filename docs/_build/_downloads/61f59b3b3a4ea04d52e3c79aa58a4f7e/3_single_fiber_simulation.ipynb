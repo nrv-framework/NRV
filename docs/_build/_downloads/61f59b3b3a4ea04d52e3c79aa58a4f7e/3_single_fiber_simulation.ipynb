{
  "cells": [
    {
      "cell_type": "markdown",
      "metadata": {},
      "source": [
        "\n# Tutorial 3 - Stimulating single fibers with NRV\n\nIn this tutorial, we will create a monofascicular nerve, attach it to one fiber and stimulate it with intra- and extra-fascicular electrodes.\nAs before, we start by importing the NRV package as well as numpy and matplotlib:\n"
      ]
    },
    {
      "cell_type": "code",
      "execution_count": null,
      "metadata": {
        "collapsed": false
      },
      "outputs": [],
      "source": [
        "import numpy as np\nimport matplotlib.pyplot as plt\nimport nrv"
      ]
    },
    {
      "cell_type": "markdown",
      "metadata": {},
      "source": [
        "Axon definition\nLet's start by creating a 10\u00b5m myelinated axon, similarly to previous tutorials:\n\n"
      ]
    },
    {
      "cell_type": "code",
      "execution_count": null,
      "metadata": {
        "collapsed": false
      },
      "outputs": [],
      "source": [
        "y_a = 0                                                                     #axon y position, in [\u00b5m]\nz_a = 0                                                                     #axon z position, in [\u00b5m]\nd_a = 10                                                                    #axon diameter position, in [\u00b5m]\nn_NoR = 20                                                                  #number of Node-of-Ranvier\nL_a = nrv.get_length_from_nodes(d_a, n_NoR)                                 #Get the axon length from number of NoR\naxon_m = nrv.myelinated(y_a, z_a, d_a, L_a, model=\"MRG\", rec=\"all\")        #we recording all (not NoD only)"
      ]
    },
    {
      "cell_type": "markdown",
      "metadata": {},
      "source": [
        "## Extracellular context Creation\n\nWe now need to create the extracellular context of our model, which consists in the nerve and electrode geometry, as well as defining the material properties. Extracellular context instances are created with the ```FEM_stimulation```-class. We can also specify the endoneurium conductivity. Here we will use ```endoneurium_ranck```, and the default value for the other materials.\n\n"
      ]
    },
    {
      "cell_type": "code",
      "execution_count": null,
      "metadata": {
        "collapsed": false
      },
      "outputs": [],
      "source": [
        "extra_stim = nrv.FEM_stimulation(endo_mat='endoneurium_ranck')"
      ]
    },
    {
      "cell_type": "markdown",
      "metadata": {},
      "source": [
        "We can set the diameter of our nerves to 1500\u00b5m and length slighly longer than the axon length (to facilitate FEM computation):\n\n"
      ]
    },
    {
      "cell_type": "code",
      "execution_count": null,
      "metadata": {
        "collapsed": false
      },
      "outputs": [],
      "source": [
        "d_n = 1500   #in um\nextra_stim.reshape_nerve(d_n,L_a*1.2)"
      ]
    },
    {
      "cell_type": "markdown",
      "metadata": {},
      "source": [
        "Let's also set the diameter of the saline outer box to 5mm: \n\n"
      ]
    },
    {
      "cell_type": "code",
      "execution_count": null,
      "metadata": {
        "collapsed": false
      },
      "outputs": [],
      "source": [
        "d_outbox= 5        #in mm\nextra_stim.reshape_outerBox(d_outbox)"
      ]
    },
    {
      "cell_type": "markdown",
      "metadata": {},
      "source": [
        "And add a 1000\u00b5m circular fascicle in the nerves, that is co-centric to the nerve:\n\n"
      ]
    },
    {
      "cell_type": "code",
      "execution_count": null,
      "metadata": {
        "collapsed": false
      },
      "outputs": [],
      "source": [
        "geom_f = nrv.create_cshape(center=(0,0), diameter=1000)\nextra_stim.reshape_fascicle(geometry=geom_f)"
      ]
    },
    {
      "cell_type": "markdown",
      "metadata": {},
      "source": [
        "Finally, we add the electrodes to our FEM models. Let's start by creating a 1000\u00b5m in length, 25\u00b5m in diameter LIFE electrode. The central point of the LIFE active-site is aligned with the 10th node-of-ranvier of our fiber, and located 100\u00b5m away (on the z-axis) from the fiber:\n\n"
      ]
    },
    {
      "cell_type": "code",
      "execution_count": null,
      "metadata": {
        "collapsed": false
      },
      "outputs": [],
      "source": [
        "LIFE_d = 25                         # LIFE's diameter, in um\nLIFE_l = 1000                       # LIFE's active-site length, in um\nx_LIFE = axon_m.x_nodes[n_NoR//2]\t# LIFE x position, in [um]\ny_LIFE = 0                          # LIFE y position, in [um]\nz_LIFE = 100                        # LIFE z position, in [um]\nx_LIFE_offset = x_LIFE - (LIFE_l/2)\nLIFE = nrv.LIFE_electrode('LIFE_1', LIFE_d, LIFE_l, x_LIFE_offset, y_LIFE, z_LIFE)"
      ]
    },
    {
      "cell_type": "markdown",
      "metadata": {},
      "source": [
        "Similarly, we create a monopolar cuff-like electrode:\n\n"
      ]
    },
    {
      "cell_type": "code",
      "execution_count": null,
      "metadata": {
        "collapsed": false
      },
      "outputs": [],
      "source": [
        "contact_width=500               #width (length) of the cuff active-site, in um\ncontact_thickness=100           #tickness of the cuff active-site, in um\ninsulator_width=1000            #width (length) of the cuff insulator, in um\ninsulator_thickness=500         #tickness of the cuff insulator, in um\n\nx_cuff = axon_m.x_nodes[n_NoR//2] # cuff z position, in [um]\ncuff = nrv.CUFF_electrode('CUFF_1', contact_length=contact_width,\n        contact_thickness=contact_thickness, insulator_length=insulator_width,\n        insulator_thickness=insulator_thickness, x_center=x_cuff)"
      ]
    },
    {
      "cell_type": "markdown",
      "metadata": {},
      "source": [
        "Before linking our electrodes to their FEM models, we need to setup a stimulus. For that, we create a very basic monophasic cathodic 50\u00b5s/50\u00b5A pulse:\n\n"
      ]
    },
    {
      "cell_type": "code",
      "execution_count": null,
      "metadata": {
        "collapsed": false
      },
      "outputs": [],
      "source": [
        "start = 0.5             #start of the pulse, in ms\nI_pulse = 50            #pulse amplitude, in \u00b5A\nT_pulse = 50*1e-3        #pulse duration, in ms\nstim1 = nrv.stimulus()\nstim1.pulse(start,-I_pulse,T_pulse)"
      ]
    },
    {
      "cell_type": "markdown",
      "metadata": {},
      "source": [
        "We can plot the stimulus to check it, using built-in plot function of the ```stimulus```class:\n\n"
      ]
    },
    {
      "cell_type": "code",
      "execution_count": null,
      "metadata": {
        "collapsed": false
      },
      "outputs": [],
      "source": [
        "fig, ax = plt.subplots(1, 1, figsize=(6,6))\nstim1.plot(ax)\nax.set_xlabel(\"time (ms)\")\nax.set_ylabel(\"amplitude (\u00b5A)\")"
      ]
    },
    {
      "cell_type": "markdown",
      "metadata": {},
      "source": [
        "We will also create a dummy stimulus, that we will apply to the electrode we don't want to use\n\n"
      ]
    },
    {
      "cell_type": "code",
      "execution_count": null,
      "metadata": {
        "collapsed": false
      },
      "outputs": [],
      "source": [
        "I_pulse_dum = 0.1           #pulse amplitude, in \u00b5A\nT_pulse_dum = 1\ndummy_stim = nrv.stimulus()\ndummy_stim.pulse(start,-I_pulse_dum,T_pulse_dum)"
      ]
    },
    {
      "cell_type": "markdown",
      "metadata": {},
      "source": [
        "Electrodes can be simply linked the FEM model by using the ```add_electrode```-method of the ```FEM_stimulation```-object, which combine an ```electrode```-object to a ```stimulus```-object and attach it to the FEM model:\n\n"
      ]
    },
    {
      "cell_type": "code",
      "execution_count": null,
      "metadata": {
        "collapsed": false
      },
      "outputs": [],
      "source": [
        "extra_stim.add_electrode(LIFE, stim1)           #ID = 0\nextra_stim.add_electrode(cuff, dummy_stim)      #not stim on the cuff - ID = 1"
      ]
    },
    {
      "cell_type": "markdown",
      "metadata": {},
      "source": [
        "ID of electrode is incremented as we add them to the ``extra_stim``: here the ID for the LIFE is 0 and 1 for the cuff electrode. Let's write it to variable, so we don't mix them later!\n\n"
      ]
    },
    {
      "cell_type": "code",
      "execution_count": null,
      "metadata": {
        "collapsed": false
      },
      "outputs": [],
      "source": [
        "ID_LIFE = 0\nID_cuff = 1"
      ]
    },
    {
      "cell_type": "markdown",
      "metadata": {},
      "source": [
        "## Connecting the FEM model to the axon and simulating it:\n\nNow it is time to attach the extracellular context to our axon. It can be simply be done with the ``attach_extracellular_stimulation``:\n\n"
      ]
    },
    {
      "cell_type": "code",
      "execution_count": null,
      "metadata": {
        "collapsed": false
      },
      "outputs": [],
      "source": [
        "axon_m.attach_extracellular_stimulation(extra_stim)"
      ]
    },
    {
      "cell_type": "markdown",
      "metadata": {},
      "source": [
        "And simulate it and save the results:\n\n"
      ]
    },
    {
      "cell_type": "code",
      "execution_count": null,
      "metadata": {
        "collapsed": false
      },
      "outputs": [],
      "source": [
        "res_LIFE = axon_m(t_sim=3) #3ms simulation"
      ]
    },
    {
      "cell_type": "markdown",
      "metadata": {},
      "source": [
        "We can plot the axon's membrane voltage across time and space with a colormap:\n\n"
      ]
    },
    {
      "cell_type": "code",
      "execution_count": null,
      "metadata": {
        "collapsed": false
      },
      "outputs": [],
      "source": [
        "fig, ax = plt.subplots(1)\ncbar = res_LIFE.colormap_plot(ax, \"V_mem\")\nax.set_xlabel('Time (ms)')\nax.set_ylabel(\"Fiber's x-axis position (\u00b5m)\")\ncbar.set_label(r'Membrane Voltage $V_{mem}$ (mV)')\nfig.tight_layout()"
      ]
    },
    {
      "cell_type": "markdown",
      "metadata": {},
      "source": [
        "We clearly see that the stimulation generated an action potential in the axon! We can automatically detect it with the ``is_recruited`` method of the ``axon_result`` class, which returns true if an AP is detected in the axon:\n\n"
      ]
    },
    {
      "cell_type": "code",
      "execution_count": null,
      "metadata": {
        "collapsed": false
      },
      "outputs": [],
      "source": [
        "res_LIFE.is_recruited()"
      ]
    },
    {
      "cell_type": "markdown",
      "metadata": {},
      "source": [
        "Now let's put the ``dummy_stim`` to the LIFE electrode, and re-run the simulation:\n\n"
      ]
    },
    {
      "cell_type": "code",
      "execution_count": null,
      "metadata": {
        "collapsed": false
      },
      "outputs": [],
      "source": [
        "axon_m.change_stimulus_from_electrode(ID_LIFE,dummy_stim)\naxon_m.change_stimulus_from_electrode(1,dummy_stim)\nres_LIFE = axon_m(t_sim=3) \nres_LIFE.is_recruited()"
      ]
    },
    {
      "cell_type": "markdown",
      "metadata": {},
      "source": [
        "As expected, no axon is detected as the axon is not being stimulated! We also observe that the simulation was much faster. Indeed, as long as we do not change the geometrical properties of the model, we do not need to re-run the FEM solver again. \nLet's plot the axon's voltage membrane to verify the statement of the ``is_recruited`` method:\n\n"
      ]
    },
    {
      "cell_type": "code",
      "execution_count": null,
      "metadata": {
        "collapsed": false
      },
      "outputs": [],
      "source": [
        "fig, ax = plt.subplots(1)\ncbar = res_LIFE.colormap_plot(ax, \"V_mem\")\nax.set_xlabel('Time (ms)')\nax.set_ylabel(\"Fiber's x-axis position (\u00b5m)\")\ncbar.set_label(r'Membrane Voltage $V_{mem}$ (mV)')\nfig.tight_layout()"
      ]
    },
    {
      "cell_type": "markdown",
      "metadata": {},
      "source": [
        "And indeed we only see the artifact from the dummy stimulus on the membrane's voltage. Now let's stimulate with the cuff electrode:\n\n"
      ]
    },
    {
      "cell_type": "code",
      "execution_count": null,
      "metadata": {
        "collapsed": false
      },
      "outputs": [],
      "source": [
        "axon_m.change_stimulus_from_electrode(ID_cuff,stim1)\nres_cuff = axon_m(t_sim=3) \nres_cuff.is_recruited()"
      ]
    },
    {
      "cell_type": "markdown",
      "metadata": {},
      "source": [
        "The axon is not recruited with a 50\u00b5s/50\u00b5A delivered through the cuff. Let's multiply the stimulation current by four:\n\n"
      ]
    },
    {
      "cell_type": "code",
      "execution_count": null,
      "metadata": {
        "collapsed": false
      },
      "outputs": [],
      "source": [
        "axon_m.change_stimulus_from_electrode(ID_cuff,stim1*4)\nres_cuff = axon_m(t_sim=3) \nres_cuff.is_recruited()"
      ]
    },
    {
      "cell_type": "markdown",
      "metadata": {},
      "source": [
        "## Stimulation threshold curves\n\nThe minimum current required to recruit a fiber is called the activation threshold. This threshold depends upon the type of electrode, the nerve geometry, the axon-to-electrode distance, the shape of the stimulation, the type and diameter of axon, etc. This section describes how to easily find the stimulation threshold of an axon, with a defined extracellular context. For that, we can use the ``axon_AP_threshold`` function from NRV.\nFirst, let's put back the ``dummy_sim`` on both electrodes:\n\n"
      ]
    },
    {
      "cell_type": "code",
      "execution_count": null,
      "metadata": {
        "collapsed": false
      },
      "outputs": [],
      "source": [
        "axon_m.change_stimulus_from_electrode(ID_cuff,dummy_stim)\naxon_m.change_stimulus_from_electrode(ID_LIFE,dummy_stim)"
      ]
    },
    {
      "cell_type": "markdown",
      "metadata": {},
      "source": [
        "The ``axon_AP_threshold``function uses an iterative approach based on a binary search method to approximate the activation threshold of an AP. To be as generic as possible, the function is implemented in a way that the user must provide a ``update_func`` that is called between each iteration. The ``update_func`` function updates the stimulation parameters of the axon with the new tested stimulation amplitude. This approach gives enough flexibility to the user to decide of the stimulus shape, number etc. The provided ``update_func`` function must at least have two parameters in this order: ``axon`` which is the nrv's ``axon``-object to update, and ``amp`` which is the new stimulation amplitude. Any other arguments to ``update_func`` can be specified in a dict and pass to ``axon_AP_threshold`` through the ``args_update`` parameters.\n\n\nIn this tutorial, we use an update function to estimate threshold from stimulating with a simple cathodic pulse:\n\n"
      ]
    },
    {
      "cell_type": "code",
      "execution_count": null,
      "metadata": {
        "collapsed": false
      },
      "outputs": [],
      "source": [
        "def cathodic_pulse_update(axon,amp, pw, elec_id, start_p = 1):\n    stim_1 = nrv.stimulus()\n    stim_1.pulse(start_p,-amp,pw)\n    axon.change_stimulus_from_electrode(elec_id, stim_1)\n\n\n#parameters for the waveforms\narg_stim = {'pw':50e-3, 'elec_id':ID_LIFE, 'start_p':start}\n\nmax_amp = 300 #maximum search boundary\n\nthr_LIFE = nrv.axon_AP_threshold(axon = axon_m,amp_max = max_amp,\n                                        update_func = cathodic_pulse_update, args_update=arg_stim)\n\nprint(f'LIFE threshold: {np.round(thr_LIFE,1)}\u00b5A')"
      ]
    },
    {
      "cell_type": "markdown",
      "metadata": {},
      "source": [
        "Let's do the same thing but with the cuff electrode:\n\n"
      ]
    },
    {
      "cell_type": "code",
      "execution_count": null,
      "metadata": {
        "collapsed": false
      },
      "outputs": [],
      "source": [
        "axon_m.change_stimulus_from_electrode(ID_LIFE,dummy_stim)   #so LIFE is not stimulating\n\narg_stim = {'pw':50e-3, 'elec_id':ID_cuff, 'start_p':start}\nthr_cuff = nrv.axon_AP_threshold(axon = axon_m,amp_max = max_amp,\n                                        update_func = cathodic_pulse_update, args_update=arg_stim)\n\nprint(f'cuff threshold: {np.round(thr_cuff,1)}\u00b5A')"
      ]
    },
    {
      "cell_type": "markdown",
      "metadata": {},
      "source": [
        "The threshold of LIFE and cuff matches what we observed previously: cuff electrode requires a much higher current than a LIFE to activate a fiber. This result makes sens as extrafascicular electrodes have generally a greater electrode-to-axon distance than intrasfascicular one. \n\nLet's use the ``axon_AP_threshold`` function to plot threshold vs axon diameter curve, for both when the axon is stimulated with a LIFE and a cuff. Let's start with the LIFE (takes several minutes to run):\n\n"
      ]
    },
    {
      "cell_type": "code",
      "execution_count": null,
      "metadata": {
        "collapsed": false
      },
      "outputs": [],
      "source": [
        "if 'extra_stim' in locals():        #Delete extra_stim and axon_m if variable exist (known bug)\n    del extra_stim, axon_m   \n\naxon_d_l = [2,4,6,8,10,12,14,16,18,20]        #axon diameter list, in \u00b5m\nLIFE_thr_l = []                               #list of results\nn_NoR = 31                                     #increase NoR so small axons are not too short\nnrv.parameters.set_nrv_verbosity(i=2)\n\nfor axon_d in axon_d_l:\n\n    #we create a new axon\n    L_a = nrv.get_length_from_nodes(axon_d, n_NoR)                              \n    new_axon = nrv.myelinated(y=y_a, z=z_a, d=axon_d, L=L_a, model='MRG', rec='nodes')\n\n    #we create a corresponding extracellular context\n    extra_stim_f = nrv.FEM_stimulation(endo_mat='endoneurium_ranck')\n    extra_stim_f.reshape_nerve(d_n,L_a)\n    extra_stim_f.reshape_outerBox(d_outbox)\n    extra_stim_f.reshape_fascicle(geometry=geom_f)\n\n    #same for the LIFE\n    x_LIFE = new_axon.x_nodes[n_NoR//2]\t# LIFE x position, in [um]\n    x_LIFE_offset = x_LIFE - (LIFE_l/2)\n    new_LIFE = nrv.LIFE_electrode('LIFE_1', LIFE_d, LIFE_l, x_LIFE_offset, y_LIFE, z_LIFE)\n    extra_stim_f.add_electrode(new_LIFE, dummy_stim)  #ID = 0\n\n    #link the extrastim with the axon: \n    new_axon.attach_extracellular_stimulation(extra_stim_f)\n    new_axon.get_electrodes_footprints_on_axon()\n\n    #parameters for the waveforms\n    max_amp = 150 #maximum search boundary\n    arg_stim = {'pw':50e-3, 'elec_id':0, 'start_p':start}\n    thr_LIFE = nrv.axon_AP_threshold(axon = new_axon,amp_max = max_amp,\n                                            update_func = cathodic_pulse_update, args_update=arg_stim)\n    del extra_stim_f, new_axon                       #to prevent meshing error (known bug)\n\n    print(f'LIFE threshold: {np.round(thr_LIFE,1)}\u00b5A (axon_d = {axon_d}\u00b5m)')                        \n    LIFE_thr_l.append(thr_LIFE)"
      ]
    },
    {
      "cell_type": "markdown",
      "metadata": {},
      "source": [
        "Lets to the same curve but with a cuff electrode this time. To speed up the computation, we will use parallel computation to speed up the process. For this specific case of threshold's search, we can use the NRV's built-in function ``search_threshold_dispatcher``. This function needs as parameters a function ``process_threshold`` to call, and a list of parameters for which the ``process_threshold`` function will be called in parallel. Let's write the ``process_threshold`` function for our example:\n\n.. Warning::\n\n    The funtion ``search_threshold_dispatcher`` does not work correctly in Jupyter Notebooks. \n\n.. tip::\n\n    To speed up the process, in a `.py` file:\n```python\ncuff_thr_l = []\nfor _i, _d in enumerate(axon_d_l):\n    print(f\"{_i}/{len(axon_d_l)}\")\n    cuff_thr_l += process_threshold(_d)\n```\n    Could be replaced by:\n\n```python\nncore = 4\ncuff_thr_l = nrv.search_threshold_dispatcher(process_threshold,axon_d_l, ncore=ncore)\n```\n"
      ]
    },
    {
      "cell_type": "code",
      "execution_count": null,
      "metadata": {
        "collapsed": false
      },
      "outputs": [],
      "source": [
        "def process_threshold(axon_d):\n    #we create a new axon\n    L_a = nrv.get_length_from_nodes(axon_d, n_NoR)                              \n    new_axon = nrv.myelinated(y=y_a, z=z_a, d=axon_d, L=L_a, model='MRG', rec='nodes')\n\n    #we create a corresponding extracellular context\n    extra_stim_f = nrv.FEM_stimulation(endo_mat='endoneurium_ranck')\n    extra_stim_f.reshape_nerve(d_n,L_a)\n    extra_stim_f.reshape_outerBox(d_outbox)\n    extra_stim_f.reshape_fascicle(geometry=geom_f)\n\n    #same for the LIFE\n    x_cuff = new_axon.x_nodes[n_NoR//2] # cuff z position, in [um]\n    new_cuff = nrv.CUFF_electrode('CUFF_1', contact_length=contact_width,\n            contact_thickness=contact_thickness, insulator_length=insulator_width,\n            insulator_thickness=insulator_thickness, x_center=x_cuff)\n    extra_stim_f.add_electrode(new_cuff, dummy_stim)  #ID = 0\n\n    #link the extrastim with the axon: \n    new_axon.attach_extracellular_stimulation(extra_stim_f)\n    new_axon.get_electrodes_footprints_on_axon()\n\n    #parameters for the waveforms\n    max_amp = 1500 #maximum search boundary\n    arg_stim = {'pw':50e-3, 'elec_id':0, 'start_p':start}\n    threshold = nrv.axon_AP_threshold(axon = new_axon,amp_max = max_amp,\n                                            update_func = cathodic_pulse_update, args_update=arg_stim)\n    \n    del extra_stim_f,new_axon #to prevent meshing error (known bug)\n    return(threshold)\n\n\n# In a Notebook:\ncuff_thr_l = []\nfor _i, _d in enumerate(axon_d_l):\n    print(f\"{_i}/{len(axon_d_l)}\")\n    cuff_thr_l += [process_threshold(_d)]\n\n# In a .py file could be parallelised with\n# if __name__ == \"__main__\":\n#     ncore = 4\n#     cuff_thr_l = nrv.search_threshold_dispatcher(process_threshold,axon_d_l, ncore=ncore)"
      ]
    },
    {
      "cell_type": "markdown",
      "metadata": {},
      "source": [
        "Now we can plot the results to compare the recruitment properties of the two tested electrodes:\n\n"
      ]
    },
    {
      "cell_type": "code",
      "execution_count": null,
      "metadata": {
        "collapsed": false
      },
      "outputs": [],
      "source": [
        "fig, ax = plt.subplots()\nax.semilogy(axon_d_l,LIFE_thr_l,'o-',label = 'LIFE')\nax.semilogy(axon_d_l,cuff_thr_l,'o-',label = 'Cuff')\nax.legend()\nax.set_xlabel(\"Axon diameter (\u00b5m)\")\nax.set_ylabel(\"Axon threshold (\u00b5A)\")\nfig.tight_layout()\nplt.show()"
      ]
    }
  ],
  "metadata": {
    "kernelspec": {
      "display_name": "Python 3",
      "language": "python",
      "name": "python3"
    },
    "language_info": {
      "codemirror_mode": {
        "name": "ipython",
        "version": 3
      },
      "file_extension": ".py",
      "mimetype": "text/x-python",
      "name": "python",
      "nbconvert_exporter": "python",
      "pygments_lexer": "ipython3",
      "version": "3.12.10"
    }
  },
  "nbformat": 4,
  "nbformat_minor": 0
}