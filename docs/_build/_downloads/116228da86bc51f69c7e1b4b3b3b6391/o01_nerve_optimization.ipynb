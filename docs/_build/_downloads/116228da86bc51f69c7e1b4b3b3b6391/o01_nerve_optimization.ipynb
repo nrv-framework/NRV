{
  "cells": [
    {
      "cell_type": "markdown",
      "metadata": {},
      "source": [
        "\n# Optimization Pulse Stimulus on Nerve\n\nThis example is an extension of the Tutorial 5, the optimization formalism used in NRV is illustrated through a detailed example.\n\nThe objective of the first optimization problem is to **minimize a rectangle pulse stimulus energy required by a LIFE-electrode to trigger a single myelinated fibre**.\n\n<div class=\"alert alert-info\"><h4>Note</h4><p>This example is run with only run on a 30-fibres nerve, for a small optimization (10 PSO particles, 15 iterations). Those parameters could be increase for a more realistic problem.</p></div>\n"
      ]
    },
    {
      "cell_type": "code",
      "execution_count": null,
      "metadata": {
        "collapsed": false
      },
      "outputs": [],
      "source": [
        "import matplotlib.pyplot as plt\nimport numpy as np\nimport os\nimport nrv\n\nnp.random.seed(4444)\n\nif __name__ == '__main__':\n    # test_name = \"Example_\"\n    # dir_res = f\"./{test_name}/\"\n    # if not os.path.isdir(dir_res):\n    #     os.mkdir(dir_res)\n\n    ## Cost function definition\n    my_cost0 = nrv.cost_function()\n\n    # Static context\n    # nerve_file = dir_res + \"nerve.json\"\n\n    outer_d = 5 # mm\n    nerve_d = 300 # um\n    nerve_l = 5000 # um\n\n    fasc1_d = 250 # um\n    fasc1_y = 0\n    fasc1_z = 0\n    n_ax1 = 20\n\n\n    nerve_1 = nrv.nerve(length=nerve_l, diameter=nerve_d, Outer_D=outer_d)\n    nerve_1.verbose = False\n\n    fascicle_1 = nrv.fascicle(diameter=fasc1_d, ID=0)      #we can add diameter here / no need to call define_circular_contour (not tested)\n    fascicle_1.fill(n_ax=n_ax1, percent_unmyel=0, M_stat=\"Ochoa_M\", U_stat=\"Ochoa_U\",delta=5)\n    nerve_1.add_fascicle(fascicle=fascicle_1, y=fasc1_y, z=fasc1_z)\n\n    # LIFE in neither of the two fascicles\n    LIFE_stim0 = nrv.FEM_stimulation()\n    LIFE_stim0.reshape_nerve(Length=nerve_l)\n    life_d = 25 # um\n    life_length = 1000 # um\n    life_x_0_offset = life_length/2\n    life_y_c_0 = 0\n    life_z_c_0 = 0\n    elec_0 = nrv.LIFE_electrode(\"LIFE\", life_d, life_length, life_x_0_offset, life_y_c_0, life_z_c_0)\n\n    dummy_stim = nrv.stimulus()\n    dummy_stim.pulse(0, 0.1, 10)\n    LIFE_stim0.add_electrode(elec_0, dummy_stim)\n    nerve_1.attach_extracellular_stimulation(LIFE_stim0)\n\n    fig, ax = plt.subplots(1, 1, figsize=(6,6))\n    nerve_1.plot(ax)\n\n    nerve_1.compute_electrodes_footprints()\n    nerve_1.set_parameters(postproc_script=\"is_recruited\")\n    static_context = nerve_1.save(save=False, extracel_context=True)\n    del nerve_1\n\n\n    t_sim = 5\n    dt = 0.005\n    kwarg_sim = {\n        \"dt\":dt,\n        \"t_sim\":t_sim,\n        \"loaded_footprints\":True,\n    }\n\n    my_cost0.set_static_context(static_context, **kwarg_sim)\n\n    # Context modifier\n    t_start = 1\n    I_max_abs = 100\n\n    cm_0 = nrv.biphasic_stimulus_CM(start=t_start, s_cathod=\"0\", t_cathod=\"1\", s_anod=0)\n    my_cost0.set_context_modifier(cm_0)\n\n    # Cost evaluation\n    costR = nrv.recrutement_count_CE(reverse=True)\n    costC = nrv.stim_energy_CE()\n\n    cost_evaluation = costR + 0.01 * costC\n    my_cost0.set_cost_evaluation(cost_evaluation)\n\n\n    ## Optimizer\n    pso_kwargs = {\n        \"maxiter\" : 15,\n        \"n_particles\" : 10,\n        \"opt_type\" : \"local\",\n        \"options\": {'c1': 0.55, 'c2': 0.55, 'w': 0.75, 'k': 2, 'p': 1},\n        \"bh_strategy\": \"reflective\",\n    }\n    pso_opt = nrv.PSO_optimizer(**pso_kwargs)\n\n    ## Problem definition\n    my_prob = nrv.Problem()\n    my_prob.costfunction = my_cost0\n    my_prob.optimizer = pso_opt\n\n\n    # Optimization\n    t_end = 0.5\n    bounds0 = (\n        (0, I_max_abs),\n        (0.01, t_end),\n    )\n    pso_kwargs_pb_0 = {\n        \"dimensions\" : 2,\n        \"bounds\" : bounds0,\n        \"comment\":\"pulse\"}\n\n    res0 = my_prob(**pso_kwargs_pb_0)\n\n    res_sim = res0.compute_best_pos(my_cost0)\n\n    # Plot results on master process\n    fig_costs, axs_costs = plt.subplots(2, 1)\n\n    stim = cm_0(res0.x, static_context).extra_stim.stimuli[0]\n    stim.plot(axs_costs[0])\n    axs_costs[0].set_xlabel(\"best stimulus shape\")\n    axs_costs[0].set_xlabel(\"time (ms)\")\n    axs_costs[0].set_ylabel(\"amplitude (\u00b5A)\")\n\n    res0.plot_cost_history(axs_costs[1])\n    axs_costs[1].set_xlabel(\"optimization iteration\")\n    axs_costs[1].set_ylabel(\"cost\")\n    fig_costs.tight_layout()\n\n    fig_best, ax_best = plt.subplots(figsize=(6,6))\n    ax_best.set_title(\"recruited fibers\")\n    res_sim.plot_recruited_fibers(ax_best)\n\n    plt.show()"
      ]
    }
  ],
  "metadata": {
    "kernelspec": {
      "display_name": "Python 3",
      "language": "python",
      "name": "python3"
    },
    "language_info": {
      "codemirror_mode": {
        "name": "ipython",
        "version": 3
      },
      "file_extension": ".py",
      "mimetype": "text/x-python",
      "name": "python",
      "nbconvert_exporter": "python",
      "pygments_lexer": "ipython3",
      "version": "3.12.10"
    }
  },
  "nbformat": 4,
  "nbformat_minor": 0
}