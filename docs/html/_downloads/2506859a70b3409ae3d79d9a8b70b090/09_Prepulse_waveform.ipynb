{
  "cells": [
    {
      "cell_type": "markdown",
      "metadata": {},
      "source": [
        "\n# Prepulse waveform stimulation\n\nSubthreshold pre-pulses change the initial state of an axon membrane and thus can be used to control its excitability. Depolarizing pre-pulse generate a transient decrease in excitability (i.e. virtually increases the fiber's threshold). This script illustrates this principle\n"
      ]
    },
    {
      "cell_type": "code",
      "execution_count": null,
      "metadata": {
        "collapsed": false
      },
      "outputs": [],
      "source": [
        "import nrv\nimport numpy as np\nimport matplotlib.pyplot as plt\n\nmodel = 'MRG'\ndiam = 10\ny = 0\nz = 0\nn_node = 20\n\nt_sim = 20\nt_start = 1\nprep_d = 5\nprep_a = 15\ncoeffs = [0, 1]\nlabels = ['no prepulse', 'width prepulse']\nVm = []\ninterp_delay = 0\npw = 100e-3\namp = 48\n\nif __name__ == '__main__':\n    nseg = 1\n    material = nrv.load_material('endoneurium_bhadra')\n    L=nrv.get_length_from_nodes(diam,n_node)\n\n\n    for coeff in coeffs:\n        prepulse = nrv.stimulus()\n        prepulse.biphasic_pulse(t_start,prep_a,prep_d,0,0)\n        pulse = nrv.stimulus()\n        pulse.biphasic_pulse(t_start+interp_delay+prep_d,amp,pw,0,0)\n        stim_1 = coeff*prepulse + pulse\n\n        axon = nrv.myelinated(y,z,diam,L,rec='nodes',dt=0.005,Nseg_per_sec=nseg,model=model) \n\n        y_elec = 500\n        z_elec = 0\n        x_elec = axon.x_nodes[np.int32(n_node/2)]\t# electrode y position, in [um]\n        E1 = nrv.point_source_electrode(x_elec,y_elec,z_elec)\n\n        stim_extra = nrv.stimulation(material)\n        stim_extra.add_electrode(E1,stim_1)\n        axon.attach_extracellular_stimulation(stim_extra)\n\n        # simulate axon activity\n        results = axon.simulate(t_sim=t_sim)\n        Vm.append(results['V_mem'][10])\n        del axon\n\n    plt.figure(figsize=(8,5))\n    for i in range(len(Vm)):\n        plt.plot(results['t'], Vm[i],label=labels[i])\n    plt.ylabel(r\"$V_m (mV)$\")\n    plt.xlabel(\"Time (ms)\")\n    plt.legend()\n\n    plt.xlim(np.min(results['t']),np.max(results['t']))\n    plt.ylim(-85,27)\n    plt.tight_layout()\n    plt.show()"
      ]
    }
  ],
  "metadata": {
    "kernelspec": {
      "display_name": "Python 3",
      "language": "python",
      "name": "python3"
    },
    "language_info": {
      "codemirror_mode": {
        "name": "ipython",
        "version": 3
      },
      "file_extension": ".py",
      "mimetype": "text/x-python",
      "name": "python",
      "nbconvert_exporter": "python",
      "pygments_lexer": "ipython3",
      "version": "3.12.10"
    }
  },
  "nbformat": 4,
  "nbformat_minor": 0
}