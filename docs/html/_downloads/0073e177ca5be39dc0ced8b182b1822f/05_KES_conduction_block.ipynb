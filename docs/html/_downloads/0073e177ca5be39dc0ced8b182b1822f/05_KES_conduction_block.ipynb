{
  "cells": [
    {
      "cell_type": "markdown",
      "metadata": {},
      "source": [
        "\n# Conduction block with kHz stimulation\n\nIn this example, we use NRV to replicate some results from the in-silico study from Bhadra et al. published in 2006. This is an example of propagation block with an mylinated axon (MRG model). \n"
      ]
    },
    {
      "cell_type": "code",
      "execution_count": null,
      "metadata": {
        "collapsed": false
      },
      "outputs": [],
      "source": [
        "import nrv\nimport matplotlib.pyplot as plt\n\nif __name__ == '__main__':\n    ########################\n    ## PROBLEM DESCRITION ##\n    ########################\n\n    # Axon def\n    y = 0                                                       # Axon y position, in [um]\n    z = 0                                                       # Axon z position, in [um]\n    d = 10                                                      # Axon diameter, in [um]\n    L = nrv.get_length_from_nodes(d,51)                         # get length to have exactly 51 nodes\n\n    dt = 0.001                                                  #time step in ms\n    t_sim = 25                                                  #simulation  duration\n    axon1 = nrv.myelinated(y,z,d,L,T=37,rec='nodes',dt=dt)      #Creation of an myelinated axon object \n\n    # first test pulse\n    t_start = 0.5                                               #test pulse start in ms\n    duration = 0.1                                              #test pulse duration in ms\n    amplitude = 10                                              #test pulse amplitude in nA\n    axon1.insert_I_Clamp(0, t_start, duration, amplitude)       #attach the test pulse to the axon\n\n    # Block electrode\n    x_elec = axon1.x_nodes[25]                                  #x-elect PSA is aligned with the 25th axon's NoR\n    y_elec = 1000                                               #axon-to-PSA distance is 1000um\n    z_elec = 0                                                  #z-elec position in um\n    E = nrv.point_source_electrode(x_elec,y_elec,z_elec)        #creation of a PSA object\n\n    #creation of a sinus stimulus object\n    stim = nrv.stimulus() \n    #stimulus Block\n    block_start=3                                               #KES block start in ms\n    block_amp=700                                               #KES block amplitude in uA\n    block_freq=20                                               #KES block frequency in kHz\n    block_duration=20                                           #KES duration\n    stim.sinus(block_start, block_duration, block_amp, block_freq,dt=dt)\n\n    ### define nrv extra-cellular stimulation\n    epineurium = nrv.load_material('endoneurium_bhadra')        #set the epineurium conductivity\n    extra_stim = nrv.stimulation(epineurium)\n    extra_stim.add_electrode(E, stim)\n\n    axon1.attach_extracellular_stimulation(extra_stim) #the extracellular context is attached the axon \n\n    ################\n    ## SIMULATION ##\n    ################\n    results = axon1.simulate(t_sim=t_sim, record_particles=True,record_I_ions=True)  #axon is simulated accordingly - results are saved as a dict\n\n    #####################\n    ## POST PROCESSING ##\n    #####################\n\n    # filter the result to remove 10kHz artefacts\n    results.filter_freq('V_mem',block_freq)\n\n    color_1 = \"#1B148A\"\n    color_2 = \"#C60A00\"\n    color_3 = \"#009913\"\n    color_4 = \"#E2AD00\"\n\n    fig, axs = plt.subplots(3)\n    fig.set_size_inches(8.8, 5)\n    axs[0].plot(results['t'],results['V_mem'][25],label='Node 25',color = color_1,alpha = 0.7)\n    axs[0].plot(results['t'],results['V_mem'][23],label='Node 23',color = color_2)\n    axs[0].plot(results['t'],results['V_mem'][21],label='Node 21',color = color_3)\n    axs[0].set_ylabel('Vm (mV)')\n    axs[0].legend(loc='lower center',ncol = 3,frameon=False)\n    axs[0].set_xlim(0,25)\n    axs[0].set_ylim(-200,100)\n\n    axs[1].plot(results['t'],results['V_mem_filtered'][25],label='Node 25',color = color_1,alpha = 0.7)\n    axs[1].plot(results['t'],results['V_mem_filtered'][23],label='Node 23',color = color_2)\n    axs[1].plot(results['t'],results['V_mem_filtered'][21],label='Node 21',color = color_3)\n    axs[1].set_ylabel('Vm filtered(mV)')\n    axs[1].legend(loc='lower center',ncol = 3,frameon=False)\n    axs[1].set_xlim(0,25)\n    axs[1].set_ylim(-200,100)\n\n    axs[2].plot(results['t'],results['m'][25],label='m',color = color_1,alpha = 0.7)\n    axs[2].plot(results['t'],results['s'][25],label='s',color = color_2)\n    axs[2].plot(results['t'],results['h'][25],label='h',color = color_3)\n    axs[2].plot(results['t'],results['mp'][25],label='mp',color = color_4)\n    axs[2].set_xlabel('Time (ms)')\n    axs[2].set_ylabel('State \\n (Node 25)')\n    axs[2].legend(loc='lower center',ncol = 4,frameon=False)\n    axs[2].set_xlim(0,25)\n    axs[2].set_ylim(0,1.1)\n\n    plt.show()"
      ]
    }
  ],
  "metadata": {
    "kernelspec": {
      "display_name": "Python 3",
      "language": "python",
      "name": "python3"
    },
    "language_info": {
      "codemirror_mode": {
        "name": "ipython",
        "version": 3
      },
      "file_extension": ".py",
      "mimetype": "text/x-python",
      "name": "python",
      "nbconvert_exporter": "python",
      "pygments_lexer": "ipython3",
      "version": "3.12.10"
    }
  },
  "nbformat": 4,
  "nbformat_minor": 0
}