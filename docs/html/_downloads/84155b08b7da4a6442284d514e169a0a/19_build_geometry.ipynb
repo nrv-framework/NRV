{
  "cells": [
    {
      "cell_type": "markdown",
      "metadata": {},
      "source": [
        "\n# Create a CShape geometry\n\nSimple example showing how to handle builtin 2D shapes. More precisely this example shows how to:\n    - create shape by instantiating the corresponding class\n    - create shape using the generic :func:`~nrv.utils.geom.create_cshape`-function\n    - Use basic method implemented in CShape subclasses (:meth:`~nrv.utils.geom.CShape.translate`, :meth:`~nrv.utils.geom.CShape.rotate`, :meth:`~nrv.utils.geom.CShape.get_point_inside`)\n\n\n.. seealso::\n    :doc:`Users' guide <../../usersguide/geometry>`\n"
      ]
    },
    {
      "cell_type": "code",
      "execution_count": null,
      "metadata": {
        "collapsed": false
      },
      "outputs": [],
      "source": [
        "import nrv.utils.geom as geom\nimport matplotlib.pyplot as plt\nimport numpy as np\n\ndef plot_cshape(axes:plt.Axes, csh:geom.CShape, label:str):\n    \"\"\"\n    Plot a CShape with its bounding box\n    \"\"\"\n    # Plot the shape\n    csh.plot(axes, label=\"Trace\")\n\n    # Plot its bounding box\n    csh.plot_bbox(axes, \"-+\",color=(\"k\",.2),label=\"bbox\")\n\n    # plt.axes parameters\n    axes.set_aspect('equal', adjustable='box')\n    axes.set_xlabel('Y-axis')\n    axes.set_ylabel('Z-axis')\n    axes.set_title(label)\n    axes.grid(visible=True)"
      ]
    },
    {
      "cell_type": "markdown",
      "metadata": {},
      "source": [
        "## First method: from the classes\n\n"
      ]
    },
    {
      "cell_type": "code",
      "execution_count": null,
      "metadata": {
        "collapsed": false
      },
      "outputs": [],
      "source": [
        "if __name__ == '__main__':\n\n    fig, axs = plt.subplots(2, 2, layout=\"constrained\")\n\n    center = (1, 1)\n    radius = 2\n    circle = geom.Circle(center, radius)\n    plot_cshape(axes=axs[0,0], csh=circle, label=\"Circle 1\")\n\n\n    center = 1, 1\n    r = 3, 2\n    angle = -np.pi/3 # Rotation angle in degrees\n    ellipse = geom.Ellipse(center, r, angle)\n    plot_cshape(axes=axs[1,0], csh=ellipse, label=\"Ellipse 1\")\n\n\n    points = [[-6,1.5],[3,-2], [-2,1.5],[3,5]]\n    poly = geom.Polygon(vertices=points)\n    plot_cshape(axes=axs[0,1], csh=poly, label=\"Polygon 1\")\n\n\n    points = [[0, 2],[-.6,1.8], [-.8, 1.4], [-.8, 1], [-.6, .6], [0, .4], [.4, .6], [.4, .8], [.2, 1], [0, 1.2], [0, 1.4], [.2, 1.6], [.6, 1.8], [.6, 2], [.6, 2.2]]\n    poly = geom.Polygon(vertices=points)\n    plot_cshape(axes=axs[1,1], csh=poly, label=\"Polygon 2\")\n    axs[1,1].legend()"
      ]
    },
    {
      "cell_type": "markdown",
      "metadata": {},
      "source": [
        "## Second method: from :func:`~nrv.utils.geom.create_cshape`\n\n"
      ]
    },
    {
      "cell_type": "code",
      "execution_count": null,
      "metadata": {
        "collapsed": false
      },
      "outputs": [],
      "source": [
        "if __name__ == '__main__':\n\n    fig, axs = plt.subplots(2, 2, layout=\"constrained\")\n\n    center = (1, 1)\n    radius = 2\n    circle = geom.create_cshape(center=center, radius=radius)\n    plot_cshape(axes=axs[0,0], csh=circle, label=\"Circle\")\n\n\n    center = 1, 1\n    r = 3, 2\n    angle = -np.pi/3 # Rotation angle in degrees\n    ellipse = geom.create_cshape(center=center, radius=r,rot=angle)\n    plot_cshape(axes=axs[1,0], csh=ellipse, label=\"Ellipse\")\n\n\n    points = [[-6,1.5],[3,-2], [-2,1.5],[3,5]]\n    poly1 = geom.create_cshape(vertices=points)\n    plot_cshape(axes=axs[0,1], csh=poly1, label=\"Polygon 1\")\n\n\n    points = [[0, 2],[-.6,1.8], [-.8, 1.4], [-.8, 1], [-.6, .6], [0, .4], [.4, .6], [.4, .8], [.2, 1], [0, 1.2], [0, 1.4], [.2, 1.6], [.6, 1.8], [.6, 2], [.6, 2.2]]\n    poly2 = geom.create_cshape(vertices=points)\n    plot_cshape(axes=axs[1,1], csh=poly2, label=\"Polygon 2\")\n    axs[1,1].legend()"
      ]
    },
    {
      "cell_type": "markdown",
      "metadata": {},
      "source": [
        "## Implemented methods\n\n\n"
      ]
    },
    {
      "cell_type": "code",
      "execution_count": null,
      "metadata": {
        "collapsed": false
      },
      "outputs": [],
      "source": [
        "if __name__ == '__main__':\n\n    fig, axs = plt.subplots(2, 2, layout=\"constrained\")\n\n    plot_cshape(axes=axs[0,0], csh=circle, label=\"Circle\")\n    circle.translate(y=3)\n    plot_cshape(axes=axs[0,0], csh=circle, label=\"Circle\")\n    inside_pts = circle.get_point_inside(100, delta=.5)\n    axs[0,0].scatter(*inside_pts.T, color=(.2,.6,.3,.2), label='generated points', zorder=5)\n\n\n    plot_cshape(axes=axs[1,0], csh=ellipse, label=\"Ellipse\")\n    ellipse.translate(z=-4)\n    plot_cshape(axes=axs[1,0], csh=ellipse, label=\"Ellipse\")\n    ellipse.rotate(60, degree=True)\n    plot_cshape(axes=axs[1,0], csh=ellipse, label=\"Ellipse\")\n    inside_pts = ellipse.get_point_inside(100, delta=.5)\n    axs[1,0].scatter(*inside_pts.T, color=(.2,.6,.3,.2), label='generated points', zorder=5)\n\n\n    plot_cshape(axes=axs[0,1], csh=poly1, label=\"Polygon 1\")\n    poly1.translate(y=3)\n    plot_cshape(axes=axs[0,1], csh=poly1, label=\"Polygon 1\")\n    poly1.rotate(60, degree=True)\n    plot_cshape(axes=axs[0,1], csh=poly1, label=\"Polygon 1\")\n    inside_pts = poly1.get_point_inside(100, delta=.2)\n    axs[0,1].scatter(*inside_pts.T, color=(.2,.6,.3,.2), label='generated points', zorder=5)\n\n\n    plot_cshape(axes=axs[1,1], csh=poly2, label=\"Polygon 2\")\n    poly2.translate(y=-1, z=-2)\n    plot_cshape(axes=axs[1,1], csh=poly2, label=\"Polygon 2\")\n    poly2.rotate(60, degree=True)\n    plot_cshape(axes=axs[1,1], csh=poly2, label=\"Polygon 2\")\n    inside_pts = poly2.get_point_inside(100, delta=.1)\n\n    p = axs[1,1].lines[::2]\n    p += [axs[1,1].lines[1]]\n    p += [axs[1,1].scatter(*inside_pts.T, color=(.2,.6,.3,.2), label='generated points', zorder=5)]\n\n    fig.legend(handles=p, labels=[\"trace\", \"translate\", \"rotate\", \"bbox\", \"get_point_inside\"], loc=(.4,.32))"
      ]
    }
  ],
  "metadata": {
    "kernelspec": {
      "display_name": "Python 3",
      "language": "python",
      "name": "python3"
    },
    "language_info": {
      "codemirror_mode": {
        "name": "ipython",
        "version": 3
      },
      "file_extension": ".py",
      "mimetype": "text/x-python",
      "name": "python",
      "nbconvert_exporter": "python",
      "pygments_lexer": "ipython3",
      "version": "3.12.10"
    }
  },
  "nbformat": 4,
  "nbformat_minor": 0
}