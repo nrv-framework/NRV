{
  "cells": [
    {
      "cell_type": "markdown",
      "metadata": {},
      "source": [
        "\n# Analyzing Action Potentials in Axons\n\nThis script shows how to use the methods of ``axon_results``-class to detect and analyze action potentials.\n"
      ]
    },
    {
      "cell_type": "code",
      "execution_count": null,
      "metadata": {
        "collapsed": false
      },
      "outputs": [],
      "source": [
        "import nrv\nimport matplotlib.pyplot as plt\n\nif __name__ == '__main__':\n    y = 0\n    z = 0\n    d = 10\n    L = 20000\n    #with AP collision\n    axon2 = nrv.myelinated(y,z,d,L,dt=0.005,rec='all')\n    t_start = 2\n    duration = 0.1\n    amplitude = 2\n\n    axon2.insert_I_Clamp(0.5, 2.01, duration, amplitude)\n    axon2.insert_I_Clamp(0.75, 6.01, duration, amplitude)\n    axon2.insert_I_Clamp(0.25, 6.0, duration, amplitude)\n    axon2.insert_I_Clamp(0.75, 8.01, duration, amplitude)\n    axon2.insert_I_Clamp(0.25, 8.0, duration, amplitude)\n    results = axon2.simulate(t_sim=10)\n\n    results.rasterize()\n    x_APs,_,t_APs,_ = results.split_APs()\n\n    print(f\"Number of APs detected: {results.count_APs()}\")\n    print(f\"APs reached end: {results.APs_reached_end()}\")\n    print(f\"APs reached end within the timeframe: {results.APs_in_timeframe()}\")\n    print(f\"InterAP collision detected: {results.detect_AP_collisions()}\")\n    if (results.count_APs()):\n        print(f\"AP propagation velocity: {results.getAPspeed()[0]}m/s\")\n\n    fig,ax = plt.subplots(1)\n    results.colormap_plot(ax)\n\n    fig,axs = plt.subplots(2)\n\n    results.plot_x_t(axs[0],\"V_mem\")\n    axs[0].set_xlabel('time (ms)')\n    axs[0].set_ylabel(\"x-axis (\u00b5m)\")\n    axs[0].set_xlim(0,results['tstop'])\n\n    results.raster_plot(axs[1],\"V_mem\")\n    for x_AP,t_AP in zip(x_APs,t_APs):\n        axs[1].scatter(t_AP,x_AP)\n        x_start,t_start = results.get_start_AP(x_AP,t_AP)\n        x_max,t_xmax = results.get_xmax_AP(x_AP,t_AP)\n        x_min,t_xmin = results.get_xmin_AP(x_AP,t_AP)\n        axs[1].scatter(t_start,x_start,s=10,c = 'k')\n        axs[1].scatter(t_xmax,x_max,s=10,c = 'g')\n        axs[1].scatter(t_xmin,x_min,s=10,c = 'b')\n\n    if results.detect_AP_collisions():\n        x_coll,t_coll,_ = results.get_collision_pts()\n        axs[1].scatter(t_coll,x_coll,s=50,c = 'r')\n\n    axs[1].set_xlabel('time (ms)')\n    axs[1].set_ylabel(\"x-axis (\u00b5m)\")\n    axs[1].set_xlim(0,results['tstop'])\n\n    fig.tight_layout()\n    plt.show()"
      ]
    }
  ],
  "metadata": {
    "kernelspec": {
      "display_name": "Python 3",
      "language": "python",
      "name": "python3"
    },
    "language_info": {
      "codemirror_mode": {
        "name": "ipython",
        "version": 3
      },
      "file_extension": ".py",
      "mimetype": "text/x-python",
      "name": "python",
      "nbconvert_exporter": "python",
      "pygments_lexer": "ipython3",
      "version": "3.12.10"
    }
  },
  "nbformat": 4,
  "nbformat_minor": 0
}