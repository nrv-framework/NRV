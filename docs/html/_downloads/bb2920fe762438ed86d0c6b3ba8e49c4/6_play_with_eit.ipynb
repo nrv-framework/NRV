{
  "cells": [
    {
      "cell_type": "markdown",
      "metadata": {},
      "source": [
        "\n# Tutorial 6 - Play with EIT using NRV\n\nHere is a tutorial showing the basic usage of ``nrv.eit`` sub-package. \n\n.. seealso::\n    Further details on ``eit`` formalism can be found in :doc:`usersguide's EIT section <../usersguide/eit>`.\n\nThe tutorial is divided in 2 sections:\n - **The forward problem**: Measurement data are generated with FEM simulation (using [GMSH](https://gmsh.info/doc/texinfo/gmsh.html) and [FEniCSx](https://docs.fenicsproject.org) libraries) methods embedded in `nrv.eit.forward_problem`.\n - **The forward problem**: Image reconstruction is performed on the measurement data (using [pyEIT](https://github.com/eitcom/pyEIT)) methods implemented in `nrv.eit.inverse_problem`.\n\n<div class=\"alert alert-info\"><h4>Note</h4><p>This tutorial is inspired by the proof of principle of the application of EIT to imaging peripheral nerve activity, as published by [K. Aristovich et al. in 2018](https://iopscience.iop.org/article/10.1088/1741-2552/aad78e)</p></div>\n"
      ]
    },
    {
      "cell_type": "code",
      "execution_count": null,
      "metadata": {
        "collapsed": false
      },
      "outputs": [],
      "source": [
        "import nrv\nimport nrv.eit as eit\nimport numpy as np\nimport matplotlib.pyplot as plt\nimport os\n\n\ntest_id = \"6\"\nres_dir  = f\"./{test_id}/\"\nif \"tutorials\" in os.listdir():\n    res_dir = \"./tutorials\" + res_dir[1:]\n\nnp.random.seed(4444)"
      ]
    },
    {
      "cell_type": "markdown",
      "metadata": {},
      "source": [
        "## Simulate the Measure (*forward problem*)\n\nThe main objective of this part is to simulate, for a given neural activity, the impedance change measured by multipolar cuff electrodes.\n\n### Setting parameters\n\nFirst, let's define the nerve geometry for the simulation. As a case study, we can create a two-fascicle nerve as in a previous tutorial (see :doc:`Tutorial 4 <./4_nerve_simulation>`).\n\n<div class=\"alert alert-info\"><h4>Note</h4><p>Here the generated nerve is only stored in a ``dict``, but it could also be saved in a `.json` file and loaded afterwards.</p></div>\n\n"
      ]
    },
    {
      "cell_type": "code",
      "execution_count": null,
      "metadata": {
        "collapsed": false
      },
      "outputs": [],
      "source": [
        "outer_d = 5     # mm\nnerve_d = 105  # um\nnerve_l = 15010  # um\npercent_unmyel = .7\nunmyelinated_nseg = 3000\naxons_data={\n    \"diameters\":[10.001],\n    \"types\":[1],\n    \"y\":[0],\n    \"z\":[0],\n}\n\nnerve_1 = nrv.nerve(length=nerve_l, diameter=nerve_d, Outer_D=outer_d, postproc_label=\"sample_keys\", record_g_mem=True)\n\n# Adding first fascicle\nn_ax1=30\nfasc1_d = (40, 60)   # um\nfasc1_y = 25     # um\nfasc1_z = 0     # um\nfascicle_1 = nrv.fascicle(diameter=fasc1_d, ID=1, unmyelinated_nseg=unmyelinated_nseg)\nfascicle_1.fill(n_ax=n_ax1, percent_unmyel=percent_unmyel, M_stat=\"Ochoa_M\", U_stat=\"Ochoa_U\", fit_to_size=False,delta=.5, delta_trace=3)\nnerve_1.add_fascicle(fascicle=fascicle_1, y=fasc1_y, z=fasc1_z)\n\n# Adding second fascicle\nn_ax2=10\nfasc2_d = 30   # um\nfasc2_y = -20     # um\nfasc2_z = -10     # um\nfascicle_2 = nrv.fascicle(diameter=fasc2_d, ID=2, unmyelinated_nseg=unmyelinated_nseg)\nfascicle_2.fill(n_ax=n_ax2, percent_unmyel=percent_unmyel, M_stat=\"Ochoa_M\", U_stat=\"Ochoa_U\", fit_to_size=False,delta=.5, delta_trace=3)\nnerve_1.add_fascicle(fascicle=fascicle_2, y=fasc2_y, z=fasc2_z)\n\nnerve_data = nerve_1.save(save=False)\n\nfig, ax = plt.subplots(figsize=(6, 6))\nnerve_1.plot(ax)\n\ndel nerve_1"
      ]
    },
    {
      "cell_type": "markdown",
      "metadata": {},
      "source": [
        "Next, let's define the simulation parameters for the EIT forward problem. \n\n"
      ]
    },
    {
      "cell_type": "code",
      "execution_count": null,
      "metadata": {
        "collapsed": false
      },
      "outputs": [],
      "source": [
        "# This includes specifying the geometry, electrode configuration, stimulation protocol, and other relevant settings required to set up and run the finite element simulation of impedance measurements.\n\nn_proc_global = 3 \n\n\nl_elec = 1000 # um\nx_rec = 3000 # um\ni_drive = 30 # uA\n#dt_fem = 1 # ms\nt_sim=10 # ms\nt_iclamp = 0 # ms\nn_fem_step = 10*n_proc_global\n\ndt_fem = [\n    (2, .75),\n    (7,.4),\n    (-1,.75),\n        ]\n\nn_elec = 16\n\n\nsigma_method = \"mean\"\ninj_protocol_type = \"simple\"\nuse_gnd_elec = True\nparameters = {\"x_rec\":x_rec,\n\"dt_fem\":dt_fem,\n\"inj_protocol_type\":inj_protocol_type,\n\"n_proc_global\":n_proc_global,\n\"l_elec\":l_elec,\n\"i_drive\":i_drive,\n\"sigma_method\":sigma_method,\n\"use_gnd_elec\":use_gnd_elec,\n\"n_elec\":n_elec,\n}"
      ]
    },
    {
      "cell_type": "markdown",
      "metadata": {},
      "source": [
        "### Run the simulation\n\nEIT simulations can be done in three steps:\n\n 1. **Nerve Simulation**: Simulation of the neural context.\n 2. **Mesh Generation**: Creation of the problem geometry and physical domains.\n 3. **EIT Simulation**: Simulation of the electric field inside the nerve for a given injection protocol.\n\n.. Note::\n    These three steps, especially the latter, can be quite long. It can be interesting to adapt the number of process eiter \n\nAll these steps can be done from a single ``eit.EIT2DProblem``-object.\n\nLet's start by instantiate the problem using the parameter set above.\n\n.. tip::\n    You can find a list of tunable attribute in the API documentation (see :class:`nrv.eit.EIT2DProblem`)\n\n"
      ]
    },
    {
      "cell_type": "code",
      "execution_count": null,
      "metadata": {
        "collapsed": false
      },
      "outputs": [],
      "source": [
        "eit_instance = eit.EIT2DProblem(nerve_data, res_dname=res_dir, label=test_id, **parameters)"
      ]
    },
    {
      "cell_type": "markdown",
      "metadata": {},
      "source": [
        "**Nerve Simulation**\n\nAs mention, the first step consist at simulated the electrical conductivity change of axons' membrane induced by the activity. This can be done by calling :meth:`nrv.eit.eit_forward.simulate_nerve`-method.\n\n.. tip::\n    The arguments can be more simply understood as the combinaison of three arguments of the :class:`nrv.nmod.nerve`-class: :meth:`nrv.nrv.nmod.nerve.insert_I_Clamp`, :meth:`nrv.nmod.nerve.set_axons_parameters` and :meth:`nrv.nmod.nerve.simulate`.\n\nBasically, this method:\n\n1. Adapt the nerve-object to match with the problem parameter.\n2. Attach a current clamp to axons in the nerve.\n3. Attach analytical recording points at the center of each electrode\n4. Run the nerve simulation storing the axons' membrane conductivity values for each temporal step of the FEM simulation.\n5. If specified, save the simulation results in a `.json` file (in :attr:`nrv.eit.eit_forward.nerve_res_file`).\n\n<div class=\"alert alert-info\"><h4>Note</h4><p>A customized on the flight post-processing is used to only store required values of membranes conductivity (see :func:`nrv.eit.utils.sample_nerve_results`).</p></div>\n\n"
      ]
    },
    {
      "cell_type": "code",
      "execution_count": null,
      "metadata": {
        "collapsed": false
      },
      "outputs": [],
      "source": [
        "## Nerve simulation\nsim_param = {\"t_sim\":t_sim}\nnrn_res = eit_instance.simulate_nerve(t_start=t_iclamp, sim_param=sim_param, fasc_list=[1])"
      ]
    },
    {
      "cell_type": "markdown",
      "metadata": {},
      "source": [
        "Let's now plot the nerve highlighting the fibres activated during the simulation, as done in :doc:`Tutorial 4 <./4_nerve_simulation>`.\n\n"
      ]
    },
    {
      "cell_type": "code",
      "execution_count": null,
      "metadata": {
        "collapsed": false
      },
      "outputs": [],
      "source": [
        "fig, ax = plt.subplots(figsize=(6, 6))\nnrn_res.plot_recruited_fibers(ax)"
      ]
    },
    {
      "cell_type": "markdown",
      "metadata": {},
      "source": [
        "**FEM Problem**\n\nOnce the nerve simulation is complete, the goal of the following steps is to compute how changes in axonal membrane conductivity affect impedance measurements from extracellular electrodes. This is achieved by using FEM to calculate the electric field inside the nerve over time, for a given current injection between a pair of electrodes.\n\nAlthough this process may seem complex, it has been fully integrated into the ``eit_forward`` class and can be performed in three lines:\n\n1. :meth:`nrv.eit.eit_forward._setup_problem`: Sets up the FEM problem using the geometrical and electrical properties stored in the :class:`nrv.nmod.results.nerve_results` output from the nerve simulation.\n\n<div class=\"alert alert-danger\"><h4>Warning</h4><p>This step may be merged with the next one in future versions of NRV.</p></div>\n\n2. :meth:`nrv.eit.eit_forward.build_mesh`: Builds the mesh corresponding to the nerve geometry, including the multipolar cuff electrodes.\n3. :meth:`nrv.eit.eit_forward.simulate_eit`: Runs the FEM simulation over all time, frequency, and drive pattern steps.\n\n<div class=\"alert alert-info\"><h4>Note</h4><p>Currently, the mesh is always saved in a `.msh` file (see :attr:`nrv.eit.eit_forward.nerve_res_file`) and reloaded at the beginning of each process during the simulation. This behaviour may change in future versions of NRV.</p></div>\n\n"
      ]
    },
    {
      "cell_type": "code",
      "execution_count": null,
      "metadata": {
        "collapsed": false
      },
      "outputs": [],
      "source": [
        "## Impedance simulation\neit_instance._setup_problem()\n# Build mesh\neit_instance.build_mesh()\n\n# Simulate nerve\nfem_res = eit_instance.simulate_eit()"
      ]
    },
    {
      "cell_type": "markdown",
      "metadata": {},
      "source": [
        "The object returned by the EIT simulation is an instance of :class:`nrv.eit.results.eit_forward_results`. The main purposes of this class are to:\n\n- Store the results of the simulations.\n- Facilitate access to specific results.\n- Provide post-processing and plotting tools to analyze the results.\n\nSimilar to other results classes in NRV, this class inherits from :class:`dict`. However, to limit memory usage, only the following keys are stored:\n\n- `\"t\"`: Time vector of the FEM simulation results.\n- `\"f\"`: Frequency vector of simulation results.\n- `\"p\"`: Drive protocol used in the simulation.\n- `\"v_eit\"`: Voltage measurements magnitude from the EIT simulation.\n- `\"v_eit_phase\"`: Phase of the voltage measurements.\n- `\"t_rec\"`: Time vector of the nerve simulation results (for analytical recording).\n- `\"v_rec\"`: Voltage values recorded by the analytical recorders.\n\nIn this tutorial, we primarily use the results to feed the inverse problem and perform image reconstruction. Therefore, the various post-processing tools implemented in this class will not be detailed here.\n\n.. seealso::\n\n    - EIT users' guide.\n    - Examples.\n\nLet's plot the impedance shift measured at each electrode over time for one drive pattern to better understand what have been simulated.\n\n"
      ]
    },
    {
      "cell_type": "code",
      "execution_count": null,
      "metadata": {
        "collapsed": false
      },
      "outputs": [],
      "source": [
        "pat = fem_res[\"p\"][0]\ndv_pc = fem_res.dv_eit(i_p=0)\n\nfig = plt.figure()\n_, axs2 = eit.utils.gen_fig_elec(n_e=fem_res.n_e, fig=fig, )\n\neit.utils.add_nerve_plot(axs=axs2, data=nerve_data, drive_pair=pat)\neit.utils.plot_all_elec(axs=axs2, t=fem_res.t(), res_list=dv_pc,)\neit.utils.scale_axs(axs=axs2, e_gnd=[0], has_nerve=True)"
      ]
    },
    {
      "cell_type": "markdown",
      "metadata": {},
      "source": [
        "The previous plot can be extended to all injection patterns. However, for a 16-electrode protocol, the resulting image is not very readable.\n\n"
      ]
    },
    {
      "cell_type": "code",
      "execution_count": null,
      "metadata": {
        "collapsed": false
      },
      "outputs": [],
      "source": [
        "if n_elec in [8, 16]:\n    fig = plt.figure(figsize=(20, 9))\n    subfigs = fig.subfigures(n_elec//4, 4)\n    axs = np.array([])\n    for i_p, pat in enumerate(fem_res[\"p\"]):\n        dv_pc = fem_res.dv_eit(i_p=i_p)\n        _, axs2 = eit.utils.gen_fig_elec(n_e=fem_res.n_e, fig=subfigs[i_p//4, i_p%4], small_fig=True)\n        eit.utils.add_nerve_plot(axs=axs2, data=nerve_data, drive_pair=pat)\n        eit.utils.plot_all_elec(axs=axs2, t=fem_res.t(), res_list=dv_pc,)\n        axs = np.concatenate([axs, axs2[1:-1]])\n        eit.utils.scale_axs(axs=axs2, e_gnd=[0], has_nerve=True)"
      ]
    },
    {
      "cell_type": "markdown",
      "metadata": {},
      "source": [
        ".. tip::\n    As mention above, only the voltage measured by the electrode is saved in eit_forward_results. To better understand the computed results, or to debug some eventual issues, it is still possible to save the electric field in the whole nerve. This can be done using the :meth:`nrv.eit.eit_forward.run_and_savefem`-method as bellow. This method save the output of the FEM in a ``.bp`` folder which can be open with [Paraview](https://www.paraview.org).\n\n        eit_instance.run_and_savefem(sfile=res_dir+\"test\")\n\n"
      ]
    },
    {
      "cell_type": "markdown",
      "metadata": {},
      "source": [
        "## Reconstruct the image (*inverse problem*)\n\nThe reconstruction is adapted from the *Pyeit* [dynamic Jacobian example](https://github.com/eitcom/pyEIT/tree/master/examples).\n\nThe reconstruction consists of finding the conductivity distribution in a mesh that best matches the measurements. This adjustment is carried out using optimization algorithms and can be processed by *pyEIT* as follows:\n\n1. Results must be formatted to be compatible with *PyEIT* (a 1D array containing the differential measurements in the correct order).\n2. The measurement parameters (number of electrodes, type of protocol, ...) must be defined with *PyEIT* tools.\n3. The *PyEIT* solver must be set and apply at to reconstruct the map of activity in the nerve at desired time steps.\n\n**Implementation**\n\nIn NRV, this all this can be done using the :class:`nrv.eit.pyeit_inverse`-class. As shown bellow, this class can be directly instantiated from an :class:`nrv.eit.results.eit_forward_results`\n\n"
      ]
    },
    {
      "cell_type": "code",
      "execution_count": null,
      "metadata": {
        "collapsed": false
      },
      "outputs": [],
      "source": [
        "inv_pb = eit.pyeit_inverse(data=fem_res)"
      ]
    },
    {
      "cell_type": "code",
      "execution_count": null,
      "metadata": {
        "collapsed": false
      },
      "outputs": [],
      "source": [
        "print(fem_res.v_eit(i_t=0,signed=True).shape)\nplt.figure()\nplt.plot(fem_res.v_eit(i_t=0,signed=True))\n\nplt.xlabel(\"# drive electrode pair\")\nplt.ylabel(\"voltage (V)\")\nplt.title(\"Single ended measurements\")\nplt.figure()\nplt.plot(inv_pb.fromat_data())\nplt.xlabel(\"# drive electrode pair\")\nplt.ylabel(\"voltage (V)\")\nplt.title(\"Diferentrial measurements\")"
      ]
    },
    {
      "cell_type": "markdown",
      "metadata": {},
      "source": [
        "For this first tutorial, only one image will be generated at the peak of activity.\n\nThe reconstruction method used is dynamic, thus two sets of measurements are required:\n\n - When the fibres are at rest `t=0` (``i_t=0``).\n - At the peak of activity `t=t_max`.\n\nTo find the index ``i_tmax``, a simple method consists of examining ``res.dv_eit`` for one electrode over time and finding the time point where the absolute value is maximal, as done in the next cell.\n\n"
      ]
    },
    {
      "cell_type": "code",
      "execution_count": null,
      "metadata": {
        "collapsed": false
      },
      "outputs": [],
      "source": [
        "_dv = fem_res.dv_eit(i_e=fem_res.n_e//2, i_p=0,)\n\ni_tmax = np.argmax(np.abs(_dv))\n\nprint(f\"t_max={fem_res[\"t\"][i_tmax]}ms, (i_tmax={i_tmax})\")\n\n\nfig, ax = plt.subplots()\nax.plot(fem_res.t(), fem_res.dv_eit(i_e=fem_res.n_e//2, i_p=0), label=f\"Voltage shift measured by E{int(fem_res.n_e//2)}\")\nax.axvline(fem_res[\"t\"][i_tmax], color=(\"r\",.8), label=\"Measurment time used for\\n the reconstruction\")\nax.set_xlabel(\"time ($ms$)\")\nax.set_ylabel(\"voltage ($V$)\")\nax.legend()"
      ]
    },
    {
      "cell_type": "markdown",
      "metadata": {},
      "source": [
        "If required the data formatted for pyEIT solvers can be extracted using `fromat_data` as shown bellow:\n\n"
      ]
    },
    {
      "cell_type": "code",
      "execution_count": null,
      "metadata": {
        "collapsed": false
      },
      "outputs": [],
      "source": [
        "v0 = inv_pb.fromat_data(i_t=0)\nv1 = inv_pb.fromat_data(i_t=i_tmax)\n\nfig, axs = plt.subplots(2)\naxs[0].plot(v0, \"-o\")\naxs[0].plot(v1, \"-o\")\n\naxs[1].plot(v1-v0)"
      ]
    },
    {
      "cell_type": "markdown",
      "metadata": {},
      "source": [
        "Here is where the reconstruction is done. \n\nTo reconstruct the images from the measurements the mesh and scan protocol have to be initialized in *Pyeit*\n\nThen the solver object is defined and used on the two sets of measurements. \n\n"
      ]
    },
    {
      "cell_type": "code",
      "execution_count": null,
      "metadata": {
        "collapsed": false
      },
      "outputs": [],
      "source": [
        "ds = inv_pb.solve(i_t=i_tmax)[0]\n\nprint(type(ds), ds.shape, inv_pb.mesh_obj.node.shape, inv_pb.mesh_obj.element.shape)"
      ]
    },
    {
      "cell_type": "markdown",
      "metadata": {},
      "source": [
        "Finally, the reconstruction can be plotted with `matplotlib` as bellow:\n\n"
      ]
    },
    {
      "cell_type": "code",
      "execution_count": null,
      "metadata": {
        "collapsed": false
      },
      "outputs": [],
      "source": [
        "# draw\nfig, axs2 = plt.subplots(1, 2, figsize=(11, 9))\n\nnrn_res.plot_recruited_fibers(axs2[0])\naxs2[0].set_title(\"Simulated nerve\")\naxs2[0].set_axis_off()\n\ninv_pb.plot(ax=axs2[1], i_t=i_tmax)\naxs2[1].set_title(\"Reconstructed image\")\naxs2[1].set_aspect(\"equal\", adjustable=\"box\")"
      ]
    },
    {
      "cell_type": "markdown",
      "metadata": {},
      "source": [
        "An additional filter can be applied when plotting the reconstructed image.\n\n"
      ]
    },
    {
      "cell_type": "code",
      "execution_count": null,
      "metadata": {
        "collapsed": false
      },
      "outputs": [],
      "source": [
        "# As an example lets use a simple threshold filter (see :func:`nrv.eit.utils.thr_window`) to highlight only the activated region.\n\nfig, ax2 = plt.subplots(figsize=(11, 9))\ninv_pb.plot(ax=ax2, i_t=i_tmax, filter=eit.utils.thr_window)"
      ]
    },
    {
      "cell_type": "markdown",
      "metadata": {},
      "source": [
        "## Second fascicle activation\n\nTo summarize more concisely, the same process can be repeated for activity generated only in the second (left) fascicle.\n\n### Forward problem\n\n"
      ]
    },
    {
      "cell_type": "code",
      "execution_count": null,
      "metadata": {
        "collapsed": false
      },
      "outputs": [],
      "source": [
        "eit_instance = eit.EIT2DProblem(nerve_data, res_dname=res_dir, label=test_id, **parameters)\n\n## Nerve simulation\nsim_param = {\"t_sim\":t_sim}\nnrn_res_2 = eit_instance.simulate_nerve(t_start=t_iclamp, sim_param=sim_param, fasc_list=[2])\n\n\n## Impedance simulation\neit_instance._setup_problem()\n# Build mesh\neit_instance.build_mesh()\n# Simulate nerve\nfem_res_2 = eit_instance.simulate_eit()"
      ]
    },
    {
      "cell_type": "markdown",
      "metadata": {},
      "source": [
        "### Inverse problem\n\n"
      ]
    },
    {
      "cell_type": "code",
      "execution_count": null,
      "metadata": {
        "collapsed": false
      },
      "outputs": [],
      "source": [
        "inv_pb_2 = eit.pyeit_inverse(data=fem_res_2)\n\nds = inv_pb_2.solve(i_t=i_tmax)[0]\n\n# draw\nfig, axs2 = plt.subplots(1, 2, figsize=(11, 9))\nnrn_res_2.plot_recruited_fibers(axs2[0])\n\naxs2[0].set_title(\"Simulated nerve\")\n\ninv_pb_2.plot(ax=axs2[1], i_t=i_tmax)\naxs2[1].set_title(\"Reconstructed image\")\naxs2[1].set_aspect(\"equal\", adjustable=\"box\")"
      ]
    },
    {
      "cell_type": "markdown",
      "metadata": {},
      "source": [
        "### Final summary plot\n\n"
      ]
    },
    {
      "cell_type": "code",
      "execution_count": null,
      "metadata": {
        "collapsed": false
      },
      "outputs": [],
      "source": [
        "# draw\nfig, axs = plt.subplots(2, 3, figsize=(11, 9), layout=\"constrained\")\n\nnrn_res.plot_recruited_fibers(axs[0,0])\naxs[0,0].set_axis_off()\n\ninv_pb.plot(ax=axs[0,1], i_t=i_tmax)\naxs[0,1].set_aspect(\"equal\", adjustable=\"box\")\ninv_pb.plot(ax=axs[0,2], i_t=i_tmax, filter=eit.utils.thr_window)\naxs[0,2].set_aspect(\"equal\", adjustable=\"box\")\nnrn_res_2.plot_recruited_fibers(axs[1,0])\naxs[1,0].set_axis_off()\n\ninv_pb_2.plot(ax=axs[1,1], i_t=i_tmax)\naxs[1,1].set_aspect(\"equal\", adjustable=\"box\")\ninv_pb_2.plot(ax=axs[1,2], i_t=i_tmax, filter=eit.utils.thr_window)\naxs[1,2].set_aspect(\"equal\", adjustable=\"box\")\n\naxs[0,0].set_title(\"Simulated nerve\")\naxs[0,1].set_title(\"Reconstructed image\")\naxs[0,2].set_title(\"Filtered reconstruction\")"
      ]
    }
  ],
  "metadata": {
    "kernelspec": {
      "display_name": "Python 3",
      "language": "python",
      "name": "python3"
    },
    "language_info": {
      "codemirror_mode": {
        "name": "ipython",
        "version": 3
      },
      "file_extension": ".py",
      "mimetype": "text/x-python",
      "name": "python",
      "nbconvert_exporter": "python",
      "pygments_lexer": "ipython3",
      "version": "3.12.10"
    }
  },
  "nbformat": 4,
  "nbformat_minor": 0
}