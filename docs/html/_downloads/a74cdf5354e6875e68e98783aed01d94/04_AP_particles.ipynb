{
  "cells": [
    {
      "cell_type": "markdown",
      "metadata": {},
      "source": [
        "\n# Conductance model dynamic with stimulation\n\nThis code highlith how to retrieve particle dynamics in results.\n"
      ]
    },
    {
      "cell_type": "code",
      "execution_count": null,
      "metadata": {
        "collapsed": false
      },
      "outputs": [],
      "source": [
        "import nrv\nimport matplotlib.pyplot as plt\n\nif __name__ == '__main__':\n\n    # nrvon def\n    y = 0\t\t\t\t\t\t\t\t\t# nrvon y position, in [um]\n    z = 0\t\t\t\t\t\t\t\t\t# nrvon z position, in [um]\n    d = 1\t\t\t\t\t\t\t\t\t# nrvon diameter, in [um]\n\n    plot_node = 50\n\n    dt = 0.005\n    t_sim = 8\n\n    # first test pulse\n    L = 5000\n    t_start = 1\n    duration = 0.5\n    amplitude = 0.35\n\n    axon1 = nrv.unmyelinated(y,z,d,L,T = 21,model='HH',dt=0.001,Nrec=100)\n    axon1.insert_I_Clamp(0.5, t_start, duration, amplitude)\n    results = axon1.simulate(t_sim=t_sim,record_I_ions=True, record_particles=True)\n\n    del axon1\n\n    color_1 = \"#1B148A\"\n    color_2 = \"#C60A00\"\n    color_3 = \"#009913\"\n    color_4 = \"#E2AD00\"\n\n    V_rest= results['V_mem'][plot_node][0]\n\n    fig, axs = plt.subplots(2)\n    fig.set_size_inches(5, 7)\n    axs[0].plot(results['t'],results['V_mem'][plot_node],color = color_1,alpha = 1)\n    axs[0].axhline(y = V_rest, color = 'gray', linestyle = '--')\n    #axs[0].set_xlabel('time (ms)')\n    axs[0].set_ylabel('$V_m$ (mV)')\n    axs[0].set_xlim(0,t_sim)\n    axs[0].set_ylim(-100,40)\n    axs[0].grid(True)\n    axs[0].text(0.6,-38.0,'(1)')\n    axs[0].text(1.9,-13.0,'(2)')\n    axs[0].text(2.5,-85.0,'(3)')\n\n\n    axs[1].plot(results['t'],results['m'][plot_node],label='m',color = color_2,alpha = 1)\n    axs[1].plot(results['t'],results['n'][plot_node],label='n',color = color_3)\n    axs[1].plot(results['t'],results['h'][plot_node],label='h',color = color_4)\n    axs[1].set_xlabel('Time (ms)')\n    axs[1].set_ylabel('Gating Variables')\n    axs[1].set_xlim(0,t_sim)\n    axs[1].set_ylim(0,1.1)\n    axs[1].grid(True)\n    axs[1].text(7,0.70,'h',color = color_4)\n    axs[1].text(7,0.30,'n',color = color_3)\n    axs[1].text(7,0.07,'m',color = color_2)\n    axs[0].set_title('Dynamics for suprathreshold stimulation')\n\n\n    amplitude = 0.195\n    axon1 = nrv.unmyelinated(y,z,d,L,model='HH',dt=0.001,Nrec=100,T=21)\n    axon1.insert_I_Clamp(0.5, t_start, duration, amplitude)\n    results = axon1.simulate(t_sim=t_sim,record_I_ions=True, record_particles=True)\n\n    del axon1\n\n    V_rest= results['V_mem'][plot_node][0]\n    fig, axs = plt.subplots(2)\n    fig.set_size_inches(5, 7)\n    axs[0].plot(results['t'],results['V_mem'][plot_node],color = color_1,alpha = 1)\n    axs[0].axhline(y = V_rest, color = 'gray', linestyle = '--')\n    #axs[0].set_xlabel('time (ms)')\n    axs[0].set_ylabel(r'$V_m$ (mV)')\n    axs[0].set_xlim(0,t_sim)\n    axs[0].set_ylim(-100,40)\n    axs[0].grid(True)\n\n\n    axs[1].plot(results['t'],results['m'][plot_node],label='m',color = color_2,alpha = 1)\n    axs[1].plot(results['t'],results['n'][plot_node],label='n',color = color_3)\n    axs[1].plot(results['t'],results['h'][plot_node],label='h',color = color_4)\n    axs[1].set_xlabel('Time (ms)')\n    axs[1].set_ylabel('Gating Variables')\n    axs[1].set_xlim(0,t_sim)\n    axs[1].set_ylim(0,1.1)\n    axs[1].grid(True)\n    axs[1].text(7,0.70,'h',color = color_4)\n    axs[1].text(7,0.30,'n',color = color_3)\n    axs[1].text(7,0.07,'m',color = color_2)\n    axs[0].set_title('Dynamics for subthreshold stimulation')\n    plt.show()"
      ]
    }
  ],
  "metadata": {
    "kernelspec": {
      "display_name": "Python 3",
      "language": "python",
      "name": "python3"
    },
    "language_info": {
      "codemirror_mode": {
        "name": "ipython",
        "version": 3
      },
      "file_extension": ".py",
      "mimetype": "text/x-python",
      "name": "python",
      "nbconvert_exporter": "python",
      "pygments_lexer": "ipython3",
      "version": "3.12.10"
    }
  },
  "nbformat": 4,
  "nbformat_minor": 0
}