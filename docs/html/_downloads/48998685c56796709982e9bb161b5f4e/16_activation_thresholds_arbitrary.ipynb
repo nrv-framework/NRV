{
  "cells": [
    {
      "cell_type": "markdown",
      "metadata": {},
      "source": [
        "\n# Activation thresholds with arbitrary settings\n\nThis script shows how to use the ``axon_AP_threshold()`` function to evaluate axon thresholds with various stimulation waveforms.\n"
      ]
    },
    {
      "cell_type": "code",
      "execution_count": null,
      "metadata": {
        "collapsed": false
      },
      "outputs": [],
      "source": [
        "import nrv\nimport matplotlib.pyplot as plt\n\n#Update function for cathodic (monopolar) pulse\ndef cath_pulse_update(axon,amp, pw, start_p = 1, elec_id = 0):\n    stim_1 = nrv.stimulus()\n    stim_1.pulse(start=start_p, duration=pw, value = -amp)\n    axon.change_stimulus_from_electrode(elec_id, stim_1)\n\n#Update function for biphasic pulse\ndef biphasic_pulse_update(axon,amp, pw, start_p = 1, elec_id = 0,t_inter=50e-3):\n    stim_1 = nrv.stimulus()\n    stim_1.biphasic_pulse(start = start_p, s_anod=amp,t_stim=pw,s_cathod=amp,t_inter=t_inter)\n    axon.change_stimulus_from_electrode(elec_id, stim_1)\n\n#Update function for cathodic sine pulse\ndef cath_sine_pulse_update(axon,amp, pw, start_p = 1, elec_id = 0):\n    stim_1 = nrv.stimulus()\n    freq = 1/(2*pw)\n    stim_1.sinus(start_p, pw, amp, freq, offset=0, phase=180, dt=0)\n    axon.change_stimulus_from_electrode(elec_id, stim_1)\n\nif __name__ == '__main__':\n    # axon def\n    y = 0       # axon y position, in [um]\n    z = 0       # axon z position, in [um]\n    d = 10      # axon diameter, in [um]\n    L = 50_000  # axon length, along x axis, in [um]\n    axon1 = nrv.myelinated(y,z,d,L,T=37,rec='nodes',dt=0.001)\n\n    #electrode\n    n_node = len(axon1.x_nodes)\n    x_elec = axon1.x_nodes[n_node//2]\n    y_elec = 1000\n    z_elec = 0\n    PSA = nrv.point_source_electrode(x_elec,y_elec,z_elec)\n    stim1 = nrv.stimulus() #dummy stim\n\n    ### define extra cellular stimulation\n    extra_stim = nrv.stimulation('endoneurium_bhadra')\n    extra_stim.add_electrode(PSA, stim1)\n    axon1.attach_extracellular_stimulation(extra_stim)\n\n    #parameters for the waveforms\n    arg_stim = {'pw':50e-3, 'elec_id':0, 'start_p':1}\n    max_amp = 300 #maximum search boundary\n\n    threshold_pulse = nrv.axon_AP_threshold(axon = axon1,amp_max = max_amp, update_func = cath_pulse_update, args_update=arg_stim)\n    threshold_biphasic = nrv.axon_AP_threshold(axon = axon1,amp_max = max_amp, update_func = biphasic_pulse_update, args_update=arg_stim)\n    threshold_sine = nrv.axon_AP_threshold(axon = axon1,amp_max = max_amp, update_func = cath_sine_pulse_update, args_update=arg_stim)\n\n    plt.plot([0.25], [threshold_pulse], \"s\", markersize=10, label=\"pulse\", color=\"c\")\n    plt.plot([1.25], [threshold_biphasic], \"s\", markersize=10, label=\"biphasic\", color=\"orange\")\n    plt.plot([2.25], [threshold_sine], \"s\", markersize=10, label=\"sine\", color=\"limegreen\")\n    plt.fill_between([0, 0.5], [threshold_pulse, threshold_pulse], 0, color=\"c\")\n    plt.fill_between([1,1.5], [threshold_biphasic, threshold_biphasic], 0, color=\"orange\")\n    plt.fill_between([2, 2.5], [threshold_sine, threshold_sine], 0, color=\"limegreen\")\n    plt.xticks([])\n    plt.xlabel(\"stimulus type\")\n    plt.ylabel(\"amplitude $\\mu m$\")\n    plt.legend()\n    plt.show()"
      ]
    }
  ],
  "metadata": {
    "kernelspec": {
      "display_name": "Python 3",
      "language": "python",
      "name": "python3"
    },
    "language_info": {
      "codemirror_mode": {
        "name": "ipython",
        "version": 3
      },
      "file_extension": ".py",
      "mimetype": "text/x-python",
      "name": "python",
      "nbconvert_exporter": "python",
      "pygments_lexer": "ipython3",
      "version": "3.12.10"
    }
  },
  "nbformat": 4,
  "nbformat_minor": 0
}