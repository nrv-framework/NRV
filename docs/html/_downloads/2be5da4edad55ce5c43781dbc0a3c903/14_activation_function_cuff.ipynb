{
  "cells": [
    {
      "cell_type": "markdown",
      "metadata": {},
      "source": [
        "\n# Activation function with a cuff-like electrode\n\nThis script evaluates the activation function for a cuff-like electrode\n"
      ]
    },
    {
      "cell_type": "code",
      "execution_count": null,
      "metadata": {
        "collapsed": false
      },
      "outputs": [],
      "source": [
        "import nrv\nimport matplotlib.pyplot as plt\nimport numpy as np\nfrom scipy import signal\n\ndef move_mean(A, N):\n    A = signal.savgol_filter(A, N, 3)\n    #A = np.convolve(A, np.ones(N)/N, mode='valid')\n    return A\n\ndef derivate(A, n_order, N=99):\n    for _ in range(n_order):\n        A = np.diff(A)\n        A = move_mean(A, N)\n    return A\n\nif __name__ == '__main__':\n    my_model = \"Nerve_1_Fascicle_1_CUFF\" #Optional, only if comsol is used\n\n    ##### extracellular context\n    fem_mod = nrv.FEM_stimulation()                         #if fenicsx\n    #fem_mod = nrv.FEM_stimulation(model_fname=my_model)     #if comsol\n\n    ### Simulation box size\n    Outer_D = 6 #in mm\n\n    #### Nerve and fascicle geometry\n    L = 10000               #in um\n    Nerve_D = 1000          #in um\n    Fascicle_D = 800        #in um\n\n    fem_mod.reshape_outerBox(Outer_D)\n    fem_mod.reshape_nerve(Nerve_D, L)\n    fem_mod.reshape_fascicle(Fascicle_D)\n\n    ##### electrodes and stimuli definition\n    contact_length=500          #in um\n    contact_thickness=100       #in um\n    insulator_length=1000       #in um\n    insulator_thickness=500     #in um\n    x_center = L/2\n\n    cuff = nrv.CUFF_electrode('CUFF_1', contact_length=contact_length,\\\n        contact_thickness=contact_thickness, insulator_length=insulator_length,\\\n        insulator_thickness=insulator_thickness, x_center=x_center)\n\n    # stimulus def\n    start = 1\n    I_cathod = 500\n    I_anod = I_cathod/5\n    T_cathod = 60e-3\n    T_inter = 40e-3\n    stim1 = nrv.stimulus()\n    stim1.biphasic_pulse(start, I_cathod, T_cathod, I_anod, T_inter)\n\n    #attach stim and electrode to the FEM model\n    fem_mod.add_electrode(cuff, stim1)\n\n    ##### compute footprints\n    x = np.linspace(0,L,num=1000)\n    y = 0\n    z = 0\n\n    fem_mod.compute_electrodes_footprints(x, y, z, ID=0)\n    ftp = cuff.footprint\n    acti_function = derivate(ftp, 2)\n    acti_function = acti_function/np.max(acti_function)\n\n    fig,ax = plt.subplots(1)\n    x_plot = np.linspace(0,L, len(acti_function))\n    ax.plot(x_plot, acti_function)\n    ax.set_ylabel(r'Activation Function ($\\Delta^2V_e$)')\n    ax.set_xlabel('x-axis (\u00b5m)')\n    fig.tight_layout()\n    plt.show()"
      ]
    }
  ],
  "metadata": {
    "kernelspec": {
      "display_name": "Python 3",
      "language": "python",
      "name": "python3"
    },
    "language_info": {
      "codemirror_mode": {
        "name": "ipython",
        "version": 3
      },
      "file_extension": ".py",
      "mimetype": "text/x-python",
      "name": "python",
      "nbconvert_exporter": "python",
      "pygments_lexer": "ipython3",
      "version": "3.12.10"
    }
  },
  "nbformat": 4,
  "nbformat_minor": 0
}